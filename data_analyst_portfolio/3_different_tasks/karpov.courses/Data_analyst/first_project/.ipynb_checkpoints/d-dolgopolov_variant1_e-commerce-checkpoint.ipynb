{
 "cells": [
  {
   "cell_type": "code",
   "execution_count": 92,
   "metadata": {},
   "outputs": [],
   "source": [
    "import pandas as pd\n",
    "from calendar import monthrange\n",
    "import numpy as np\n",
    "from operator import attrgetter\n",
    "\n",
    "import matplotlib.pyplot as plt\n",
    "%matplotlib inline"
   ]
  },
  {
   "cell_type": "code",
   "execution_count": 3,
   "metadata": {},
   "outputs": [],
   "source": [
    "path_to_data = '/mnt/HC_Volume_18315164/home-jupyter/jupyter-d-dolgopolov/projects/\\\n",
    "first_project_data/'"
   ]
  },
  {
   "cell_type": "markdown",
   "metadata": {},
   "source": [
    "**1. Выгрузка данных из .csv в df**"
   ]
  },
  {
   "cell_type": "code",
   "execution_count": 4,
   "metadata": {},
   "outputs": [],
   "source": [
    "customers = pd.read_csv(path_to_data + 'olist_customers_dataset.csv')"
   ]
  },
  {
   "cell_type": "code",
   "execution_count": 5,
   "metadata": {},
   "outputs": [],
   "source": [
    "orders = pd.read_csv(path_to_data + 'olist_orders_dataset.csv')"
   ]
  },
  {
   "cell_type": "code",
   "execution_count": 6,
   "metadata": {},
   "outputs": [],
   "source": [
    "order_items = pd.read_csv(path_to_data + 'olist_order_items_dataset.csv')"
   ]
  },
  {
   "cell_type": "markdown",
   "metadata": {},
   "source": [
    "**2. Проверка выгрузки данных, типов данных в столбцах**"
   ]
  },
  {
   "cell_type": "markdown",
   "metadata": {},
   "source": [
    "*2.1. Customers*"
   ]
  },
  {
   "cell_type": "code",
   "execution_count": 7,
   "metadata": {},
   "outputs": [
    {
     "data": {
      "text/html": [
       "<div>\n",
       "<style scoped>\n",
       "    .dataframe tbody tr th:only-of-type {\n",
       "        vertical-align: middle;\n",
       "    }\n",
       "\n",
       "    .dataframe tbody tr th {\n",
       "        vertical-align: top;\n",
       "    }\n",
       "\n",
       "    .dataframe thead th {\n",
       "        text-align: right;\n",
       "    }\n",
       "</style>\n",
       "<table border=\"1\" class=\"dataframe\">\n",
       "  <thead>\n",
       "    <tr style=\"text-align: right;\">\n",
       "      <th></th>\n",
       "      <th>customer_id</th>\n",
       "      <th>customer_unique_id</th>\n",
       "      <th>customer_zip_code_prefix</th>\n",
       "      <th>customer_city</th>\n",
       "      <th>customer_state</th>\n",
       "    </tr>\n",
       "  </thead>\n",
       "  <tbody>\n",
       "    <tr>\n",
       "      <th>0</th>\n",
       "      <td>06b8999e2fba1a1fbc88172c00ba8bc7</td>\n",
       "      <td>861eff4711a542e4b93843c6dd7febb0</td>\n",
       "      <td>14409</td>\n",
       "      <td>franca</td>\n",
       "      <td>SP</td>\n",
       "    </tr>\n",
       "    <tr>\n",
       "      <th>1</th>\n",
       "      <td>18955e83d337fd6b2def6b18a428ac77</td>\n",
       "      <td>290c77bc529b7ac935b93aa66c333dc3</td>\n",
       "      <td>9790</td>\n",
       "      <td>sao bernardo do campo</td>\n",
       "      <td>SP</td>\n",
       "    </tr>\n",
       "    <tr>\n",
       "      <th>2</th>\n",
       "      <td>4e7b3e00288586ebd08712fdd0374a03</td>\n",
       "      <td>060e732b5b29e8181a18229c7b0b2b5e</td>\n",
       "      <td>1151</td>\n",
       "      <td>sao paulo</td>\n",
       "      <td>SP</td>\n",
       "    </tr>\n",
       "    <tr>\n",
       "      <th>3</th>\n",
       "      <td>b2b6027bc5c5109e529d4dc6358b12c3</td>\n",
       "      <td>259dac757896d24d7702b9acbbff3f3c</td>\n",
       "      <td>8775</td>\n",
       "      <td>mogi das cruzes</td>\n",
       "      <td>SP</td>\n",
       "    </tr>\n",
       "    <tr>\n",
       "      <th>4</th>\n",
       "      <td>4f2d8ab171c80ec8364f7c12e35b23ad</td>\n",
       "      <td>345ecd01c38d18a9036ed96c73b8d066</td>\n",
       "      <td>13056</td>\n",
       "      <td>campinas</td>\n",
       "      <td>SP</td>\n",
       "    </tr>\n",
       "  </tbody>\n",
       "</table>\n",
       "</div>"
      ],
      "text/plain": [
       "                        customer_id                customer_unique_id  \\\n",
       "0  06b8999e2fba1a1fbc88172c00ba8bc7  861eff4711a542e4b93843c6dd7febb0   \n",
       "1  18955e83d337fd6b2def6b18a428ac77  290c77bc529b7ac935b93aa66c333dc3   \n",
       "2  4e7b3e00288586ebd08712fdd0374a03  060e732b5b29e8181a18229c7b0b2b5e   \n",
       "3  b2b6027bc5c5109e529d4dc6358b12c3  259dac757896d24d7702b9acbbff3f3c   \n",
       "4  4f2d8ab171c80ec8364f7c12e35b23ad  345ecd01c38d18a9036ed96c73b8d066   \n",
       "\n",
       "   customer_zip_code_prefix          customer_city customer_state  \n",
       "0                     14409                 franca             SP  \n",
       "1                      9790  sao bernardo do campo             SP  \n",
       "2                      1151              sao paulo             SP  \n",
       "3                      8775        mogi das cruzes             SP  \n",
       "4                     13056               campinas             SP  "
      ]
     },
     "execution_count": 7,
     "metadata": {},
     "output_type": "execute_result"
    }
   ],
   "source": [
    "customers.head()"
   ]
  },
  {
   "cell_type": "code",
   "execution_count": 8,
   "metadata": {},
   "outputs": [
    {
     "data": {
      "text/plain": [
       "customer_id                 object\n",
       "customer_unique_id          object\n",
       "customer_zip_code_prefix     int64\n",
       "customer_city               object\n",
       "customer_state              object\n",
       "dtype: object"
      ]
     },
     "execution_count": 8,
     "metadata": {},
     "output_type": "execute_result"
    }
   ],
   "source": [
    "customers.dtypes"
   ]
  },
  {
   "cell_type": "markdown",
   "metadata": {},
   "source": [
    "*2.2. Orders*"
   ]
  },
  {
   "cell_type": "code",
   "execution_count": 9,
   "metadata": {},
   "outputs": [
    {
     "data": {
      "text/html": [
       "<div>\n",
       "<style scoped>\n",
       "    .dataframe tbody tr th:only-of-type {\n",
       "        vertical-align: middle;\n",
       "    }\n",
       "\n",
       "    .dataframe tbody tr th {\n",
       "        vertical-align: top;\n",
       "    }\n",
       "\n",
       "    .dataframe thead th {\n",
       "        text-align: right;\n",
       "    }\n",
       "</style>\n",
       "<table border=\"1\" class=\"dataframe\">\n",
       "  <thead>\n",
       "    <tr style=\"text-align: right;\">\n",
       "      <th></th>\n",
       "      <th>order_id</th>\n",
       "      <th>customer_id</th>\n",
       "      <th>order_status</th>\n",
       "      <th>order_purchase_timestamp</th>\n",
       "      <th>order_approved_at</th>\n",
       "      <th>order_delivered_carrier_date</th>\n",
       "      <th>order_delivered_customer_date</th>\n",
       "      <th>order_estimated_delivery_date</th>\n",
       "    </tr>\n",
       "  </thead>\n",
       "  <tbody>\n",
       "    <tr>\n",
       "      <th>0</th>\n",
       "      <td>e481f51cbdc54678b7cc49136f2d6af7</td>\n",
       "      <td>9ef432eb6251297304e76186b10a928d</td>\n",
       "      <td>delivered</td>\n",
       "      <td>2017-10-02 10:56:33</td>\n",
       "      <td>2017-10-02 11:07:15</td>\n",
       "      <td>2017-10-04 19:55:00</td>\n",
       "      <td>2017-10-10 21:25:13</td>\n",
       "      <td>2017-10-18 00:00:00</td>\n",
       "    </tr>\n",
       "    <tr>\n",
       "      <th>1</th>\n",
       "      <td>53cdb2fc8bc7dce0b6741e2150273451</td>\n",
       "      <td>b0830fb4747a6c6d20dea0b8c802d7ef</td>\n",
       "      <td>delivered</td>\n",
       "      <td>2018-07-24 20:41:37</td>\n",
       "      <td>2018-07-26 03:24:27</td>\n",
       "      <td>2018-07-26 14:31:00</td>\n",
       "      <td>2018-08-07 15:27:45</td>\n",
       "      <td>2018-08-13 00:00:00</td>\n",
       "    </tr>\n",
       "    <tr>\n",
       "      <th>2</th>\n",
       "      <td>47770eb9100c2d0c44946d9cf07ec65d</td>\n",
       "      <td>41ce2a54c0b03bf3443c3d931a367089</td>\n",
       "      <td>delivered</td>\n",
       "      <td>2018-08-08 08:38:49</td>\n",
       "      <td>2018-08-08 08:55:23</td>\n",
       "      <td>2018-08-08 13:50:00</td>\n",
       "      <td>2018-08-17 18:06:29</td>\n",
       "      <td>2018-09-04 00:00:00</td>\n",
       "    </tr>\n",
       "    <tr>\n",
       "      <th>3</th>\n",
       "      <td>949d5b44dbf5de918fe9c16f97b45f8a</td>\n",
       "      <td>f88197465ea7920adcdbec7375364d82</td>\n",
       "      <td>delivered</td>\n",
       "      <td>2017-11-18 19:28:06</td>\n",
       "      <td>2017-11-18 19:45:59</td>\n",
       "      <td>2017-11-22 13:39:59</td>\n",
       "      <td>2017-12-02 00:28:42</td>\n",
       "      <td>2017-12-15 00:00:00</td>\n",
       "    </tr>\n",
       "    <tr>\n",
       "      <th>4</th>\n",
       "      <td>ad21c59c0840e6cb83a9ceb5573f8159</td>\n",
       "      <td>8ab97904e6daea8866dbdbc4fb7aad2c</td>\n",
       "      <td>delivered</td>\n",
       "      <td>2018-02-13 21:18:39</td>\n",
       "      <td>2018-02-13 22:20:29</td>\n",
       "      <td>2018-02-14 19:46:34</td>\n",
       "      <td>2018-02-16 18:17:02</td>\n",
       "      <td>2018-02-26 00:00:00</td>\n",
       "    </tr>\n",
       "  </tbody>\n",
       "</table>\n",
       "</div>"
      ],
      "text/plain": [
       "                           order_id                       customer_id  \\\n",
       "0  e481f51cbdc54678b7cc49136f2d6af7  9ef432eb6251297304e76186b10a928d   \n",
       "1  53cdb2fc8bc7dce0b6741e2150273451  b0830fb4747a6c6d20dea0b8c802d7ef   \n",
       "2  47770eb9100c2d0c44946d9cf07ec65d  41ce2a54c0b03bf3443c3d931a367089   \n",
       "3  949d5b44dbf5de918fe9c16f97b45f8a  f88197465ea7920adcdbec7375364d82   \n",
       "4  ad21c59c0840e6cb83a9ceb5573f8159  8ab97904e6daea8866dbdbc4fb7aad2c   \n",
       "\n",
       "  order_status order_purchase_timestamp    order_approved_at  \\\n",
       "0    delivered      2017-10-02 10:56:33  2017-10-02 11:07:15   \n",
       "1    delivered      2018-07-24 20:41:37  2018-07-26 03:24:27   \n",
       "2    delivered      2018-08-08 08:38:49  2018-08-08 08:55:23   \n",
       "3    delivered      2017-11-18 19:28:06  2017-11-18 19:45:59   \n",
       "4    delivered      2018-02-13 21:18:39  2018-02-13 22:20:29   \n",
       "\n",
       "  order_delivered_carrier_date order_delivered_customer_date  \\\n",
       "0          2017-10-04 19:55:00           2017-10-10 21:25:13   \n",
       "1          2018-07-26 14:31:00           2018-08-07 15:27:45   \n",
       "2          2018-08-08 13:50:00           2018-08-17 18:06:29   \n",
       "3          2017-11-22 13:39:59           2017-12-02 00:28:42   \n",
       "4          2018-02-14 19:46:34           2018-02-16 18:17:02   \n",
       "\n",
       "  order_estimated_delivery_date  \n",
       "0           2017-10-18 00:00:00  \n",
       "1           2018-08-13 00:00:00  \n",
       "2           2018-09-04 00:00:00  \n",
       "3           2017-12-15 00:00:00  \n",
       "4           2018-02-26 00:00:00  "
      ]
     },
     "execution_count": 9,
     "metadata": {},
     "output_type": "execute_result"
    }
   ],
   "source": [
    "orders.head()"
   ]
  },
  {
   "cell_type": "code",
   "execution_count": 10,
   "metadata": {},
   "outputs": [
    {
     "data": {
      "text/plain": [
       "order_id                         object\n",
       "customer_id                      object\n",
       "order_status                     object\n",
       "order_purchase_timestamp         object\n",
       "order_approved_at                object\n",
       "order_delivered_carrier_date     object\n",
       "order_delivered_customer_date    object\n",
       "order_estimated_delivery_date    object\n",
       "dtype: object"
      ]
     },
     "execution_count": 10,
     "metadata": {},
     "output_type": "execute_result"
    }
   ],
   "source": [
    "orders.dtypes"
   ]
  },
  {
   "cell_type": "markdown",
   "metadata": {},
   "source": [
    "*2.3. Order_items*"
   ]
  },
  {
   "cell_type": "code",
   "execution_count": 11,
   "metadata": {},
   "outputs": [
    {
     "data": {
      "text/html": [
       "<div>\n",
       "<style scoped>\n",
       "    .dataframe tbody tr th:only-of-type {\n",
       "        vertical-align: middle;\n",
       "    }\n",
       "\n",
       "    .dataframe tbody tr th {\n",
       "        vertical-align: top;\n",
       "    }\n",
       "\n",
       "    .dataframe thead th {\n",
       "        text-align: right;\n",
       "    }\n",
       "</style>\n",
       "<table border=\"1\" class=\"dataframe\">\n",
       "  <thead>\n",
       "    <tr style=\"text-align: right;\">\n",
       "      <th></th>\n",
       "      <th>order_id</th>\n",
       "      <th>order_item_id</th>\n",
       "      <th>product_id</th>\n",
       "      <th>seller_id</th>\n",
       "      <th>shipping_limit_date</th>\n",
       "      <th>price</th>\n",
       "      <th>freight_value</th>\n",
       "    </tr>\n",
       "  </thead>\n",
       "  <tbody>\n",
       "    <tr>\n",
       "      <th>0</th>\n",
       "      <td>00010242fe8c5a6d1ba2dd792cb16214</td>\n",
       "      <td>1</td>\n",
       "      <td>4244733e06e7ecb4970a6e2683c13e61</td>\n",
       "      <td>48436dade18ac8b2bce089ec2a041202</td>\n",
       "      <td>2017-09-19 09:45:35</td>\n",
       "      <td>58.90</td>\n",
       "      <td>13.29</td>\n",
       "    </tr>\n",
       "    <tr>\n",
       "      <th>1</th>\n",
       "      <td>00018f77f2f0320c557190d7a144bdd3</td>\n",
       "      <td>1</td>\n",
       "      <td>e5f2d52b802189ee658865ca93d83a8f</td>\n",
       "      <td>dd7ddc04e1b6c2c614352b383efe2d36</td>\n",
       "      <td>2017-05-03 11:05:13</td>\n",
       "      <td>239.90</td>\n",
       "      <td>19.93</td>\n",
       "    </tr>\n",
       "    <tr>\n",
       "      <th>2</th>\n",
       "      <td>000229ec398224ef6ca0657da4fc703e</td>\n",
       "      <td>1</td>\n",
       "      <td>c777355d18b72b67abbeef9df44fd0fd</td>\n",
       "      <td>5b51032eddd242adc84c38acab88f23d</td>\n",
       "      <td>2018-01-18 14:48:30</td>\n",
       "      <td>199.00</td>\n",
       "      <td>17.87</td>\n",
       "    </tr>\n",
       "    <tr>\n",
       "      <th>3</th>\n",
       "      <td>00024acbcdf0a6daa1e931b038114c75</td>\n",
       "      <td>1</td>\n",
       "      <td>7634da152a4610f1595efa32f14722fc</td>\n",
       "      <td>9d7a1d34a5052409006425275ba1c2b4</td>\n",
       "      <td>2018-08-15 10:10:18</td>\n",
       "      <td>12.99</td>\n",
       "      <td>12.79</td>\n",
       "    </tr>\n",
       "    <tr>\n",
       "      <th>4</th>\n",
       "      <td>00042b26cf59d7ce69dfabb4e55b4fd9</td>\n",
       "      <td>1</td>\n",
       "      <td>ac6c3623068f30de03045865e4e10089</td>\n",
       "      <td>df560393f3a51e74553ab94004ba5c87</td>\n",
       "      <td>2017-02-13 13:57:51</td>\n",
       "      <td>199.90</td>\n",
       "      <td>18.14</td>\n",
       "    </tr>\n",
       "  </tbody>\n",
       "</table>\n",
       "</div>"
      ],
      "text/plain": [
       "                           order_id  order_item_id  \\\n",
       "0  00010242fe8c5a6d1ba2dd792cb16214              1   \n",
       "1  00018f77f2f0320c557190d7a144bdd3              1   \n",
       "2  000229ec398224ef6ca0657da4fc703e              1   \n",
       "3  00024acbcdf0a6daa1e931b038114c75              1   \n",
       "4  00042b26cf59d7ce69dfabb4e55b4fd9              1   \n",
       "\n",
       "                         product_id                         seller_id  \\\n",
       "0  4244733e06e7ecb4970a6e2683c13e61  48436dade18ac8b2bce089ec2a041202   \n",
       "1  e5f2d52b802189ee658865ca93d83a8f  dd7ddc04e1b6c2c614352b383efe2d36   \n",
       "2  c777355d18b72b67abbeef9df44fd0fd  5b51032eddd242adc84c38acab88f23d   \n",
       "3  7634da152a4610f1595efa32f14722fc  9d7a1d34a5052409006425275ba1c2b4   \n",
       "4  ac6c3623068f30de03045865e4e10089  df560393f3a51e74553ab94004ba5c87   \n",
       "\n",
       "   shipping_limit_date   price  freight_value  \n",
       "0  2017-09-19 09:45:35   58.90          13.29  \n",
       "1  2017-05-03 11:05:13  239.90          19.93  \n",
       "2  2018-01-18 14:48:30  199.00          17.87  \n",
       "3  2018-08-15 10:10:18   12.99          12.79  \n",
       "4  2017-02-13 13:57:51  199.90          18.14  "
      ]
     },
     "execution_count": 11,
     "metadata": {},
     "output_type": "execute_result"
    }
   ],
   "source": [
    "order_items.head()"
   ]
  },
  {
   "cell_type": "code",
   "execution_count": 12,
   "metadata": {},
   "outputs": [
    {
     "data": {
      "text/plain": [
       "order_id                object\n",
       "order_item_id            int64\n",
       "product_id              object\n",
       "seller_id               object\n",
       "shipping_limit_date     object\n",
       "price                  float64\n",
       "freight_value          float64\n",
       "dtype: object"
      ]
     },
     "execution_count": 12,
     "metadata": {},
     "output_type": "execute_result"
    }
   ],
   "source": [
    "order_items.dtypes"
   ]
  },
  {
   "cell_type": "code",
   "execution_count": 13,
   "metadata": {},
   "outputs": [],
   "source": [
    "# в orders и order_items приведем столбцы дат к соответствующему типу datetime"
   ]
  },
  {
   "cell_type": "code",
   "execution_count": 14,
   "metadata": {},
   "outputs": [],
   "source": [
    "orders.order_purchase_timestamp = pd.to_datetime(orders.order_purchase_timestamp)\n",
    "orders.order_approved_at = pd.to_datetime(orders.order_approved_at)\n",
    "orders.order_delivered_carrier_date = pd.to_datetime(orders.order_delivered_carrier_date)\n",
    "orders.order_delivered_customer_date = pd.to_datetime(orders.order_delivered_customer_date)\n",
    "orders.order_estimated_delivery_date = pd.to_datetime(orders.order_estimated_delivery_date)"
   ]
  },
  {
   "cell_type": "code",
   "execution_count": 15,
   "metadata": {},
   "outputs": [],
   "source": [
    "order_items.shipping_limit_date = pd.to_datetime(order_items.shipping_limit_date)"
   ]
  },
  {
   "cell_type": "code",
   "execution_count": 16,
   "metadata": {},
   "outputs": [
    {
     "data": {
      "text/plain": [
       "order_id                                 object\n",
       "customer_id                              object\n",
       "order_status                             object\n",
       "order_purchase_timestamp         datetime64[ns]\n",
       "order_approved_at                datetime64[ns]\n",
       "order_delivered_carrier_date     datetime64[ns]\n",
       "order_delivered_customer_date    datetime64[ns]\n",
       "order_estimated_delivery_date    datetime64[ns]\n",
       "dtype: object"
      ]
     },
     "execution_count": 16,
     "metadata": {},
     "output_type": "execute_result"
    }
   ],
   "source": [
    "orders.dtypes"
   ]
  },
  {
   "cell_type": "code",
   "execution_count": 17,
   "metadata": {},
   "outputs": [
    {
     "data": {
      "text/plain": [
       "order_id                       object\n",
       "order_item_id                   int64\n",
       "product_id                     object\n",
       "seller_id                      object\n",
       "shipping_limit_date    datetime64[ns]\n",
       "price                         float64\n",
       "freight_value                 float64\n",
       "dtype: object"
      ]
     },
     "execution_count": 17,
     "metadata": {},
     "output_type": "execute_result"
    }
   ],
   "source": [
    "order_items.dtypes"
   ]
  },
  {
   "cell_type": "markdown",
   "metadata": {},
   "source": [
    "**3. Определим, что считать покупкой**"
   ]
  },
  {
   "cell_type": "code",
   "execution_count": 18,
   "metadata": {},
   "outputs": [
    {
     "data": {
      "text/plain": [
       "(99441, 8)"
      ]
     },
     "execution_count": 18,
     "metadata": {},
     "output_type": "execute_result"
    }
   ],
   "source": [
    "orders.shape"
   ]
  },
  {
   "cell_type": "code",
   "execution_count": 19,
   "metadata": {},
   "outputs": [
    {
     "data": {
      "text/plain": [
       "order_id                         99441\n",
       "customer_id                      99441\n",
       "order_status                         8\n",
       "order_purchase_timestamp         98875\n",
       "order_approved_at                90733\n",
       "order_delivered_carrier_date     81018\n",
       "order_delivered_customer_date    95664\n",
       "order_estimated_delivery_date      459\n",
       "dtype: int64"
      ]
     },
     "execution_count": 19,
     "metadata": {},
     "output_type": "execute_result"
    }
   ],
   "source": [
    "orders.nunique()"
   ]
  },
  {
   "cell_type": "markdown",
   "metadata": {},
   "source": [
    "*Видим, что для каждого уникального заказа имеется только одна строка записи.\n",
    "Однозначно покупкой нельзя считать товары со статусом \"canceled\". \n",
    "Проверим строки в orders с отмененными заказами.*"
   ]
  },
  {
   "cell_type": "code",
   "execution_count": 20,
   "metadata": {},
   "outputs": [
    {
     "data": {
      "text/html": [
       "<div>\n",
       "<style scoped>\n",
       "    .dataframe tbody tr th:only-of-type {\n",
       "        vertical-align: middle;\n",
       "    }\n",
       "\n",
       "    .dataframe tbody tr th {\n",
       "        vertical-align: top;\n",
       "    }\n",
       "\n",
       "    .dataframe thead th {\n",
       "        text-align: right;\n",
       "    }\n",
       "</style>\n",
       "<table border=\"1\" class=\"dataframe\">\n",
       "  <thead>\n",
       "    <tr style=\"text-align: right;\">\n",
       "      <th></th>\n",
       "      <th>order_id</th>\n",
       "      <th>customer_id</th>\n",
       "      <th>order_status</th>\n",
       "      <th>order_purchase_timestamp</th>\n",
       "      <th>order_approved_at</th>\n",
       "      <th>order_delivered_carrier_date</th>\n",
       "      <th>order_delivered_customer_date</th>\n",
       "      <th>order_estimated_delivery_date</th>\n",
       "    </tr>\n",
       "  </thead>\n",
       "  <tbody>\n",
       "    <tr>\n",
       "      <th>397</th>\n",
       "      <td>1b9ecfe83cdc259250e1a8aca174f0ad</td>\n",
       "      <td>6d6b50b66d79f80827b6d96751528d30</td>\n",
       "      <td>canceled</td>\n",
       "      <td>2018-08-04 14:29:27</td>\n",
       "      <td>2018-08-07 04:10:26</td>\n",
       "      <td>NaT</td>\n",
       "      <td>NaT</td>\n",
       "      <td>2018-08-14</td>\n",
       "    </tr>\n",
       "    <tr>\n",
       "      <th>613</th>\n",
       "      <td>714fb133a6730ab81fa1d3c1b2007291</td>\n",
       "      <td>e3fe72696c4713d64d3c10afe71e75ed</td>\n",
       "      <td>canceled</td>\n",
       "      <td>2018-01-26 21:34:08</td>\n",
       "      <td>2018-01-26 21:58:39</td>\n",
       "      <td>2018-01-29 22:33:25</td>\n",
       "      <td>NaT</td>\n",
       "      <td>2018-02-22</td>\n",
       "    </tr>\n",
       "    <tr>\n",
       "      <th>1058</th>\n",
       "      <td>3a129877493c8189c59c60eb71d97c29</td>\n",
       "      <td>0913cdce793684e52bbfac69d87e91fd</td>\n",
       "      <td>canceled</td>\n",
       "      <td>2018-01-25 13:34:24</td>\n",
       "      <td>2018-01-25 13:50:20</td>\n",
       "      <td>2018-01-26 21:42:18</td>\n",
       "      <td>NaT</td>\n",
       "      <td>2018-02-23</td>\n",
       "    </tr>\n",
       "    <tr>\n",
       "      <th>1130</th>\n",
       "      <td>00b1cb0320190ca0daa2c88b35206009</td>\n",
       "      <td>3532ba38a3fd242259a514ac2b6ae6b6</td>\n",
       "      <td>canceled</td>\n",
       "      <td>2018-08-28 15:26:39</td>\n",
       "      <td>NaT</td>\n",
       "      <td>NaT</td>\n",
       "      <td>NaT</td>\n",
       "      <td>2018-09-12</td>\n",
       "    </tr>\n",
       "    <tr>\n",
       "      <th>1801</th>\n",
       "      <td>ed3efbd3a87bea76c2812c66a0b32219</td>\n",
       "      <td>191984a8ba4cbb2145acb4fe35b69664</td>\n",
       "      <td>canceled</td>\n",
       "      <td>2018-09-20 13:54:16</td>\n",
       "      <td>NaT</td>\n",
       "      <td>NaT</td>\n",
       "      <td>NaT</td>\n",
       "      <td>2018-10-17</td>\n",
       "    </tr>\n",
       "  </tbody>\n",
       "</table>\n",
       "</div>"
      ],
      "text/plain": [
       "                              order_id                       customer_id  \\\n",
       "397   1b9ecfe83cdc259250e1a8aca174f0ad  6d6b50b66d79f80827b6d96751528d30   \n",
       "613   714fb133a6730ab81fa1d3c1b2007291  e3fe72696c4713d64d3c10afe71e75ed   \n",
       "1058  3a129877493c8189c59c60eb71d97c29  0913cdce793684e52bbfac69d87e91fd   \n",
       "1130  00b1cb0320190ca0daa2c88b35206009  3532ba38a3fd242259a514ac2b6ae6b6   \n",
       "1801  ed3efbd3a87bea76c2812c66a0b32219  191984a8ba4cbb2145acb4fe35b69664   \n",
       "\n",
       "     order_status order_purchase_timestamp   order_approved_at  \\\n",
       "397      canceled      2018-08-04 14:29:27 2018-08-07 04:10:26   \n",
       "613      canceled      2018-01-26 21:34:08 2018-01-26 21:58:39   \n",
       "1058     canceled      2018-01-25 13:34:24 2018-01-25 13:50:20   \n",
       "1130     canceled      2018-08-28 15:26:39                 NaT   \n",
       "1801     canceled      2018-09-20 13:54:16                 NaT   \n",
       "\n",
       "     order_delivered_carrier_date order_delivered_customer_date  \\\n",
       "397                           NaT                           NaT   \n",
       "613           2018-01-29 22:33:25                           NaT   \n",
       "1058          2018-01-26 21:42:18                           NaT   \n",
       "1130                          NaT                           NaT   \n",
       "1801                          NaT                           NaT   \n",
       "\n",
       "     order_estimated_delivery_date  \n",
       "397                     2018-08-14  \n",
       "613                     2018-02-22  \n",
       "1058                    2018-02-23  \n",
       "1130                    2018-09-12  \n",
       "1801                    2018-10-17  "
      ]
     },
     "execution_count": 20,
     "metadata": {},
     "output_type": "execute_result"
    }
   ],
   "source": [
    "orders[orders.order_status == 'canceled'].head()"
   ]
  },
  {
   "cell_type": "code",
   "execution_count": 21,
   "metadata": {},
   "outputs": [
    {
     "data": {
      "text/html": [
       "<div>\n",
       "<style scoped>\n",
       "    .dataframe tbody tr th:only-of-type {\n",
       "        vertical-align: middle;\n",
       "    }\n",
       "\n",
       "    .dataframe tbody tr th {\n",
       "        vertical-align: top;\n",
       "    }\n",
       "\n",
       "    .dataframe thead th {\n",
       "        text-align: right;\n",
       "    }\n",
       "</style>\n",
       "<table border=\"1\" class=\"dataframe\">\n",
       "  <thead>\n",
       "    <tr style=\"text-align: right;\">\n",
       "      <th></th>\n",
       "      <th>order_status</th>\n",
       "      <th>order_id</th>\n",
       "      <th>customer_id</th>\n",
       "      <th>order_purchase_timestamp</th>\n",
       "      <th>order_approved_at</th>\n",
       "      <th>order_delivered_carrier_date</th>\n",
       "      <th>order_delivered_customer_date</th>\n",
       "      <th>order_estimated_delivery_date</th>\n",
       "    </tr>\n",
       "  </thead>\n",
       "  <tbody>\n",
       "    <tr>\n",
       "      <th>0</th>\n",
       "      <td>approved</td>\n",
       "      <td>2</td>\n",
       "      <td>2</td>\n",
       "      <td>2</td>\n",
       "      <td>2</td>\n",
       "      <td>0</td>\n",
       "      <td>0</td>\n",
       "      <td>2</td>\n",
       "    </tr>\n",
       "    <tr>\n",
       "      <th>1</th>\n",
       "      <td>canceled</td>\n",
       "      <td>625</td>\n",
       "      <td>625</td>\n",
       "      <td>625</td>\n",
       "      <td>484</td>\n",
       "      <td>75</td>\n",
       "      <td>6</td>\n",
       "      <td>625</td>\n",
       "    </tr>\n",
       "    <tr>\n",
       "      <th>2</th>\n",
       "      <td>created</td>\n",
       "      <td>5</td>\n",
       "      <td>5</td>\n",
       "      <td>5</td>\n",
       "      <td>0</td>\n",
       "      <td>0</td>\n",
       "      <td>0</td>\n",
       "      <td>5</td>\n",
       "    </tr>\n",
       "    <tr>\n",
       "      <th>3</th>\n",
       "      <td>delivered</td>\n",
       "      <td>96478</td>\n",
       "      <td>96478</td>\n",
       "      <td>96478</td>\n",
       "      <td>96464</td>\n",
       "      <td>96476</td>\n",
       "      <td>96470</td>\n",
       "      <td>96478</td>\n",
       "    </tr>\n",
       "    <tr>\n",
       "      <th>4</th>\n",
       "      <td>invoiced</td>\n",
       "      <td>314</td>\n",
       "      <td>314</td>\n",
       "      <td>314</td>\n",
       "      <td>314</td>\n",
       "      <td>0</td>\n",
       "      <td>0</td>\n",
       "      <td>314</td>\n",
       "    </tr>\n",
       "    <tr>\n",
       "      <th>5</th>\n",
       "      <td>processing</td>\n",
       "      <td>301</td>\n",
       "      <td>301</td>\n",
       "      <td>301</td>\n",
       "      <td>301</td>\n",
       "      <td>0</td>\n",
       "      <td>0</td>\n",
       "      <td>301</td>\n",
       "    </tr>\n",
       "    <tr>\n",
       "      <th>6</th>\n",
       "      <td>shipped</td>\n",
       "      <td>1107</td>\n",
       "      <td>1107</td>\n",
       "      <td>1107</td>\n",
       "      <td>1107</td>\n",
       "      <td>1107</td>\n",
       "      <td>0</td>\n",
       "      <td>1107</td>\n",
       "    </tr>\n",
       "    <tr>\n",
       "      <th>7</th>\n",
       "      <td>unavailable</td>\n",
       "      <td>609</td>\n",
       "      <td>609</td>\n",
       "      <td>609</td>\n",
       "      <td>609</td>\n",
       "      <td>0</td>\n",
       "      <td>0</td>\n",
       "      <td>609</td>\n",
       "    </tr>\n",
       "  </tbody>\n",
       "</table>\n",
       "</div>"
      ],
      "text/plain": [
       "  order_status  order_id  customer_id  order_purchase_timestamp  \\\n",
       "0     approved         2            2                         2   \n",
       "1     canceled       625          625                       625   \n",
       "2      created         5            5                         5   \n",
       "3    delivered     96478        96478                     96478   \n",
       "4     invoiced       314          314                       314   \n",
       "5   processing       301          301                       301   \n",
       "6      shipped      1107         1107                      1107   \n",
       "7  unavailable       609          609                       609   \n",
       "\n",
       "   order_approved_at  order_delivered_carrier_date  \\\n",
       "0                  2                             0   \n",
       "1                484                            75   \n",
       "2                  0                             0   \n",
       "3              96464                         96476   \n",
       "4                314                             0   \n",
       "5                301                             0   \n",
       "6               1107                          1107   \n",
       "7                609                             0   \n",
       "\n",
       "   order_delivered_customer_date  order_estimated_delivery_date  \n",
       "0                              0                              2  \n",
       "1                              6                            625  \n",
       "2                              0                              5  \n",
       "3                          96470                          96478  \n",
       "4                              0                            314  \n",
       "5                              0                            301  \n",
       "6                              0                           1107  \n",
       "7                              0                            609  "
      ]
     },
     "execution_count": 21,
     "metadata": {},
     "output_type": "execute_result"
    }
   ],
   "source": [
    "orders.groupby('order_status', as_index=False).count()"
   ]
  },
  {
   "cell_type": "markdown",
   "metadata": {},
   "source": [
    "*По отмененным заказам имеются записи о дате оформления заказа, его оплаты, передачи в логистическую компанию и даже о его фактической доставке покупателю.\n",
    "Выходит, что покупатель может отменить заказ при его получении от курьера.\n",
    "Исходя из этого, все заказы с промежуточными статусами нельзя считать покупками до изменения статуса на \"delivered\", т.к., судя по данным в orders, они могут быть отменены.*\n",
    "\n",
    "*Неясно, что значит статус заказа \"unavailable\", для всех таких заказов имеется запись о формировании и оплате, но нет информации о дате передачи в доставку и, соответственно, фактической дате доставки. Не считаем покупками.*\n",
    "\n",
    "*Не для всех заказов со статусом \"delivered\" имеются записи о дате оплаты, передачи в лог. компанию и фактической доставки. Т.к. это учебное задание и у нас нет возможности обратиться к менеджеру с уточнением причин, предположим:*\n",
    "*- отсутствие даты оплаты: оплата производилась по факту доставки курьеру и запись еще не внесена (по всем таким заказам есть записи о датах доставки)*\n",
    "*- отсутствие даты передачи в лог. компанию: заказ получен самовывозом или допущена ошибка при внесении данных в таблицу (т.к., например, есть заказ с указанной датой доставки, но отсутствующей датой передачи заказа в логистическую компанию)*\n",
    "*- отсутствие даты доставки заказа покупателю: заказ получен самовывозом из лог. компании или допущена ошибка при внесении данных в таблицу*\n",
    "\n",
    "\n",
    "**В итоге, считаем покупками все заказы со статусом \"delivered\"**"
   ]
  },
  {
   "cell_type": "code",
   "execution_count": 22,
   "metadata": {},
   "outputs": [],
   "source": [
    "purchases = orders.query('order_status == \"delivered\"')"
   ]
  },
  {
   "cell_type": "code",
   "execution_count": 23,
   "metadata": {},
   "outputs": [
    {
     "data": {
      "text/plain": [
       "96478"
      ]
     },
     "execution_count": 23,
     "metadata": {},
     "output_type": "execute_result"
    }
   ],
   "source": [
    "purchases_number = purchases.order_id.count()\n",
    "purchases_number"
   ]
  },
  {
   "cell_type": "markdown",
   "metadata": {},
   "source": [
    "# Вопросы продакт-менеджера Василия"
   ]
  },
  {
   "cell_type": "markdown",
   "metadata": {},
   "source": [
    "**1. Сколько у нас пользователей, которые совершили покупку только один раз? (7 баллов)** "
   ]
  },
  {
   "cell_type": "code",
   "execution_count": 24,
   "metadata": {},
   "outputs": [],
   "source": [
    "# Взглянем на df customers. Для некоторых значений customer_unique_id имеется \n",
    "# несколько значений customer_id"
   ]
  },
  {
   "cell_type": "code",
   "execution_count": 25,
   "metadata": {},
   "outputs": [
    {
     "data": {
      "text/html": [
       "<div>\n",
       "<style scoped>\n",
       "    .dataframe tbody tr th:only-of-type {\n",
       "        vertical-align: middle;\n",
       "    }\n",
       "\n",
       "    .dataframe tbody tr th {\n",
       "        vertical-align: top;\n",
       "    }\n",
       "\n",
       "    .dataframe thead th {\n",
       "        text-align: right;\n",
       "    }\n",
       "</style>\n",
       "<table border=\"1\" class=\"dataframe\">\n",
       "  <thead>\n",
       "    <tr style=\"text-align: right;\">\n",
       "      <th></th>\n",
       "      <th>customer_unique_id</th>\n",
       "      <th>customer_id</th>\n",
       "    </tr>\n",
       "  </thead>\n",
       "  <tbody>\n",
       "    <tr>\n",
       "      <th>33</th>\n",
       "      <td>00172711b30d52eea8b313a7f2cced02</td>\n",
       "      <td>2</td>\n",
       "    </tr>\n",
       "    <tr>\n",
       "      <th>61192</th>\n",
       "      <td>a2d2201f14b81eb836de9fef6d305311</td>\n",
       "      <td>2</td>\n",
       "    </tr>\n",
       "    <tr>\n",
       "      <th>61200</th>\n",
       "      <td>a2d8125361b16f316df65f4603b88e23</td>\n",
       "      <td>2</td>\n",
       "    </tr>\n",
       "    <tr>\n",
       "      <th>61221</th>\n",
       "      <td>a2eb3545fdbc2c6687e8d66c78c206d6</td>\n",
       "      <td>2</td>\n",
       "    </tr>\n",
       "    <tr>\n",
       "      <th>61224</th>\n",
       "      <td>a2ee01609cebac76651bfc4814f5500e</td>\n",
       "      <td>2</td>\n",
       "    </tr>\n",
       "    <tr>\n",
       "      <th>...</th>\n",
       "      <td>...</td>\n",
       "      <td>...</td>\n",
       "    </tr>\n",
       "    <tr>\n",
       "      <th>10354</th>\n",
       "      <td>1b6c7548a2a1f9037c1fd3ddfed95f33</td>\n",
       "      <td>7</td>\n",
       "    </tr>\n",
       "    <tr>\n",
       "      <th>37797</th>\n",
       "      <td>6469f99c1f9dfae7733b25662e7f1782</td>\n",
       "      <td>7</td>\n",
       "    </tr>\n",
       "    <tr>\n",
       "      <th>76082</th>\n",
       "      <td>ca77025e7201e3b30c44b472ff346268</td>\n",
       "      <td>7</td>\n",
       "    </tr>\n",
       "    <tr>\n",
       "      <th>23472</th>\n",
       "      <td>3e43e6105506432c953e165fb2acf44c</td>\n",
       "      <td>9</td>\n",
       "    </tr>\n",
       "    <tr>\n",
       "      <th>52973</th>\n",
       "      <td>8d50f5eadf50201ccdcedfb9e2ac8455</td>\n",
       "      <td>17</td>\n",
       "    </tr>\n",
       "  </tbody>\n",
       "</table>\n",
       "<p>2997 rows × 2 columns</p>\n",
       "</div>"
      ],
      "text/plain": [
       "                     customer_unique_id  customer_id\n",
       "33     00172711b30d52eea8b313a7f2cced02            2\n",
       "61192  a2d2201f14b81eb836de9fef6d305311            2\n",
       "61200  a2d8125361b16f316df65f4603b88e23            2\n",
       "61221  a2eb3545fdbc2c6687e8d66c78c206d6            2\n",
       "61224  a2ee01609cebac76651bfc4814f5500e            2\n",
       "...                                 ...          ...\n",
       "10354  1b6c7548a2a1f9037c1fd3ddfed95f33            7\n",
       "37797  6469f99c1f9dfae7733b25662e7f1782            7\n",
       "76082  ca77025e7201e3b30c44b472ff346268            7\n",
       "23472  3e43e6105506432c953e165fb2acf44c            9\n",
       "52973  8d50f5eadf50201ccdcedfb9e2ac8455           17\n",
       "\n",
       "[2997 rows x 2 columns]"
      ]
     },
     "execution_count": 25,
     "metadata": {},
     "output_type": "execute_result"
    }
   ],
   "source": [
    "customers.groupby('customer_unique_id', as_index=False) \\\n",
    "        .agg({'customer_id' : 'count'}) \\\n",
    "        .query('customer_id != 1') \\\n",
    "        .sort_values('customer_id')"
   ]
  },
  {
   "cell_type": "code",
   "execution_count": 26,
   "metadata": {},
   "outputs": [],
   "source": [
    "# для ответа на вопрос смерджим orders и столбец customer_unique_id из customers \n",
    "# по общему значению customer_id"
   ]
  },
  {
   "cell_type": "code",
   "execution_count": 27,
   "metadata": {},
   "outputs": [
    {
     "data": {
      "text/plain": [
       "90557"
      ]
     },
     "execution_count": 27,
     "metadata": {},
     "output_type": "execute_result"
    }
   ],
   "source": [
    "purchases \\\n",
    "        .merge(customers[['customer_unique_id', 'customer_id']], \n",
    "               how='inner', on='customer_id') \\\n",
    "        .groupby('customer_unique_id', as_index=False) \\\n",
    "        .agg({'order_id' : 'count'}) \\\n",
    "        .query('order_id == 1').order_id.count()"
   ]
  },
  {
   "cell_type": "markdown",
   "metadata": {},
   "source": [
    "**Ответ на вопрос №1:** 90557 пользователей"
   ]
  },
  {
   "cell_type": "markdown",
   "metadata": {},
   "source": [
    "**2. Сколько заказов в месяц в среднем не доставляется по разным причинам (вывести детализацию по причинам)? (5 баллов)**"
   ]
  },
  {
   "cell_type": "markdown",
   "metadata": {},
   "source": [
    "Не до конца понятен вопрос. Например, у некоторых заказов со статусом \"delivered\" нет данных в столбце \"order_delivered_customer_date\". Т.е. такие заказы можно считать и доставленными, и недоставленными.\n",
    "Для ответа на вопрос будем считать недоставленными те заказы, у которых не указана фактическая дата доставки покупателю (order_delivered_customer_date).\n",
    "Месяц заказа считаем по времени создания заказа (order_purchase_timestamp)"
   ]
  },
  {
   "cell_type": "code",
   "execution_count": 28,
   "metadata": {},
   "outputs": [],
   "source": [
    "# фильтруем датафрейм orders по отсутствию данных в order_delivered_customer_date"
   ]
  },
  {
   "cell_type": "code",
   "execution_count": 29,
   "metadata": {},
   "outputs": [],
   "source": [
    "undelivered_orders = orders.query('order_delivered_customer_date == \"NaT\"')"
   ]
  },
  {
   "cell_type": "code",
   "execution_count": 30,
   "metadata": {},
   "outputs": [],
   "source": [
    "# создадим колонку с названием месяца и года создания недоставленного заказа"
   ]
  },
  {
   "cell_type": "code",
   "execution_count": 31,
   "metadata": {},
   "outputs": [],
   "source": [
    "undelivered_orders = undelivered_orders.assign(month = undelivered_orders \\\n",
    "                                                    .order_purchase_timestamp \\\n",
    "                                                    .dt.strftime('%B, %Y'))"
   ]
  },
  {
   "cell_type": "code",
   "execution_count": 32,
   "metadata": {},
   "outputs": [
    {
     "data": {
      "text/html": [
       "<div>\n",
       "<style scoped>\n",
       "    .dataframe tbody tr th:only-of-type {\n",
       "        vertical-align: middle;\n",
       "    }\n",
       "\n",
       "    .dataframe tbody tr th {\n",
       "        vertical-align: top;\n",
       "    }\n",
       "\n",
       "    .dataframe thead th {\n",
       "        text-align: right;\n",
       "    }\n",
       "</style>\n",
       "<table border=\"1\" class=\"dataframe\">\n",
       "  <thead>\n",
       "    <tr style=\"text-align: right;\">\n",
       "      <th></th>\n",
       "      <th>order_id</th>\n",
       "      <th>customer_id</th>\n",
       "      <th>order_status</th>\n",
       "      <th>order_purchase_timestamp</th>\n",
       "      <th>order_approved_at</th>\n",
       "      <th>order_delivered_carrier_date</th>\n",
       "      <th>order_delivered_customer_date</th>\n",
       "      <th>order_estimated_delivery_date</th>\n",
       "      <th>month</th>\n",
       "    </tr>\n",
       "  </thead>\n",
       "  <tbody>\n",
       "    <tr>\n",
       "      <th>6</th>\n",
       "      <td>136cce7faa42fdb2cefd53fdc79a6098</td>\n",
       "      <td>ed0271e0b7da060a393796590e7b737a</td>\n",
       "      <td>invoiced</td>\n",
       "      <td>2017-04-11 12:22:08</td>\n",
       "      <td>2017-04-13 13:25:17</td>\n",
       "      <td>NaT</td>\n",
       "      <td>NaT</td>\n",
       "      <td>2017-05-09</td>\n",
       "      <td>April, 2017</td>\n",
       "    </tr>\n",
       "    <tr>\n",
       "      <th>44</th>\n",
       "      <td>ee64d42b8cf066f35eac1cf57de1aa85</td>\n",
       "      <td>caded193e8e47b8362864762a83db3c5</td>\n",
       "      <td>shipped</td>\n",
       "      <td>2018-06-04 16:44:48</td>\n",
       "      <td>2018-06-05 04:31:18</td>\n",
       "      <td>2018-06-05 14:32:00</td>\n",
       "      <td>NaT</td>\n",
       "      <td>2018-06-28</td>\n",
       "      <td>June, 2018</td>\n",
       "    </tr>\n",
       "    <tr>\n",
       "      <th>103</th>\n",
       "      <td>0760a852e4e9d89eb77bf631eaaf1c84</td>\n",
       "      <td>d2a79636084590b7465af8ab374a8cf5</td>\n",
       "      <td>invoiced</td>\n",
       "      <td>2018-08-03 17:44:42</td>\n",
       "      <td>2018-08-07 06:15:14</td>\n",
       "      <td>NaT</td>\n",
       "      <td>NaT</td>\n",
       "      <td>2018-08-21</td>\n",
       "      <td>August, 2018</td>\n",
       "    </tr>\n",
       "    <tr>\n",
       "      <th>128</th>\n",
       "      <td>15bed8e2fec7fdbadb186b57c46c92f2</td>\n",
       "      <td>f3f0e613e0bdb9c7cee75504f0f90679</td>\n",
       "      <td>processing</td>\n",
       "      <td>2017-09-03 14:22:03</td>\n",
       "      <td>2017-09-03 14:30:09</td>\n",
       "      <td>NaT</td>\n",
       "      <td>NaT</td>\n",
       "      <td>2017-10-03</td>\n",
       "      <td>September, 2017</td>\n",
       "    </tr>\n",
       "    <tr>\n",
       "      <th>154</th>\n",
       "      <td>6942b8da583c2f9957e990d028607019</td>\n",
       "      <td>52006a9383bf149a4fb24226b173106f</td>\n",
       "      <td>shipped</td>\n",
       "      <td>2018-01-10 11:33:07</td>\n",
       "      <td>2018-01-11 02:32:30</td>\n",
       "      <td>2018-01-11 19:39:23</td>\n",
       "      <td>NaT</td>\n",
       "      <td>2018-02-07</td>\n",
       "      <td>January, 2018</td>\n",
       "    </tr>\n",
       "  </tbody>\n",
       "</table>\n",
       "</div>"
      ],
      "text/plain": [
       "                             order_id                       customer_id  \\\n",
       "6    136cce7faa42fdb2cefd53fdc79a6098  ed0271e0b7da060a393796590e7b737a   \n",
       "44   ee64d42b8cf066f35eac1cf57de1aa85  caded193e8e47b8362864762a83db3c5   \n",
       "103  0760a852e4e9d89eb77bf631eaaf1c84  d2a79636084590b7465af8ab374a8cf5   \n",
       "128  15bed8e2fec7fdbadb186b57c46c92f2  f3f0e613e0bdb9c7cee75504f0f90679   \n",
       "154  6942b8da583c2f9957e990d028607019  52006a9383bf149a4fb24226b173106f   \n",
       "\n",
       "    order_status order_purchase_timestamp   order_approved_at  \\\n",
       "6       invoiced      2017-04-11 12:22:08 2017-04-13 13:25:17   \n",
       "44       shipped      2018-06-04 16:44:48 2018-06-05 04:31:18   \n",
       "103     invoiced      2018-08-03 17:44:42 2018-08-07 06:15:14   \n",
       "128   processing      2017-09-03 14:22:03 2017-09-03 14:30:09   \n",
       "154      shipped      2018-01-10 11:33:07 2018-01-11 02:32:30   \n",
       "\n",
       "    order_delivered_carrier_date order_delivered_customer_date  \\\n",
       "6                            NaT                           NaT   \n",
       "44           2018-06-05 14:32:00                           NaT   \n",
       "103                          NaT                           NaT   \n",
       "128                          NaT                           NaT   \n",
       "154          2018-01-11 19:39:23                           NaT   \n",
       "\n",
       "    order_estimated_delivery_date            month  \n",
       "6                      2017-05-09      April, 2017  \n",
       "44                     2018-06-28       June, 2018  \n",
       "103                    2018-08-21     August, 2018  \n",
       "128                    2017-10-03  September, 2017  \n",
       "154                    2018-02-07    January, 2018  "
      ]
     },
     "execution_count": 32,
     "metadata": {},
     "output_type": "execute_result"
    }
   ],
   "source": [
    "undelivered_orders.head()"
   ]
  },
  {
   "cell_type": "code",
   "execution_count": 33,
   "metadata": {},
   "outputs": [],
   "source": [
    "# сгруппируем данные по месяцу и статусу заказа"
   ]
  },
  {
   "cell_type": "code",
   "execution_count": 34,
   "metadata": {},
   "outputs": [],
   "source": [
    "mean_undelivered_by_month = undelivered_orders \\\n",
    "                  .groupby(['month', 'order_status'], as_index=False) \\\n",
    "                  .agg({'order_id' : 'count'}) \\\n",
    "                  .fillna(0) \\\n",
    "                  .groupby('order_status') \\\n",
    "                  .agg({'order_id' : 'mean'}) \\\n",
    "                  .rename(index=\n",
    "                      {'approved' : 'Заказ только подтвержден',\n",
    "                      'canceled' : 'Заказ отменен',\n",
    "                      'created' : 'Заказ только создан',\n",
    "                      'delivered' : 'Доставлен (без указания даты)',\n",
    "                      'invoiced' : 'Только выставлен счёт',\n",
    "                      'processing' : 'Только в процессе сборки заказа',\n",
    "                      'shipped' : 'Только отгружен со склада',\n",
    "                      'unavailable' : 'Заказ недоступен'}) \\\n",
    "                  .sort_values('order_id', ascending=False) \\\n",
    "                  .reset_index() \\\n",
    "                  .rename(columns={\n",
    "                      'order_status' : 'Причина (статус заказа)',\n",
    "                      'order_id' : 'Среднее кол-во недоставленных заказов в месяц'}) \\\n",
    "                  .round(2)"
   ]
  },
  {
   "cell_type": "code",
   "execution_count": 35,
   "metadata": {},
   "outputs": [
    {
     "data": {
      "text/html": [
       "<div>\n",
       "<style scoped>\n",
       "    .dataframe tbody tr th:only-of-type {\n",
       "        vertical-align: middle;\n",
       "    }\n",
       "\n",
       "    .dataframe tbody tr th {\n",
       "        vertical-align: top;\n",
       "    }\n",
       "\n",
       "    .dataframe thead th {\n",
       "        text-align: right;\n",
       "    }\n",
       "</style>\n",
       "<table border=\"1\" class=\"dataframe\">\n",
       "  <thead>\n",
       "    <tr style=\"text-align: right;\">\n",
       "      <th></th>\n",
       "      <th>Причина (статус заказа)</th>\n",
       "      <th>Среднее кол-во недоставленных заказов в месяц</th>\n",
       "    </tr>\n",
       "  </thead>\n",
       "  <tbody>\n",
       "    <tr>\n",
       "      <th>0</th>\n",
       "      <td>Только отгружен со склада</td>\n",
       "      <td>48.13</td>\n",
       "    </tr>\n",
       "    <tr>\n",
       "      <th>1</th>\n",
       "      <td>Заказ недоступен</td>\n",
       "      <td>29.00</td>\n",
       "    </tr>\n",
       "    <tr>\n",
       "      <th>2</th>\n",
       "      <td>Заказ отменен</td>\n",
       "      <td>25.79</td>\n",
       "    </tr>\n",
       "    <tr>\n",
       "      <th>3</th>\n",
       "      <td>Только в процессе сборки заказа</td>\n",
       "      <td>15.84</td>\n",
       "    </tr>\n",
       "    <tr>\n",
       "      <th>4</th>\n",
       "      <td>Только выставлен счёт</td>\n",
       "      <td>14.95</td>\n",
       "    </tr>\n",
       "    <tr>\n",
       "      <th>5</th>\n",
       "      <td>Доставлен (без указания даты)</td>\n",
       "      <td>2.00</td>\n",
       "    </tr>\n",
       "    <tr>\n",
       "      <th>6</th>\n",
       "      <td>Заказ только создан</td>\n",
       "      <td>1.67</td>\n",
       "    </tr>\n",
       "    <tr>\n",
       "      <th>7</th>\n",
       "      <td>Заказ только подтвержден</td>\n",
       "      <td>1.00</td>\n",
       "    </tr>\n",
       "  </tbody>\n",
       "</table>\n",
       "</div>"
      ],
      "text/plain": [
       "           Причина (статус заказа)  \\\n",
       "0        Только отгружен со склада   \n",
       "1                 Заказ недоступен   \n",
       "2                    Заказ отменен   \n",
       "3  Только в процессе сборки заказа   \n",
       "4            Только выставлен счёт   \n",
       "5    Доставлен (без указания даты)   \n",
       "6              Заказ только создан   \n",
       "7         Заказ только подтвержден   \n",
       "\n",
       "   Среднее кол-во недоставленных заказов в месяц  \n",
       "0                                          48.13  \n",
       "1                                          29.00  \n",
       "2                                          25.79  \n",
       "3                                          15.84  \n",
       "4                                          14.95  \n",
       "5                                           2.00  \n",
       "6                                           1.67  \n",
       "7                                           1.00  "
      ]
     },
     "execution_count": 35,
     "metadata": {},
     "output_type": "execute_result"
    }
   ],
   "source": [
    "mean_undelivered_by_month"
   ]
  },
  {
   "cell_type": "markdown",
   "metadata": {},
   "source": [
    "**3. По каждому товару определить, в какой день недели товар чаще всего покупается. \n",
    "(5 баллов)**"
   ]
  },
  {
   "cell_type": "markdown",
   "metadata": {},
   "source": [
    "Для ответа на данный вопрос будем учитывать определение покупки, установленное вначале. Учитываем только заказы со статусом \"delivered\" (df purchases).\n",
    "Объединим данные из order_items и дату создания заказа из purchases"
   ]
  },
  {
   "cell_type": "code",
   "execution_count": 36,
   "metadata": {},
   "outputs": [
    {
     "data": {
      "text/html": [
       "<div>\n",
       "<style scoped>\n",
       "    .dataframe tbody tr th:only-of-type {\n",
       "        vertical-align: middle;\n",
       "    }\n",
       "\n",
       "    .dataframe tbody tr th {\n",
       "        vertical-align: top;\n",
       "    }\n",
       "\n",
       "    .dataframe thead th {\n",
       "        text-align: right;\n",
       "    }\n",
       "</style>\n",
       "<table border=\"1\" class=\"dataframe\">\n",
       "  <thead>\n",
       "    <tr style=\"text-align: right;\">\n",
       "      <th></th>\n",
       "      <th>order_id</th>\n",
       "      <th>customer_id</th>\n",
       "      <th>order_status</th>\n",
       "      <th>order_purchase_timestamp</th>\n",
       "      <th>order_approved_at</th>\n",
       "      <th>order_delivered_carrier_date</th>\n",
       "      <th>order_delivered_customer_date</th>\n",
       "      <th>order_estimated_delivery_date</th>\n",
       "    </tr>\n",
       "  </thead>\n",
       "  <tbody>\n",
       "    <tr>\n",
       "      <th>0</th>\n",
       "      <td>e481f51cbdc54678b7cc49136f2d6af7</td>\n",
       "      <td>9ef432eb6251297304e76186b10a928d</td>\n",
       "      <td>delivered</td>\n",
       "      <td>2017-10-02 10:56:33</td>\n",
       "      <td>2017-10-02 11:07:15</td>\n",
       "      <td>2017-10-04 19:55:00</td>\n",
       "      <td>2017-10-10 21:25:13</td>\n",
       "      <td>2017-10-18</td>\n",
       "    </tr>\n",
       "    <tr>\n",
       "      <th>1</th>\n",
       "      <td>53cdb2fc8bc7dce0b6741e2150273451</td>\n",
       "      <td>b0830fb4747a6c6d20dea0b8c802d7ef</td>\n",
       "      <td>delivered</td>\n",
       "      <td>2018-07-24 20:41:37</td>\n",
       "      <td>2018-07-26 03:24:27</td>\n",
       "      <td>2018-07-26 14:31:00</td>\n",
       "      <td>2018-08-07 15:27:45</td>\n",
       "      <td>2018-08-13</td>\n",
       "    </tr>\n",
       "    <tr>\n",
       "      <th>2</th>\n",
       "      <td>47770eb9100c2d0c44946d9cf07ec65d</td>\n",
       "      <td>41ce2a54c0b03bf3443c3d931a367089</td>\n",
       "      <td>delivered</td>\n",
       "      <td>2018-08-08 08:38:49</td>\n",
       "      <td>2018-08-08 08:55:23</td>\n",
       "      <td>2018-08-08 13:50:00</td>\n",
       "      <td>2018-08-17 18:06:29</td>\n",
       "      <td>2018-09-04</td>\n",
       "    </tr>\n",
       "    <tr>\n",
       "      <th>3</th>\n",
       "      <td>949d5b44dbf5de918fe9c16f97b45f8a</td>\n",
       "      <td>f88197465ea7920adcdbec7375364d82</td>\n",
       "      <td>delivered</td>\n",
       "      <td>2017-11-18 19:28:06</td>\n",
       "      <td>2017-11-18 19:45:59</td>\n",
       "      <td>2017-11-22 13:39:59</td>\n",
       "      <td>2017-12-02 00:28:42</td>\n",
       "      <td>2017-12-15</td>\n",
       "    </tr>\n",
       "    <tr>\n",
       "      <th>4</th>\n",
       "      <td>ad21c59c0840e6cb83a9ceb5573f8159</td>\n",
       "      <td>8ab97904e6daea8866dbdbc4fb7aad2c</td>\n",
       "      <td>delivered</td>\n",
       "      <td>2018-02-13 21:18:39</td>\n",
       "      <td>2018-02-13 22:20:29</td>\n",
       "      <td>2018-02-14 19:46:34</td>\n",
       "      <td>2018-02-16 18:17:02</td>\n",
       "      <td>2018-02-26</td>\n",
       "    </tr>\n",
       "    <tr>\n",
       "      <th>...</th>\n",
       "      <td>...</td>\n",
       "      <td>...</td>\n",
       "      <td>...</td>\n",
       "      <td>...</td>\n",
       "      <td>...</td>\n",
       "      <td>...</td>\n",
       "      <td>...</td>\n",
       "      <td>...</td>\n",
       "    </tr>\n",
       "    <tr>\n",
       "      <th>99436</th>\n",
       "      <td>9c5dedf39a927c1b2549525ed64a053c</td>\n",
       "      <td>39bd1228ee8140590ac3aca26f2dfe00</td>\n",
       "      <td>delivered</td>\n",
       "      <td>2017-03-09 09:54:05</td>\n",
       "      <td>2017-03-09 09:54:05</td>\n",
       "      <td>2017-03-10 11:18:03</td>\n",
       "      <td>2017-03-17 15:08:01</td>\n",
       "      <td>2017-03-28</td>\n",
       "    </tr>\n",
       "    <tr>\n",
       "      <th>99437</th>\n",
       "      <td>63943bddc261676b46f01ca7ac2f7bd8</td>\n",
       "      <td>1fca14ff2861355f6e5f14306ff977a7</td>\n",
       "      <td>delivered</td>\n",
       "      <td>2018-02-06 12:58:58</td>\n",
       "      <td>2018-02-06 13:10:37</td>\n",
       "      <td>2018-02-07 23:22:42</td>\n",
       "      <td>2018-02-28 17:37:56</td>\n",
       "      <td>2018-03-02</td>\n",
       "    </tr>\n",
       "    <tr>\n",
       "      <th>99438</th>\n",
       "      <td>83c1379a015df1e13d02aae0204711ab</td>\n",
       "      <td>1aa71eb042121263aafbe80c1b562c9c</td>\n",
       "      <td>delivered</td>\n",
       "      <td>2017-08-27 14:46:43</td>\n",
       "      <td>2017-08-27 15:04:16</td>\n",
       "      <td>2017-08-28 20:52:26</td>\n",
       "      <td>2017-09-21 11:24:17</td>\n",
       "      <td>2017-09-27</td>\n",
       "    </tr>\n",
       "    <tr>\n",
       "      <th>99439</th>\n",
       "      <td>11c177c8e97725db2631073c19f07b62</td>\n",
       "      <td>b331b74b18dc79bcdf6532d51e1637c1</td>\n",
       "      <td>delivered</td>\n",
       "      <td>2018-01-08 21:28:27</td>\n",
       "      <td>2018-01-08 21:36:21</td>\n",
       "      <td>2018-01-12 15:35:03</td>\n",
       "      <td>2018-01-25 23:32:54</td>\n",
       "      <td>2018-02-15</td>\n",
       "    </tr>\n",
       "    <tr>\n",
       "      <th>99440</th>\n",
       "      <td>66dea50a8b16d9b4dee7af250b4be1a5</td>\n",
       "      <td>edb027a75a1449115f6b43211ae02a24</td>\n",
       "      <td>delivered</td>\n",
       "      <td>2018-03-08 20:57:30</td>\n",
       "      <td>2018-03-09 11:20:28</td>\n",
       "      <td>2018-03-09 22:11:59</td>\n",
       "      <td>2018-03-16 13:08:30</td>\n",
       "      <td>2018-04-03</td>\n",
       "    </tr>\n",
       "  </tbody>\n",
       "</table>\n",
       "<p>96478 rows × 8 columns</p>\n",
       "</div>"
      ],
      "text/plain": [
       "                               order_id                       customer_id  \\\n",
       "0      e481f51cbdc54678b7cc49136f2d6af7  9ef432eb6251297304e76186b10a928d   \n",
       "1      53cdb2fc8bc7dce0b6741e2150273451  b0830fb4747a6c6d20dea0b8c802d7ef   \n",
       "2      47770eb9100c2d0c44946d9cf07ec65d  41ce2a54c0b03bf3443c3d931a367089   \n",
       "3      949d5b44dbf5de918fe9c16f97b45f8a  f88197465ea7920adcdbec7375364d82   \n",
       "4      ad21c59c0840e6cb83a9ceb5573f8159  8ab97904e6daea8866dbdbc4fb7aad2c   \n",
       "...                                 ...                               ...   \n",
       "99436  9c5dedf39a927c1b2549525ed64a053c  39bd1228ee8140590ac3aca26f2dfe00   \n",
       "99437  63943bddc261676b46f01ca7ac2f7bd8  1fca14ff2861355f6e5f14306ff977a7   \n",
       "99438  83c1379a015df1e13d02aae0204711ab  1aa71eb042121263aafbe80c1b562c9c   \n",
       "99439  11c177c8e97725db2631073c19f07b62  b331b74b18dc79bcdf6532d51e1637c1   \n",
       "99440  66dea50a8b16d9b4dee7af250b4be1a5  edb027a75a1449115f6b43211ae02a24   \n",
       "\n",
       "      order_status order_purchase_timestamp   order_approved_at  \\\n",
       "0        delivered      2017-10-02 10:56:33 2017-10-02 11:07:15   \n",
       "1        delivered      2018-07-24 20:41:37 2018-07-26 03:24:27   \n",
       "2        delivered      2018-08-08 08:38:49 2018-08-08 08:55:23   \n",
       "3        delivered      2017-11-18 19:28:06 2017-11-18 19:45:59   \n",
       "4        delivered      2018-02-13 21:18:39 2018-02-13 22:20:29   \n",
       "...            ...                      ...                 ...   \n",
       "99436    delivered      2017-03-09 09:54:05 2017-03-09 09:54:05   \n",
       "99437    delivered      2018-02-06 12:58:58 2018-02-06 13:10:37   \n",
       "99438    delivered      2017-08-27 14:46:43 2017-08-27 15:04:16   \n",
       "99439    delivered      2018-01-08 21:28:27 2018-01-08 21:36:21   \n",
       "99440    delivered      2018-03-08 20:57:30 2018-03-09 11:20:28   \n",
       "\n",
       "      order_delivered_carrier_date order_delivered_customer_date  \\\n",
       "0              2017-10-04 19:55:00           2017-10-10 21:25:13   \n",
       "1              2018-07-26 14:31:00           2018-08-07 15:27:45   \n",
       "2              2018-08-08 13:50:00           2018-08-17 18:06:29   \n",
       "3              2017-11-22 13:39:59           2017-12-02 00:28:42   \n",
       "4              2018-02-14 19:46:34           2018-02-16 18:17:02   \n",
       "...                            ...                           ...   \n",
       "99436          2017-03-10 11:18:03           2017-03-17 15:08:01   \n",
       "99437          2018-02-07 23:22:42           2018-02-28 17:37:56   \n",
       "99438          2017-08-28 20:52:26           2017-09-21 11:24:17   \n",
       "99439          2018-01-12 15:35:03           2018-01-25 23:32:54   \n",
       "99440          2018-03-09 22:11:59           2018-03-16 13:08:30   \n",
       "\n",
       "      order_estimated_delivery_date  \n",
       "0                        2017-10-18  \n",
       "1                        2018-08-13  \n",
       "2                        2018-09-04  \n",
       "3                        2017-12-15  \n",
       "4                        2018-02-26  \n",
       "...                             ...  \n",
       "99436                    2017-03-28  \n",
       "99437                    2018-03-02  \n",
       "99438                    2017-09-27  \n",
       "99439                    2018-02-15  \n",
       "99440                    2018-04-03  \n",
       "\n",
       "[96478 rows x 8 columns]"
      ]
     },
     "execution_count": 36,
     "metadata": {},
     "output_type": "execute_result"
    }
   ],
   "source": [
    "purchases"
   ]
  },
  {
   "cell_type": "code",
   "execution_count": 37,
   "metadata": {},
   "outputs": [],
   "source": [
    "product_purchases = order_items[['order_id', 'product_id']] \\\n",
    "        .merge(purchases[['order_id', 'order_purchase_timestamp']], \n",
    "               how='inner', on='order_id')"
   ]
  },
  {
   "cell_type": "markdown",
   "metadata": {},
   "source": [
    "В образовавшемся датафрейме имеются заказы, в составе которых один и тот же продукт встречается больше одного раза. Такие строки удалим, они негативно повлияют на результат подсчета (т.к. это один покупатель в одном заказе купил несколько одинаковых товаров, а для нас имеет значение только сам факт покупки товара конкретным покупателем в составе его заказа). Можно было бы еще убрать повторяющиеся заказы от одного покупателя в течение дня, если в них есть одинаковые товары, но не будем, все-таки два разных заказа.\n",
    "Повторением будет считаться совпадение значений сразу в двух колонках - order_id и product_id"
   ]
  },
  {
   "cell_type": "code",
   "execution_count": 38,
   "metadata": {},
   "outputs": [],
   "source": [
    "unique_product_purchases = product_purchases \\\n",
    "        .drop_duplicates(subset=['order_id', 'product_id'])"
   ]
  },
  {
   "cell_type": "code",
   "execution_count": 39,
   "metadata": {},
   "outputs": [],
   "source": [
    "# добавим колонку с названием дня недели, сгруппируем дф по product_id и day_name, \n",
    "# посчитаем количество покупок по дням\n",
    "# для того, чтобы оставить только день с наибольшим количеством покупок для каждого товара,\n",
    "# отсортируем дф по product_id и количеству покупок, а затем удалим дубликаты по каждому\n",
    "# product_id"
   ]
  },
  {
   "cell_type": "code",
   "execution_count": 40,
   "metadata": {},
   "outputs": [],
   "source": [
    "unique_product_purchases = unique_product_purchases \\\n",
    "                                .assign(day_name = unique_product_purchases \\\n",
    "                                .order_purchase_timestamp \\\n",
    "                                .dt.strftime(\"%A\"))"
   ]
  },
  {
   "cell_type": "code",
   "execution_count": 41,
   "metadata": {},
   "outputs": [
    {
     "data": {
      "text/html": [
       "<div>\n",
       "<style scoped>\n",
       "    .dataframe tbody tr th:only-of-type {\n",
       "        vertical-align: middle;\n",
       "    }\n",
       "\n",
       "    .dataframe tbody tr th {\n",
       "        vertical-align: top;\n",
       "    }\n",
       "\n",
       "    .dataframe thead th {\n",
       "        text-align: right;\n",
       "    }\n",
       "</style>\n",
       "<table border=\"1\" class=\"dataframe\">\n",
       "  <thead>\n",
       "    <tr style=\"text-align: right;\">\n",
       "      <th></th>\n",
       "      <th>product_id</th>\n",
       "      <th>day_name</th>\n",
       "      <th>purchases_number</th>\n",
       "    </tr>\n",
       "  </thead>\n",
       "  <tbody>\n",
       "    <tr>\n",
       "      <th>0</th>\n",
       "      <td>00066f42aeeb9f3007548bb9d3f33c38</td>\n",
       "      <td>Sunday</td>\n",
       "      <td>1</td>\n",
       "    </tr>\n",
       "    <tr>\n",
       "      <th>1</th>\n",
       "      <td>00088930e925c41fd95ebfe695fd2655</td>\n",
       "      <td>Tuesday</td>\n",
       "      <td>1</td>\n",
       "    </tr>\n",
       "    <tr>\n",
       "      <th>2</th>\n",
       "      <td>0009406fd7479715e4bef61dd91f2462</td>\n",
       "      <td>Thursday</td>\n",
       "      <td>1</td>\n",
       "    </tr>\n",
       "    <tr>\n",
       "      <th>3</th>\n",
       "      <td>000b8f95fcb9e0096488278317764d19</td>\n",
       "      <td>Friday</td>\n",
       "      <td>1</td>\n",
       "    </tr>\n",
       "    <tr>\n",
       "      <th>5</th>\n",
       "      <td>000d9be29b5207b54e86aa1b1ac54872</td>\n",
       "      <td>Tuesday</td>\n",
       "      <td>1</td>\n",
       "    </tr>\n",
       "    <tr>\n",
       "      <th>...</th>\n",
       "      <td>...</td>\n",
       "      <td>...</td>\n",
       "      <td>...</td>\n",
       "    </tr>\n",
       "    <tr>\n",
       "      <th>59944</th>\n",
       "      <td>fff6177642830a9a94a0f2cba5e476d1</td>\n",
       "      <td>Saturday</td>\n",
       "      <td>1</td>\n",
       "    </tr>\n",
       "    <tr>\n",
       "      <th>59946</th>\n",
       "      <td>fff81cc3158d2725c0655ab9ba0f712c</td>\n",
       "      <td>Monday</td>\n",
       "      <td>1</td>\n",
       "    </tr>\n",
       "    <tr>\n",
       "      <th>59947</th>\n",
       "      <td>fff9553ac224cec9d15d49f5a263411f</td>\n",
       "      <td>Friday</td>\n",
       "      <td>1</td>\n",
       "    </tr>\n",
       "    <tr>\n",
       "      <th>59951</th>\n",
       "      <td>fffdb2d0ec8d6a61f0a0a0db3f25b441</td>\n",
       "      <td>Tuesday</td>\n",
       "      <td>2</td>\n",
       "    </tr>\n",
       "    <tr>\n",
       "      <th>59952</th>\n",
       "      <td>fffe9eeff12fcbd74a2f2b007dde0c58</td>\n",
       "      <td>Wednesday</td>\n",
       "      <td>1</td>\n",
       "    </tr>\n",
       "  </tbody>\n",
       "</table>\n",
       "<p>32216 rows × 3 columns</p>\n",
       "</div>"
      ],
      "text/plain": [
       "                             product_id   day_name  purchases_number\n",
       "0      00066f42aeeb9f3007548bb9d3f33c38     Sunday                 1\n",
       "1      00088930e925c41fd95ebfe695fd2655    Tuesday                 1\n",
       "2      0009406fd7479715e4bef61dd91f2462   Thursday                 1\n",
       "3      000b8f95fcb9e0096488278317764d19     Friday                 1\n",
       "5      000d9be29b5207b54e86aa1b1ac54872    Tuesday                 1\n",
       "...                                 ...        ...               ...\n",
       "59944  fff6177642830a9a94a0f2cba5e476d1   Saturday                 1\n",
       "59946  fff81cc3158d2725c0655ab9ba0f712c     Monday                 1\n",
       "59947  fff9553ac224cec9d15d49f5a263411f     Friday                 1\n",
       "59951  fffdb2d0ec8d6a61f0a0a0db3f25b441    Tuesday                 2\n",
       "59952  fffe9eeff12fcbd74a2f2b007dde0c58  Wednesday                 1\n",
       "\n",
       "[32216 rows x 3 columns]"
      ]
     },
     "execution_count": 41,
     "metadata": {},
     "output_type": "execute_result"
    }
   ],
   "source": [
    "unique_product_purchases.groupby(['product_id', \n",
    "                                  'day_name'], as_index=False) \\\n",
    "                        .agg({'order_id' : 'count'}) \\\n",
    "                        .sort_values(['product_id', 'order_id'], ascending=[True, False]) \\\n",
    "                        .drop_duplicates('product_id') \\\n",
    "                        .rename(columns={'order_id' : 'purchases_number'})"
   ]
  },
  {
   "cell_type": "markdown",
   "metadata": {},
   "source": [
    "**Ответ на вопрос №3** - в паре колонок \"product_id\" - \"day_name\"\n",
    "\n",
    "Упущением этого результата является тот факт, что для товаров, у которых максимальное количество продаж приходится на несколько дней, показано только первое включение. Но в условиях вопроса нет уточнений на этот счет."
   ]
  },
  {
   "cell_type": "markdown",
   "metadata": {},
   "source": [
    "**4. Сколько у каждого из пользователей в среднем покупок в неделю (по месяцам)? Не стоит забывать, что внутри месяца может быть не целое количество недель. Например, в ноябре 2021 года 4,28 недели. И внутри метрики это нужно учесть. (8 баллов)**\n"
   ]
  },
  {
   "cell_type": "markdown",
   "metadata": {},
   "source": [
    "Датой покупки примем по колонке \"order_purchase_timestamp\" из дф purchases.\n",
    "Добавим к дф purchases колонку customer_unique_id из дф customers.\n",
    "Вынесем в новую колонку обозначение месяца и года из колонки \"order_purchase_timestamp\""
   ]
  },
  {
   "cell_type": "code",
   "execution_count": 42,
   "metadata": {},
   "outputs": [],
   "source": [
    "purchases_by_customers = purchases[['order_id', 'customer_id', 'order_purchase_timestamp']]\\\n",
    "    .merge(customers[['customer_unique_id', 'customer_id']], how='inner', on='customer_id')\\\n",
    "    .assign(month = purchases.order_purchase_timestamp.dt.strftime('%m-%Y'))"
   ]
  },
  {
   "cell_type": "code",
   "execution_count": 43,
   "metadata": {},
   "outputs": [
    {
     "data": {
      "text/html": [
       "<div>\n",
       "<style scoped>\n",
       "    .dataframe tbody tr th:only-of-type {\n",
       "        vertical-align: middle;\n",
       "    }\n",
       "\n",
       "    .dataframe tbody tr th {\n",
       "        vertical-align: top;\n",
       "    }\n",
       "\n",
       "    .dataframe thead th {\n",
       "        text-align: right;\n",
       "    }\n",
       "</style>\n",
       "<table border=\"1\" class=\"dataframe\">\n",
       "  <thead>\n",
       "    <tr style=\"text-align: right;\">\n",
       "      <th></th>\n",
       "      <th>order_id</th>\n",
       "      <th>customer_id</th>\n",
       "      <th>order_purchase_timestamp</th>\n",
       "      <th>customer_unique_id</th>\n",
       "      <th>month</th>\n",
       "    </tr>\n",
       "  </thead>\n",
       "  <tbody>\n",
       "    <tr>\n",
       "      <th>0</th>\n",
       "      <td>e481f51cbdc54678b7cc49136f2d6af7</td>\n",
       "      <td>9ef432eb6251297304e76186b10a928d</td>\n",
       "      <td>2017-10-02 10:56:33</td>\n",
       "      <td>7c396fd4830fd04220f754e42b4e5bff</td>\n",
       "      <td>10-2017</td>\n",
       "    </tr>\n",
       "    <tr>\n",
       "      <th>1</th>\n",
       "      <td>53cdb2fc8bc7dce0b6741e2150273451</td>\n",
       "      <td>b0830fb4747a6c6d20dea0b8c802d7ef</td>\n",
       "      <td>2018-07-24 20:41:37</td>\n",
       "      <td>af07308b275d755c9edb36a90c618231</td>\n",
       "      <td>07-2018</td>\n",
       "    </tr>\n",
       "    <tr>\n",
       "      <th>2</th>\n",
       "      <td>47770eb9100c2d0c44946d9cf07ec65d</td>\n",
       "      <td>41ce2a54c0b03bf3443c3d931a367089</td>\n",
       "      <td>2018-08-08 08:38:49</td>\n",
       "      <td>3a653a41f6f9fc3d2a113cf8398680e8</td>\n",
       "      <td>08-2018</td>\n",
       "    </tr>\n",
       "    <tr>\n",
       "      <th>3</th>\n",
       "      <td>949d5b44dbf5de918fe9c16f97b45f8a</td>\n",
       "      <td>f88197465ea7920adcdbec7375364d82</td>\n",
       "      <td>2017-11-18 19:28:06</td>\n",
       "      <td>7c142cf63193a1473d2e66489a9ae977</td>\n",
       "      <td>11-2017</td>\n",
       "    </tr>\n",
       "    <tr>\n",
       "      <th>4</th>\n",
       "      <td>ad21c59c0840e6cb83a9ceb5573f8159</td>\n",
       "      <td>8ab97904e6daea8866dbdbc4fb7aad2c</td>\n",
       "      <td>2018-02-13 21:18:39</td>\n",
       "      <td>72632f0f9dd73dfee390c9b22eb56dd6</td>\n",
       "      <td>02-2018</td>\n",
       "    </tr>\n",
       "  </tbody>\n",
       "</table>\n",
       "</div>"
      ],
      "text/plain": [
       "                           order_id                       customer_id  \\\n",
       "0  e481f51cbdc54678b7cc49136f2d6af7  9ef432eb6251297304e76186b10a928d   \n",
       "1  53cdb2fc8bc7dce0b6741e2150273451  b0830fb4747a6c6d20dea0b8c802d7ef   \n",
       "2  47770eb9100c2d0c44946d9cf07ec65d  41ce2a54c0b03bf3443c3d931a367089   \n",
       "3  949d5b44dbf5de918fe9c16f97b45f8a  f88197465ea7920adcdbec7375364d82   \n",
       "4  ad21c59c0840e6cb83a9ceb5573f8159  8ab97904e6daea8866dbdbc4fb7aad2c   \n",
       "\n",
       "  order_purchase_timestamp                customer_unique_id    month  \n",
       "0      2017-10-02 10:56:33  7c396fd4830fd04220f754e42b4e5bff  10-2017  \n",
       "1      2018-07-24 20:41:37  af07308b275d755c9edb36a90c618231  07-2018  \n",
       "2      2018-08-08 08:38:49  3a653a41f6f9fc3d2a113cf8398680e8  08-2018  \n",
       "3      2017-11-18 19:28:06  7c142cf63193a1473d2e66489a9ae977  11-2017  \n",
       "4      2018-02-13 21:18:39  72632f0f9dd73dfee390c9b22eb56dd6  02-2018  "
      ]
     },
     "execution_count": 43,
     "metadata": {},
     "output_type": "execute_result"
    }
   ],
   "source": [
    "purchases_by_customers.head()"
   ]
  },
  {
   "cell_type": "markdown",
   "metadata": {},
   "source": [
    "Сгруппируем датафрейм по уникальному номеру покупателя и месяцу совершения заказа, подсчитаем количество заказов по месяцам"
   ]
  },
  {
   "cell_type": "code",
   "execution_count": 44,
   "metadata": {},
   "outputs": [],
   "source": [
    "monthly_purchases = purchases_by_customers\\\n",
    "                    .groupby(['customer_unique_id', 'month'], as_index=False) \\\n",
    "                    .agg({'order_id' : 'count'}) \\\n",
    "                    .sort_values('order_id')"
   ]
  },
  {
   "cell_type": "markdown",
   "metadata": {},
   "source": [
    "Создадим функцию \"number_of_weeks\" для подсчета количества недель в указанном месяце совершения заказа.\n",
    "Добавим новую колонку, содержимое которой получим, применив созданную функцию к колонке \"month\"."
   ]
  },
  {
   "cell_type": "code",
   "execution_count": 45,
   "metadata": {},
   "outputs": [],
   "source": [
    "def number_of_weeks(month):\n",
    "    lst = month.split('-')\n",
    "    result = np.round((monthrange(int(lst[1]), int(lst[0]))[1] / 7), 2)\n",
    "    return result"
   ]
  },
  {
   "cell_type": "code",
   "execution_count": 46,
   "metadata": {},
   "outputs": [],
   "source": [
    "monthly_purchases = monthly_purchases \\\n",
    "        .assign(number_of_weeks = monthly_purchases.month.apply(number_of_weeks))"
   ]
  },
  {
   "cell_type": "code",
   "execution_count": 47,
   "metadata": {},
   "outputs": [],
   "source": [
    "monthly_purchases = monthly_purchases \\\n",
    "    .assign(weekly_avg = monthly_purchases.order_id / monthly_purchases.number_of_weeks) \\\n",
    "    .rename(columns={'order_id' : 'monthly_purchases'})"
   ]
  },
  {
   "cell_type": "markdown",
   "metadata": {},
   "source": [
    "**Ответ на вопрос №4** - в колонке \"weekly_avg\" датафрейма \"monthly_purchases\""
   ]
  },
  {
   "cell_type": "code",
   "execution_count": 48,
   "metadata": {},
   "outputs": [
    {
     "data": {
      "text/html": [
       "<div>\n",
       "<style scoped>\n",
       "    .dataframe tbody tr th:only-of-type {\n",
       "        vertical-align: middle;\n",
       "    }\n",
       "\n",
       "    .dataframe tbody tr th {\n",
       "        vertical-align: top;\n",
       "    }\n",
       "\n",
       "    .dataframe thead th {\n",
       "        text-align: right;\n",
       "    }\n",
       "</style>\n",
       "<table border=\"1\" class=\"dataframe\">\n",
       "  <thead>\n",
       "    <tr style=\"text-align: right;\">\n",
       "      <th></th>\n",
       "      <th>customer_unique_id</th>\n",
       "      <th>month</th>\n",
       "      <th>monthly_purchases</th>\n",
       "      <th>number_of_weeks</th>\n",
       "      <th>weekly_avg</th>\n",
       "    </tr>\n",
       "  </thead>\n",
       "  <tbody>\n",
       "    <tr>\n",
       "      <th>0</th>\n",
       "      <td>0000366f3b9a7992bf8c76cfdf3221e2</td>\n",
       "      <td>11-2017</td>\n",
       "      <td>1</td>\n",
       "      <td>4.29</td>\n",
       "      <td>0.233100</td>\n",
       "    </tr>\n",
       "    <tr>\n",
       "      <th>62245</th>\n",
       "      <td>aa3bf249b773d47a88cd191c16152086</td>\n",
       "      <td>06-2018</td>\n",
       "      <td>1</td>\n",
       "      <td>4.29</td>\n",
       "      <td>0.233100</td>\n",
       "    </tr>\n",
       "    <tr>\n",
       "      <th>62244</th>\n",
       "      <td>aa3bf249b773d47a88cd191c16152086</td>\n",
       "      <td>01-2018</td>\n",
       "      <td>1</td>\n",
       "      <td>4.43</td>\n",
       "      <td>0.225734</td>\n",
       "    </tr>\n",
       "    <tr>\n",
       "      <th>62243</th>\n",
       "      <td>aa3a82e3a970842ab3cf0f56dc5a7f9d</td>\n",
       "      <td>02-2018</td>\n",
       "      <td>1</td>\n",
       "      <td>4.00</td>\n",
       "      <td>0.250000</td>\n",
       "    </tr>\n",
       "    <tr>\n",
       "      <th>62242</th>\n",
       "      <td>aa39c70597efe60f3f395a2ad802ceea</td>\n",
       "      <td>08-2018</td>\n",
       "      <td>1</td>\n",
       "      <td>4.43</td>\n",
       "      <td>0.225734</td>\n",
       "    </tr>\n",
       "  </tbody>\n",
       "</table>\n",
       "</div>"
      ],
      "text/plain": [
       "                     customer_unique_id    month  monthly_purchases  \\\n",
       "0      0000366f3b9a7992bf8c76cfdf3221e2  11-2017                  1   \n",
       "62245  aa3bf249b773d47a88cd191c16152086  06-2018                  1   \n",
       "62244  aa3bf249b773d47a88cd191c16152086  01-2018                  1   \n",
       "62243  aa3a82e3a970842ab3cf0f56dc5a7f9d  02-2018                  1   \n",
       "62242  aa39c70597efe60f3f395a2ad802ceea  08-2018                  1   \n",
       "\n",
       "       number_of_weeks  weekly_avg  \n",
       "0                 4.29    0.233100  \n",
       "62245             4.29    0.233100  \n",
       "62244             4.43    0.225734  \n",
       "62243             4.00    0.250000  \n",
       "62242             4.43    0.225734  "
      ]
     },
     "execution_count": 48,
     "metadata": {},
     "output_type": "execute_result"
    }
   ],
   "source": [
    "monthly_purchases.head()"
   ]
  },
  {
   "cell_type": "markdown",
   "metadata": {},
   "source": [
    "**5. Используя pandas, проведи когортный анализ пользователей. В период с января по декабрь выяви когорту с самым высоким retention на 3й месяц. Описание подхода можно найти тут. (10 баллов)**"
   ]
  },
  {
   "cell_type": "markdown",
   "metadata": {},
   "source": [
    "Для ответа на вопрос не будем придерживаться определения покупки, данного в начале проекта. Нам важно понять, сколько пользователей вернулись, для этого можно использовать информацию о всех заказах. Для работы будем использовать даты создания заказов (order_purchase_timestamp)\n",
    "\n",
    "Признак формирования когорты - первый заказ\\\n",
    "Размер когорты - месяц, в который сделан первый заказ\\\n",
    "Отчетный период - 01.2017 - 12.2017\\\n",
    "Анализируемый ключевой показатель - retention"
   ]
  },
  {
   "cell_type": "code",
   "execution_count": 49,
   "metadata": {},
   "outputs": [],
   "source": [
    "# смерджим колонку с уникальными id покупателей\n",
    "orders_and_unique_customers = orders[['order_id', 'customer_id', \n",
    "                                      'order_purchase_timestamp']] \\\n",
    "    .merge(customers[['customer_unique_id', 'customer_id']], how='inner', on='customer_id')"
   ]
  },
  {
   "cell_type": "code",
   "execution_count": 50,
   "metadata": {},
   "outputs": [],
   "source": [
    "# присвоим переменной значения дат первых заказов уникальных покупателей\n",
    "first_order = orders_and_unique_customers.groupby('customer_unique_id', as_index=False) \\\n",
    "                            .agg({'order_purchase_timestamp' : 'min'}) \\\n",
    "                            .rename(columns={'order_purchase_timestamp' : 'first_order'})\n",
    "first_order.first_order = first_order.first_order.dt.to_period('M')\n"
   ]
  },
  {
   "cell_type": "code",
   "execution_count": 51,
   "metadata": {},
   "outputs": [],
   "source": [
    "# из колонки с датами создания заказов вынем год и месяц в отдельную колонку\n",
    "orders_and_unique_customers = orders_and_unique_customers\\\n",
    "        .assign(order_month = orders_and_unique_customers \\\n",
    "                .order_purchase_timestamp.dt.to_period('M'))"
   ]
  },
  {
   "cell_type": "code",
   "execution_count": 52,
   "metadata": {},
   "outputs": [],
   "source": [
    "# в датафрейм смерджим колонку с датой первого заказа по каждому уникальному пользователю\n",
    "orders_and_unique_customers = orders_and_unique_customers\\\n",
    "        .merge(first_order, how='inner', on='customer_unique_id')"
   ]
  },
  {
   "cell_type": "code",
   "execution_count": 53,
   "metadata": {},
   "outputs": [],
   "source": [
    "# добавим колонку с номерами рассматриваемых периодов для каждой когорты\n",
    "orders_and_unique_customers['cohort_period'] = \\\n",
    "(orders_and_unique_customers.order_month - orders_and_unique_customers.first_order) \\\n",
    "    .apply(attrgetter('n'))"
   ]
  },
  {
   "cell_type": "code",
   "execution_count": 54,
   "metadata": {},
   "outputs": [],
   "source": [
    "# сформируем серию с размерами когорт (количество первых заказов по месяцам)\n",
    "cohort_size = orders_and_unique_customers \\\n",
    "    .groupby('first_order') \\\n",
    "    .agg({'customer_unique_id' : 'nunique'}) \\\n",
    "    .rename(columns={'customer_unique_id' : 'cohort_size'})"
   ]
  },
  {
   "cell_type": "code",
   "execution_count": 55,
   "metadata": {},
   "outputs": [],
   "source": [
    "# формируем сгрупированный по когортам и периодам датафрейм\n",
    "cohorts_df = orders_and_unique_customers \\\n",
    "            .groupby(['first_order', 'cohort_period'], as_index=False) \\\n",
    "            .agg({'customer_unique_id' : 'nunique'}) \\\n",
    "            .merge(cohort_size, how='inner', on='first_order') \\\n",
    "            .rename(columns={'customer_unique_id' : 'customers'})"
   ]
  },
  {
   "cell_type": "code",
   "execution_count": 56,
   "metadata": {},
   "outputs": [],
   "source": [
    "# добавляем колонку с относительным количеством повторных заказов \n",
    "# (в процентах от размера когорты)\n",
    "cohorts_df['customers_percent'] = \\\n",
    "    np.round((cohorts_df.customers / cohorts_df.cohort_size) * 100, 2)"
   ]
  },
  {
   "cell_type": "code",
   "execution_count": 57,
   "metadata": {},
   "outputs": [],
   "source": [
    "# формируем финальную сводную таблицу с данными по количеству вернувшихся в течение \n",
    "# 12 месяцев пользователей \n",
    "retention_table = cohorts_df \\\n",
    "    .query('cohort_period >= 0 & cohort_period <= 12') \\\n",
    "    .pivot(index='first_order', columns='cohort_period', values='customers_percent') \\"
   ]
  },
  {
   "cell_type": "code",
   "execution_count": 58,
   "metadata": {},
   "outputs": [],
   "source": [
    "# оставим только когорты с января по декабрь 2017 года\n",
    "retention_table = \\\n",
    "    retention_table.query('(first_order >= \"2017-01\") and (first_order <= \"2017-12\")')"
   ]
  },
  {
   "cell_type": "code",
   "execution_count": 59,
   "metadata": {},
   "outputs": [],
   "source": [
    "# добавим название таблицы, применим форматирование и раскрасим ячейки в зависимости от \n",
    "# значения\n",
    "retention_table_styler = \\\n",
    "    retention_table\\\n",
    "        .rename_axis('cohort_names', axis='index')\\\n",
    "        .style\\\n",
    "        .set_caption('User retention')\\\n",
    "        .background_gradient(subset=retention_table.columns[1:14],cmap='viridis')\\\n",
    "        .format(\"{:.2f}%\", subset=retention_table.columns[0:14])\\\n",
    "        .highlight_null(null_color='white', subset=retention_table.columns[1:14])"
   ]
  },
  {
   "cell_type": "code",
   "execution_count": 60,
   "metadata": {},
   "outputs": [
    {
     "data": {
      "text/html": [
       "<style  type=\"text/css\" >\n",
       "#T_4077a52a_8f4a_11ed_bdbb_96000040dfb6row0_col1{\n",
       "            background-color:  #2f6c8e;\n",
       "            color:  #f1f1f1;\n",
       "        }#T_4077a52a_8f4a_11ed_bdbb_96000040dfb6row0_col2{\n",
       "            background-color:  #453781;\n",
       "            color:  #f1f1f1;\n",
       "        }#T_4077a52a_8f4a_11ed_bdbb_96000040dfb6row0_col3,#T_4077a52a_8f4a_11ed_bdbb_96000040dfb6row9_col2{\n",
       "            background-color:  #472d7b;\n",
       "            color:  #f1f1f1;\n",
       "        }#T_4077a52a_8f4a_11ed_bdbb_96000040dfb6row0_col4{\n",
       "            background-color:  #58c765;\n",
       "            color:  #000000;\n",
       "        }#T_4077a52a_8f4a_11ed_bdbb_96000040dfb6row0_col5,#T_4077a52a_8f4a_11ed_bdbb_96000040dfb6row7_col8,#T_4077a52a_8f4a_11ed_bdbb_96000040dfb6row10_col8{\n",
       "            background-color:  #471365;\n",
       "            color:  #f1f1f1;\n",
       "        }#T_4077a52a_8f4a_11ed_bdbb_96000040dfb6row0_col6,#T_4077a52a_8f4a_11ed_bdbb_96000040dfb6row0_col10,#T_4077a52a_8f4a_11ed_bdbb_96000040dfb6row0_col12,#T_4077a52a_8f4a_11ed_bdbb_96000040dfb6row2_col8,#T_4077a52a_8f4a_11ed_bdbb_96000040dfb6row4_col9,#T_4077a52a_8f4a_11ed_bdbb_96000040dfb6row5_col3,#T_4077a52a_8f4a_11ed_bdbb_96000040dfb6row5_col11,#T_4077a52a_8f4a_11ed_bdbb_96000040dfb6row7_col1,#T_4077a52a_8f4a_11ed_bdbb_96000040dfb6row7_col5,#T_4077a52a_8f4a_11ed_bdbb_96000040dfb6row8_col2,#T_4077a52a_8f4a_11ed_bdbb_96000040dfb6row8_col4,#T_4077a52a_8f4a_11ed_bdbb_96000040dfb6row9_col1,#T_4077a52a_8f4a_11ed_bdbb_96000040dfb6row9_col7{\n",
       "            background-color:  #fde725;\n",
       "            color:  #000000;\n",
       "        }#T_4077a52a_8f4a_11ed_bdbb_96000040dfb6row0_col7{\n",
       "            background-color:  #3a548c;\n",
       "            color:  #f1f1f1;\n",
       "        }#T_4077a52a_8f4a_11ed_bdbb_96000040dfb6row0_col8,#T_4077a52a_8f4a_11ed_bdbb_96000040dfb6row1_col1,#T_4077a52a_8f4a_11ed_bdbb_96000040dfb6row1_col5,#T_4077a52a_8f4a_11ed_bdbb_96000040dfb6row1_col10,#T_4077a52a_8f4a_11ed_bdbb_96000040dfb6row3_col2,#T_4077a52a_8f4a_11ed_bdbb_96000040dfb6row3_col12,#T_4077a52a_8f4a_11ed_bdbb_96000040dfb6row5_col8,#T_4077a52a_8f4a_11ed_bdbb_96000040dfb6row8_col11,#T_4077a52a_8f4a_11ed_bdbb_96000040dfb6row9_col3,#T_4077a52a_8f4a_11ed_bdbb_96000040dfb6row10_col4,#T_4077a52a_8f4a_11ed_bdbb_96000040dfb6row10_col6,#T_4077a52a_8f4a_11ed_bdbb_96000040dfb6row10_col9,#T_4077a52a_8f4a_11ed_bdbb_96000040dfb6row11_col7{\n",
       "            background-color:  #440154;\n",
       "            color:  #f1f1f1;\n",
       "        }#T_4077a52a_8f4a_11ed_bdbb_96000040dfb6row0_col9,#T_4077a52a_8f4a_11ed_bdbb_96000040dfb6row8_col12,#T_4077a52a_8f4a_11ed_bdbb_96000040dfb6row9_col11,#T_4077a52a_8f4a_11ed_bdbb_96000040dfb6row9_col12,#T_4077a52a_8f4a_11ed_bdbb_96000040dfb6row10_col10,#T_4077a52a_8f4a_11ed_bdbb_96000040dfb6row10_col11,#T_4077a52a_8f4a_11ed_bdbb_96000040dfb6row10_col12,#T_4077a52a_8f4a_11ed_bdbb_96000040dfb6row11_col9,#T_4077a52a_8f4a_11ed_bdbb_96000040dfb6row11_col10,#T_4077a52a_8f4a_11ed_bdbb_96000040dfb6row11_col11,#T_4077a52a_8f4a_11ed_bdbb_96000040dfb6row11_col12{\n",
       "            background-color:  #000000;\n",
       "            color:  #f1f1f1;\n",
       "            background-color:  white;\n",
       "        }#T_4077a52a_8f4a_11ed_bdbb_96000040dfb6row0_col11,#T_4077a52a_8f4a_11ed_bdbb_96000040dfb6row9_col5,#T_4077a52a_8f4a_11ed_bdbb_96000040dfb6row11_col5{\n",
       "            background-color:  #3f4788;\n",
       "            color:  #f1f1f1;\n",
       "        }#T_4077a52a_8f4a_11ed_bdbb_96000040dfb6row1_col2{\n",
       "            background-color:  #3b518b;\n",
       "            color:  #f1f1f1;\n",
       "        }#T_4077a52a_8f4a_11ed_bdbb_96000040dfb6row1_col3,#T_4077a52a_8f4a_11ed_bdbb_96000040dfb6row11_col1{\n",
       "            background-color:  #48186a;\n",
       "            color:  #f1f1f1;\n",
       "        }#T_4077a52a_8f4a_11ed_bdbb_96000040dfb6row1_col4{\n",
       "            background-color:  #6ece58;\n",
       "            color:  #000000;\n",
       "        }#T_4077a52a_8f4a_11ed_bdbb_96000040dfb6row1_col6{\n",
       "            background-color:  #365d8d;\n",
       "            color:  #f1f1f1;\n",
       "        }#T_4077a52a_8f4a_11ed_bdbb_96000040dfb6row1_col7,#T_4077a52a_8f4a_11ed_bdbb_96000040dfb6row4_col7{\n",
       "            background-color:  #2b758e;\n",
       "            color:  #f1f1f1;\n",
       "        }#T_4077a52a_8f4a_11ed_bdbb_96000040dfb6row1_col8,#T_4077a52a_8f4a_11ed_bdbb_96000040dfb6row11_col2{\n",
       "            background-color:  #424086;\n",
       "            color:  #f1f1f1;\n",
       "        }#T_4077a52a_8f4a_11ed_bdbb_96000040dfb6row1_col9{\n",
       "            background-color:  #40bd72;\n",
       "            color:  #000000;\n",
       "        }#T_4077a52a_8f4a_11ed_bdbb_96000040dfb6row1_col11{\n",
       "            background-color:  #73d056;\n",
       "            color:  #000000;\n",
       "        }#T_4077a52a_8f4a_11ed_bdbb_96000040dfb6row1_col12,#T_4077a52a_8f4a_11ed_bdbb_96000040dfb6row2_col9{\n",
       "            background-color:  #482979;\n",
       "            color:  #f1f1f1;\n",
       "        }#T_4077a52a_8f4a_11ed_bdbb_96000040dfb6row2_col1{\n",
       "            background-color:  #1fa088;\n",
       "            color:  #000000;\n",
       "        }#T_4077a52a_8f4a_11ed_bdbb_96000040dfb6row2_col2,#T_4077a52a_8f4a_11ed_bdbb_96000040dfb6row10_col2{\n",
       "            background-color:  #1f978b;\n",
       "            color:  #000000;\n",
       "        }#T_4077a52a_8f4a_11ed_bdbb_96000040dfb6row2_col3{\n",
       "            background-color:  #c2df23;\n",
       "            color:  #000000;\n",
       "        }#T_4077a52a_8f4a_11ed_bdbb_96000040dfb6row2_col4,#T_4077a52a_8f4a_11ed_bdbb_96000040dfb6row3_col4{\n",
       "            background-color:  #1f9e89;\n",
       "            color:  #000000;\n",
       "        }#T_4077a52a_8f4a_11ed_bdbb_96000040dfb6row2_col5,#T_4077a52a_8f4a_11ed_bdbb_96000040dfb6row2_col6{\n",
       "            background-color:  #482374;\n",
       "            color:  #f1f1f1;\n",
       "        }#T_4077a52a_8f4a_11ed_bdbb_96000040dfb6row2_col7,#T_4077a52a_8f4a_11ed_bdbb_96000040dfb6row3_col7,#T_4077a52a_8f4a_11ed_bdbb_96000040dfb6row6_col9{\n",
       "            background-color:  #7fd34e;\n",
       "            color:  #000000;\n",
       "        }#T_4077a52a_8f4a_11ed_bdbb_96000040dfb6row2_col10{\n",
       "            background-color:  #e7e419;\n",
       "            color:  #000000;\n",
       "        }#T_4077a52a_8f4a_11ed_bdbb_96000040dfb6row2_col11{\n",
       "            background-color:  #365c8d;\n",
       "            color:  #f1f1f1;\n",
       "        }#T_4077a52a_8f4a_11ed_bdbb_96000040dfb6row2_col12{\n",
       "            background-color:  #414487;\n",
       "            color:  #f1f1f1;\n",
       "        }#T_4077a52a_8f4a_11ed_bdbb_96000040dfb6row3_col1{\n",
       "            background-color:  #7cd250;\n",
       "            color:  #000000;\n",
       "        }#T_4077a52a_8f4a_11ed_bdbb_96000040dfb6row3_col3{\n",
       "            background-color:  #3b528b;\n",
       "            color:  #f1f1f1;\n",
       "        }#T_4077a52a_8f4a_11ed_bdbb_96000040dfb6row3_col5{\n",
       "            background-color:  #2e6e8e;\n",
       "            color:  #f1f1f1;\n",
       "        }#T_4077a52a_8f4a_11ed_bdbb_96000040dfb6row3_col6{\n",
       "            background-color:  #1f9f88;\n",
       "            color:  #000000;\n",
       "        }#T_4077a52a_8f4a_11ed_bdbb_96000040dfb6row3_col8{\n",
       "            background-color:  #81d34d;\n",
       "            color:  #000000;\n",
       "        }#T_4077a52a_8f4a_11ed_bdbb_96000040dfb6row3_col9,#T_4077a52a_8f4a_11ed_bdbb_96000040dfb6row7_col10,#T_4077a52a_8f4a_11ed_bdbb_96000040dfb6row8_col9{\n",
       "            background-color:  #24878e;\n",
       "            color:  #000000;\n",
       "        }#T_4077a52a_8f4a_11ed_bdbb_96000040dfb6row3_col10{\n",
       "            background-color:  #1f998a;\n",
       "            color:  #000000;\n",
       "        }#T_4077a52a_8f4a_11ed_bdbb_96000040dfb6row3_col11{\n",
       "            background-color:  #481b6d;\n",
       "            color:  #f1f1f1;\n",
       "        }#T_4077a52a_8f4a_11ed_bdbb_96000040dfb6row4_col1{\n",
       "            background-color:  #21a585;\n",
       "            color:  #000000;\n",
       "        }#T_4077a52a_8f4a_11ed_bdbb_96000040dfb6row4_col2{\n",
       "            background-color:  #c0df25;\n",
       "            color:  #000000;\n",
       "        }#T_4077a52a_8f4a_11ed_bdbb_96000040dfb6row4_col3{\n",
       "            background-color:  #d8e219;\n",
       "            color:  #000000;\n",
       "        }#T_4077a52a_8f4a_11ed_bdbb_96000040dfb6row4_col4,#T_4077a52a_8f4a_11ed_bdbb_96000040dfb6row7_col6{\n",
       "            background-color:  #26828e;\n",
       "            color:  #000000;\n",
       "        }#T_4077a52a_8f4a_11ed_bdbb_96000040dfb6row4_col5{\n",
       "            background-color:  #1f968b;\n",
       "            color:  #000000;\n",
       "        }#T_4077a52a_8f4a_11ed_bdbb_96000040dfb6row4_col6{\n",
       "            background-color:  #60ca60;\n",
       "            color:  #000000;\n",
       "        }#T_4077a52a_8f4a_11ed_bdbb_96000040dfb6row4_col8,#T_4077a52a_8f4a_11ed_bdbb_96000040dfb6row8_col10{\n",
       "            background-color:  #1fa187;\n",
       "            color:  #000000;\n",
       "        }#T_4077a52a_8f4a_11ed_bdbb_96000040dfb6row4_col10{\n",
       "            background-color:  #21918c;\n",
       "            color:  #000000;\n",
       "        }#T_4077a52a_8f4a_11ed_bdbb_96000040dfb6row4_col11{\n",
       "            background-color:  #d0e11c;\n",
       "            color:  #000000;\n",
       "        }#T_4077a52a_8f4a_11ed_bdbb_96000040dfb6row4_col12{\n",
       "            background-color:  #3e4c8a;\n",
       "            color:  #f1f1f1;\n",
       "        }#T_4077a52a_8f4a_11ed_bdbb_96000040dfb6row5_col1{\n",
       "            background-color:  #1e9b8a;\n",
       "            color:  #000000;\n",
       "        }#T_4077a52a_8f4a_11ed_bdbb_96000040dfb6row5_col2{\n",
       "            background-color:  #26818e;\n",
       "            color:  #000000;\n",
       "        }#T_4077a52a_8f4a_11ed_bdbb_96000040dfb6row5_col4{\n",
       "            background-color:  #3e4989;\n",
       "            color:  #f1f1f1;\n",
       "        }#T_4077a52a_8f4a_11ed_bdbb_96000040dfb6row5_col5{\n",
       "            background-color:  #2db27d;\n",
       "            color:  #000000;\n",
       "        }#T_4077a52a_8f4a_11ed_bdbb_96000040dfb6row5_col6{\n",
       "            background-color:  #32b67a;\n",
       "            color:  #000000;\n",
       "        }#T_4077a52a_8f4a_11ed_bdbb_96000040dfb6row5_col7{\n",
       "            background-color:  #1e9c89;\n",
       "            color:  #000000;\n",
       "        }#T_4077a52a_8f4a_11ed_bdbb_96000040dfb6row5_col9{\n",
       "            background-color:  #31b57b;\n",
       "            color:  #000000;\n",
       "        }#T_4077a52a_8f4a_11ed_bdbb_96000040dfb6row5_col10{\n",
       "            background-color:  #5ec962;\n",
       "            color:  #000000;\n",
       "        }#T_4077a52a_8f4a_11ed_bdbb_96000040dfb6row5_col12{\n",
       "            background-color:  #482475;\n",
       "            color:  #f1f1f1;\n",
       "        }#T_4077a52a_8f4a_11ed_bdbb_96000040dfb6row6_col1{\n",
       "            background-color:  #24aa83;\n",
       "            color:  #000000;\n",
       "        }#T_4077a52a_8f4a_11ed_bdbb_96000040dfb6row6_col2{\n",
       "            background-color:  #23888e;\n",
       "            color:  #000000;\n",
       "        }#T_4077a52a_8f4a_11ed_bdbb_96000040dfb6row6_col3,#T_4077a52a_8f4a_11ed_bdbb_96000040dfb6row7_col3{\n",
       "            background-color:  #1f988b;\n",
       "            color:  #000000;\n",
       "        }#T_4077a52a_8f4a_11ed_bdbb_96000040dfb6row6_col4{\n",
       "            background-color:  #31688e;\n",
       "            color:  #f1f1f1;\n",
       "        }#T_4077a52a_8f4a_11ed_bdbb_96000040dfb6row6_col5,#T_4077a52a_8f4a_11ed_bdbb_96000040dfb6row6_col8{\n",
       "            background-color:  #3d4e8a;\n",
       "            color:  #f1f1f1;\n",
       "        }#T_4077a52a_8f4a_11ed_bdbb_96000040dfb6row6_col6{\n",
       "            background-color:  #228d8d;\n",
       "            color:  #000000;\n",
       "        }#T_4077a52a_8f4a_11ed_bdbb_96000040dfb6row6_col7{\n",
       "            background-color:  #453882;\n",
       "            color:  #f1f1f1;\n",
       "        }#T_4077a52a_8f4a_11ed_bdbb_96000040dfb6row6_col10,#T_4077a52a_8f4a_11ed_bdbb_96000040dfb6row7_col11,#T_4077a52a_8f4a_11ed_bdbb_96000040dfb6row11_col8{\n",
       "            background-color:  #277f8e;\n",
       "            color:  #000000;\n",
       "        }#T_4077a52a_8f4a_11ed_bdbb_96000040dfb6row6_col11{\n",
       "            background-color:  #a0da39;\n",
       "            color:  #000000;\n",
       "        }#T_4077a52a_8f4a_11ed_bdbb_96000040dfb6row6_col12{\n",
       "            background-color:  #481668;\n",
       "            color:  #f1f1f1;\n",
       "        }#T_4077a52a_8f4a_11ed_bdbb_96000040dfb6row7_col2{\n",
       "            background-color:  #2c728e;\n",
       "            color:  #f1f1f1;\n",
       "        }#T_4077a52a_8f4a_11ed_bdbb_96000040dfb6row7_col4{\n",
       "            background-color:  #29af7f;\n",
       "            color:  #000000;\n",
       "        }#T_4077a52a_8f4a_11ed_bdbb_96000040dfb6row7_col7{\n",
       "            background-color:  #3aba76;\n",
       "            color:  #000000;\n",
       "        }#T_4077a52a_8f4a_11ed_bdbb_96000040dfb6row7_col9{\n",
       "            background-color:  #2f6b8e;\n",
       "            color:  #f1f1f1;\n",
       "        }#T_4077a52a_8f4a_11ed_bdbb_96000040dfb6row7_col12{\n",
       "            background-color:  #450559;\n",
       "            color:  #f1f1f1;\n",
       "        }#T_4077a52a_8f4a_11ed_bdbb_96000040dfb6row8_col1{\n",
       "            background-color:  #f1e51d;\n",
       "            color:  #000000;\n",
       "        }#T_4077a52a_8f4a_11ed_bdbb_96000040dfb6row8_col3{\n",
       "            background-color:  #28ae80;\n",
       "            color:  #000000;\n",
       "        }#T_4077a52a_8f4a_11ed_bdbb_96000040dfb6row8_col5{\n",
       "            background-color:  #39558c;\n",
       "            color:  #f1f1f1;\n",
       "        }#T_4077a52a_8f4a_11ed_bdbb_96000040dfb6row8_col6,#T_4077a52a_8f4a_11ed_bdbb_96000040dfb6row9_col6{\n",
       "            background-color:  #39568c;\n",
       "            color:  #f1f1f1;\n",
       "        }#T_4077a52a_8f4a_11ed_bdbb_96000040dfb6row8_col7{\n",
       "            background-color:  #25ab82;\n",
       "            color:  #000000;\n",
       "        }#T_4077a52a_8f4a_11ed_bdbb_96000040dfb6row8_col8{\n",
       "            background-color:  #65cb5e;\n",
       "            color:  #000000;\n",
       "        }#T_4077a52a_8f4a_11ed_bdbb_96000040dfb6row9_col4{\n",
       "            background-color:  #482878;\n",
       "            color:  #f1f1f1;\n",
       "        }#T_4077a52a_8f4a_11ed_bdbb_96000040dfb6row9_col8{\n",
       "            background-color:  #35b779;\n",
       "            color:  #000000;\n",
       "        }#T_4077a52a_8f4a_11ed_bdbb_96000040dfb6row9_col9{\n",
       "            background-color:  #1fa287;\n",
       "            color:  #000000;\n",
       "        }#T_4077a52a_8f4a_11ed_bdbb_96000040dfb6row9_col10{\n",
       "            background-color:  #32658e;\n",
       "            color:  #f1f1f1;\n",
       "        }#T_4077a52a_8f4a_11ed_bdbb_96000040dfb6row10_col1{\n",
       "            background-color:  #42be71;\n",
       "            color:  #000000;\n",
       "        }#T_4077a52a_8f4a_11ed_bdbb_96000040dfb6row10_col3{\n",
       "            background-color:  #375b8d;\n",
       "            color:  #f1f1f1;\n",
       "        }#T_4077a52a_8f4a_11ed_bdbb_96000040dfb6row10_col5{\n",
       "            background-color:  #443983;\n",
       "            color:  #f1f1f1;\n",
       "        }#T_4077a52a_8f4a_11ed_bdbb_96000040dfb6row10_col7{\n",
       "            background-color:  #25848e;\n",
       "            color:  #000000;\n",
       "        }#T_4077a52a_8f4a_11ed_bdbb_96000040dfb6row11_col3{\n",
       "            background-color:  #84d44b;\n",
       "            color:  #000000;\n",
       "        }#T_4077a52a_8f4a_11ed_bdbb_96000040dfb6row11_col4{\n",
       "            background-color:  #355e8d;\n",
       "            color:  #f1f1f1;\n",
       "        }#T_4077a52a_8f4a_11ed_bdbb_96000040dfb6row11_col6{\n",
       "            background-color:  #472c7a;\n",
       "            color:  #f1f1f1;\n",
       "        }</style><table id=\"T_4077a52a_8f4a_11ed_bdbb_96000040dfb6\" ><caption>User retention</caption><thead>    <tr>        <th class=\"index_name level0\" >cohort_period</th>        <th class=\"col_heading level0 col0\" >0</th>        <th class=\"col_heading level0 col1\" >1</th>        <th class=\"col_heading level0 col2\" >2</th>        <th class=\"col_heading level0 col3\" >3</th>        <th class=\"col_heading level0 col4\" >4</th>        <th class=\"col_heading level0 col5\" >5</th>        <th class=\"col_heading level0 col6\" >6</th>        <th class=\"col_heading level0 col7\" >7</th>        <th class=\"col_heading level0 col8\" >8</th>        <th class=\"col_heading level0 col9\" >9</th>        <th class=\"col_heading level0 col10\" >10</th>        <th class=\"col_heading level0 col11\" >11</th>        <th class=\"col_heading level0 col12\" >12</th>    </tr>    <tr>        <th class=\"index_name level0\" >cohort_names</th>        <th class=\"blank\" ></th>        <th class=\"blank\" ></th>        <th class=\"blank\" ></th>        <th class=\"blank\" ></th>        <th class=\"blank\" ></th>        <th class=\"blank\" ></th>        <th class=\"blank\" ></th>        <th class=\"blank\" ></th>        <th class=\"blank\" ></th>        <th class=\"blank\" ></th>        <th class=\"blank\" ></th>        <th class=\"blank\" ></th>        <th class=\"blank\" ></th>    </tr></thead><tbody>\n",
       "                <tr>\n",
       "                        <th id=\"T_4077a52a_8f4a_11ed_bdbb_96000040dfb6level0_row0\" class=\"row_heading level0 row0\" >2017-01</th>\n",
       "                        <td id=\"T_4077a52a_8f4a_11ed_bdbb_96000040dfb6row0_col0\" class=\"data row0 col0\" >100.00%</td>\n",
       "                        <td id=\"T_4077a52a_8f4a_11ed_bdbb_96000040dfb6row0_col1\" class=\"data row0 col1\" >0.39%</td>\n",
       "                        <td id=\"T_4077a52a_8f4a_11ed_bdbb_96000040dfb6row0_col2\" class=\"data row0 col2\" >0.26%</td>\n",
       "                        <td id=\"T_4077a52a_8f4a_11ed_bdbb_96000040dfb6row0_col3\" class=\"data row0 col3\" >0.13%</td>\n",
       "                        <td id=\"T_4077a52a_8f4a_11ed_bdbb_96000040dfb6row0_col4\" class=\"data row0 col4\" >0.39%</td>\n",
       "                        <td id=\"T_4077a52a_8f4a_11ed_bdbb_96000040dfb6row0_col5\" class=\"data row0 col5\" >0.13%</td>\n",
       "                        <td id=\"T_4077a52a_8f4a_11ed_bdbb_96000040dfb6row0_col6\" class=\"data row0 col6\" >0.52%</td>\n",
       "                        <td id=\"T_4077a52a_8f4a_11ed_bdbb_96000040dfb6row0_col7\" class=\"data row0 col7\" >0.13%</td>\n",
       "                        <td id=\"T_4077a52a_8f4a_11ed_bdbb_96000040dfb6row0_col8\" class=\"data row0 col8\" >0.13%</td>\n",
       "                        <td id=\"T_4077a52a_8f4a_11ed_bdbb_96000040dfb6row0_col9\" class=\"data row0 col9\" >nan%</td>\n",
       "                        <td id=\"T_4077a52a_8f4a_11ed_bdbb_96000040dfb6row0_col10\" class=\"data row0 col10\" >0.39%</td>\n",
       "                        <td id=\"T_4077a52a_8f4a_11ed_bdbb_96000040dfb6row0_col11\" class=\"data row0 col11\" >0.13%</td>\n",
       "                        <td id=\"T_4077a52a_8f4a_11ed_bdbb_96000040dfb6row0_col12\" class=\"data row0 col12\" >0.79%</td>\n",
       "            </tr>\n",
       "            <tr>\n",
       "                        <th id=\"T_4077a52a_8f4a_11ed_bdbb_96000040dfb6level0_row1\" class=\"row_heading level0 row1\" >2017-02</th>\n",
       "                        <td id=\"T_4077a52a_8f4a_11ed_bdbb_96000040dfb6row1_col0\" class=\"data row1 col0\" >100.00%</td>\n",
       "                        <td id=\"T_4077a52a_8f4a_11ed_bdbb_96000040dfb6row1_col1\" class=\"data row1 col1\" >0.23%</td>\n",
       "                        <td id=\"T_4077a52a_8f4a_11ed_bdbb_96000040dfb6row1_col2\" class=\"data row1 col2\" >0.29%</td>\n",
       "                        <td id=\"T_4077a52a_8f4a_11ed_bdbb_96000040dfb6row1_col3\" class=\"data row1 col3\" >0.11%</td>\n",
       "                        <td id=\"T_4077a52a_8f4a_11ed_bdbb_96000040dfb6row1_col4\" class=\"data row1 col4\" >0.40%</td>\n",
       "                        <td id=\"T_4077a52a_8f4a_11ed_bdbb_96000040dfb6row1_col5\" class=\"data row1 col5\" >0.11%</td>\n",
       "                        <td id=\"T_4077a52a_8f4a_11ed_bdbb_96000040dfb6row1_col6\" class=\"data row1 col6\" >0.23%</td>\n",
       "                        <td id=\"T_4077a52a_8f4a_11ed_bdbb_96000040dfb6row1_col7\" class=\"data row1 col7\" >0.17%</td>\n",
       "                        <td id=\"T_4077a52a_8f4a_11ed_bdbb_96000040dfb6row1_col8\" class=\"data row1 col8\" >0.17%</td>\n",
       "                        <td id=\"T_4077a52a_8f4a_11ed_bdbb_96000040dfb6row1_col9\" class=\"data row1 col9\" >0.23%</td>\n",
       "                        <td id=\"T_4077a52a_8f4a_11ed_bdbb_96000040dfb6row1_col10\" class=\"data row1 col10\" >0.11%</td>\n",
       "                        <td id=\"T_4077a52a_8f4a_11ed_bdbb_96000040dfb6row1_col11\" class=\"data row1 col11\" >0.29%</td>\n",
       "                        <td id=\"T_4077a52a_8f4a_11ed_bdbb_96000040dfb6row1_col12\" class=\"data row1 col12\" >0.17%</td>\n",
       "            </tr>\n",
       "            <tr>\n",
       "                        <th id=\"T_4077a52a_8f4a_11ed_bdbb_96000040dfb6level0_row2\" class=\"row_heading level0 row2\" >2017-03</th>\n",
       "                        <td id=\"T_4077a52a_8f4a_11ed_bdbb_96000040dfb6row2_col0\" class=\"data row2 col0\" >100.00%</td>\n",
       "                        <td id=\"T_4077a52a_8f4a_11ed_bdbb_96000040dfb6row2_col1\" class=\"data row2 col1\" >0.49%</td>\n",
       "                        <td id=\"T_4077a52a_8f4a_11ed_bdbb_96000040dfb6row2_col2\" class=\"data row2 col2\" >0.38%</td>\n",
       "                        <td id=\"T_4077a52a_8f4a_11ed_bdbb_96000040dfb6row2_col3\" class=\"data row2 col3\" >0.38%</td>\n",
       "                        <td id=\"T_4077a52a_8f4a_11ed_bdbb_96000040dfb6row2_col4\" class=\"data row2 col4\" >0.34%</td>\n",
       "                        <td id=\"T_4077a52a_8f4a_11ed_bdbb_96000040dfb6row2_col5\" class=\"data row2 col5\" >0.15%</td>\n",
       "                        <td id=\"T_4077a52a_8f4a_11ed_bdbb_96000040dfb6row2_col6\" class=\"data row2 col6\" >0.15%</td>\n",
       "                        <td id=\"T_4077a52a_8f4a_11ed_bdbb_96000040dfb6row2_col7\" class=\"data row2 col7\" >0.30%</td>\n",
       "                        <td id=\"T_4077a52a_8f4a_11ed_bdbb_96000040dfb6row2_col8\" class=\"data row2 col8\" >0.34%</td>\n",
       "                        <td id=\"T_4077a52a_8f4a_11ed_bdbb_96000040dfb6row2_col9\" class=\"data row2 col9\" >0.08%</td>\n",
       "                        <td id=\"T_4077a52a_8f4a_11ed_bdbb_96000040dfb6row2_col10\" class=\"data row2 col10\" >0.38%</td>\n",
       "                        <td id=\"T_4077a52a_8f4a_11ed_bdbb_96000040dfb6row2_col11\" class=\"data row2 col11\" >0.15%</td>\n",
       "                        <td id=\"T_4077a52a_8f4a_11ed_bdbb_96000040dfb6row2_col12\" class=\"data row2 col12\" >0.23%</td>\n",
       "            </tr>\n",
       "            <tr>\n",
       "                        <th id=\"T_4077a52a_8f4a_11ed_bdbb_96000040dfb6level0_row3\" class=\"row_heading level0 row3\" >2017-04</th>\n",
       "                        <td id=\"T_4077a52a_8f4a_11ed_bdbb_96000040dfb6row3_col0\" class=\"data row3 col0\" >100.00%</td>\n",
       "                        <td id=\"T_4077a52a_8f4a_11ed_bdbb_96000040dfb6row3_col1\" class=\"data row3 col1\" >0.60%</td>\n",
       "                        <td id=\"T_4077a52a_8f4a_11ed_bdbb_96000040dfb6row3_col2\" class=\"data row3 col2\" >0.21%</td>\n",
       "                        <td id=\"T_4077a52a_8f4a_11ed_bdbb_96000040dfb6row3_col3\" class=\"data row3 col3\" >0.17%</td>\n",
       "                        <td id=\"T_4077a52a_8f4a_11ed_bdbb_96000040dfb6row3_col4\" class=\"data row3 col4\" >0.34%</td>\n",
       "                        <td id=\"T_4077a52a_8f4a_11ed_bdbb_96000040dfb6row3_col5\" class=\"data row3 col5\" >0.26%</td>\n",
       "                        <td id=\"T_4077a52a_8f4a_11ed_bdbb_96000040dfb6row3_col6\" class=\"data row3 col6\" >0.34%</td>\n",
       "                        <td id=\"T_4077a52a_8f4a_11ed_bdbb_96000040dfb6row3_col7\" class=\"data row3 col7\" >0.30%</td>\n",
       "                        <td id=\"T_4077a52a_8f4a_11ed_bdbb_96000040dfb6row3_col8\" class=\"data row3 col8\" >0.30%</td>\n",
       "                        <td id=\"T_4077a52a_8f4a_11ed_bdbb_96000040dfb6row3_col9\" class=\"data row3 col9\" >0.17%</td>\n",
       "                        <td id=\"T_4077a52a_8f4a_11ed_bdbb_96000040dfb6row3_col10\" class=\"data row3 col10\" >0.26%</td>\n",
       "                        <td id=\"T_4077a52a_8f4a_11ed_bdbb_96000040dfb6row3_col11\" class=\"data row3 col11\" >0.09%</td>\n",
       "                        <td id=\"T_4077a52a_8f4a_11ed_bdbb_96000040dfb6row3_col12\" class=\"data row3 col12\" >0.09%</td>\n",
       "            </tr>\n",
       "            <tr>\n",
       "                        <th id=\"T_4077a52a_8f4a_11ed_bdbb_96000040dfb6level0_row4\" class=\"row_heading level0 row4\" >2017-05</th>\n",
       "                        <td id=\"T_4077a52a_8f4a_11ed_bdbb_96000040dfb6row4_col0\" class=\"data row4 col0\" >100.00%</td>\n",
       "                        <td id=\"T_4077a52a_8f4a_11ed_bdbb_96000040dfb6row4_col1\" class=\"data row4 col1\" >0.50%</td>\n",
       "                        <td id=\"T_4077a52a_8f4a_11ed_bdbb_96000040dfb6row4_col2\" class=\"data row4 col2\" >0.50%</td>\n",
       "                        <td id=\"T_4077a52a_8f4a_11ed_bdbb_96000040dfb6row4_col3\" class=\"data row4 col3\" >0.39%</td>\n",
       "                        <td id=\"T_4077a52a_8f4a_11ed_bdbb_96000040dfb6row4_col4\" class=\"data row4 col4\" >0.31%</td>\n",
       "                        <td id=\"T_4077a52a_8f4a_11ed_bdbb_96000040dfb6row4_col5\" class=\"data row4 col5\" >0.33%</td>\n",
       "                        <td id=\"T_4077a52a_8f4a_11ed_bdbb_96000040dfb6row4_col6\" class=\"data row4 col6\" >0.42%</td>\n",
       "                        <td id=\"T_4077a52a_8f4a_11ed_bdbb_96000040dfb6row4_col7\" class=\"data row4 col7\" >0.17%</td>\n",
       "                        <td id=\"T_4077a52a_8f4a_11ed_bdbb_96000040dfb6row4_col8\" class=\"data row4 col8\" >0.25%</td>\n",
       "                        <td id=\"T_4077a52a_8f4a_11ed_bdbb_96000040dfb6row4_col9\" class=\"data row4 col9\" >0.31%</td>\n",
       "                        <td id=\"T_4077a52a_8f4a_11ed_bdbb_96000040dfb6row4_col10\" class=\"data row4 col10\" >0.25%</td>\n",
       "                        <td id=\"T_4077a52a_8f4a_11ed_bdbb_96000040dfb6row4_col11\" class=\"data row4 col11\" >0.33%</td>\n",
       "                        <td id=\"T_4077a52a_8f4a_11ed_bdbb_96000040dfb6row4_col12\" class=\"data row4 col12\" >0.25%</td>\n",
       "            </tr>\n",
       "            <tr>\n",
       "                        <th id=\"T_4077a52a_8f4a_11ed_bdbb_96000040dfb6level0_row5\" class=\"row_heading level0 row5\" >2017-06</th>\n",
       "                        <td id=\"T_4077a52a_8f4a_11ed_bdbb_96000040dfb6row5_col0\" class=\"data row5 col0\" >100.00%</td>\n",
       "                        <td id=\"T_4077a52a_8f4a_11ed_bdbb_96000040dfb6row5_col1\" class=\"data row5 col1\" >0.48%</td>\n",
       "                        <td id=\"T_4077a52a_8f4a_11ed_bdbb_96000040dfb6row5_col2\" class=\"data row5 col2\" >0.35%</td>\n",
       "                        <td id=\"T_4077a52a_8f4a_11ed_bdbb_96000040dfb6row5_col3\" class=\"data row5 col3\" >0.41%</td>\n",
       "                        <td id=\"T_4077a52a_8f4a_11ed_bdbb_96000040dfb6row5_col4\" class=\"data row5 col4\" >0.25%</td>\n",
       "                        <td id=\"T_4077a52a_8f4a_11ed_bdbb_96000040dfb6row5_col5\" class=\"data row5 col5\" >0.38%</td>\n",
       "                        <td id=\"T_4077a52a_8f4a_11ed_bdbb_96000040dfb6row5_col6\" class=\"data row5 col6\" >0.38%</td>\n",
       "                        <td id=\"T_4077a52a_8f4a_11ed_bdbb_96000040dfb6row5_col7\" class=\"data row5 col7\" >0.22%</td>\n",
       "                        <td id=\"T_4077a52a_8f4a_11ed_bdbb_96000040dfb6row5_col8\" class=\"data row5 col8\" >0.13%</td>\n",
       "                        <td id=\"T_4077a52a_8f4a_11ed_bdbb_96000040dfb6row5_col9\" class=\"data row5 col9\" >0.22%</td>\n",
       "                        <td id=\"T_4077a52a_8f4a_11ed_bdbb_96000040dfb6row5_col10\" class=\"data row5 col10\" >0.32%</td>\n",
       "                        <td id=\"T_4077a52a_8f4a_11ed_bdbb_96000040dfb6row5_col11\" class=\"data row5 col11\" >0.35%</td>\n",
       "                        <td id=\"T_4077a52a_8f4a_11ed_bdbb_96000040dfb6row5_col12\" class=\"data row5 col12\" >0.16%</td>\n",
       "            </tr>\n",
       "            <tr>\n",
       "                        <th id=\"T_4077a52a_8f4a_11ed_bdbb_96000040dfb6level0_row6\" class=\"row_heading level0 row6\" >2017-07</th>\n",
       "                        <td id=\"T_4077a52a_8f4a_11ed_bdbb_96000040dfb6row6_col0\" class=\"data row6 col0\" >100.00%</td>\n",
       "                        <td id=\"T_4077a52a_8f4a_11ed_bdbb_96000040dfb6row6_col1\" class=\"data row6 col1\" >0.51%</td>\n",
       "                        <td id=\"T_4077a52a_8f4a_11ed_bdbb_96000040dfb6row6_col2\" class=\"data row6 col2\" >0.36%</td>\n",
       "                        <td id=\"T_4077a52a_8f4a_11ed_bdbb_96000040dfb6row6_col3\" class=\"data row6 col3\" >0.26%</td>\n",
       "                        <td id=\"T_4077a52a_8f4a_11ed_bdbb_96000040dfb6row6_col4\" class=\"data row6 col4\" >0.28%</td>\n",
       "                        <td id=\"T_4077a52a_8f4a_11ed_bdbb_96000040dfb6row6_col5\" class=\"data row6 col5\" >0.21%</td>\n",
       "                        <td id=\"T_4077a52a_8f4a_11ed_bdbb_96000040dfb6row6_col6\" class=\"data row6 col6\" >0.31%</td>\n",
       "                        <td id=\"T_4077a52a_8f4a_11ed_bdbb_96000040dfb6row6_col7\" class=\"data row6 col7\" >0.10%</td>\n",
       "                        <td id=\"T_4077a52a_8f4a_11ed_bdbb_96000040dfb6row6_col8\" class=\"data row6 col8\" >0.18%</td>\n",
       "                        <td id=\"T_4077a52a_8f4a_11ed_bdbb_96000040dfb6row6_col9\" class=\"data row6 col9\" >0.26%</td>\n",
       "                        <td id=\"T_4077a52a_8f4a_11ed_bdbb_96000040dfb6row6_col10\" class=\"data row6 col10\" >0.23%</td>\n",
       "                        <td id=\"T_4077a52a_8f4a_11ed_bdbb_96000040dfb6row6_col11\" class=\"data row6 col11\" >0.31%</td>\n",
       "                        <td id=\"T_4077a52a_8f4a_11ed_bdbb_96000040dfb6row6_col12\" class=\"data row6 col12\" >0.13%</td>\n",
       "            </tr>\n",
       "            <tr>\n",
       "                        <th id=\"T_4077a52a_8f4a_11ed_bdbb_96000040dfb6level0_row7\" class=\"row_heading level0 row7\" >2017-08</th>\n",
       "                        <td id=\"T_4077a52a_8f4a_11ed_bdbb_96000040dfb6row7_col0\" class=\"data row7 col0\" >100.00%</td>\n",
       "                        <td id=\"T_4077a52a_8f4a_11ed_bdbb_96000040dfb6row7_col1\" class=\"data row7 col1\" >0.69%</td>\n",
       "                        <td id=\"T_4077a52a_8f4a_11ed_bdbb_96000040dfb6row7_col2\" class=\"data row7 col2\" >0.33%</td>\n",
       "                        <td id=\"T_4077a52a_8f4a_11ed_bdbb_96000040dfb6row7_col3\" class=\"data row7 col3\" >0.26%</td>\n",
       "                        <td id=\"T_4077a52a_8f4a_11ed_bdbb_96000040dfb6row7_col4\" class=\"data row7 col4\" >0.36%</td>\n",
       "                        <td id=\"T_4077a52a_8f4a_11ed_bdbb_96000040dfb6row7_col5\" class=\"data row7 col5\" >0.53%</td>\n",
       "                        <td id=\"T_4077a52a_8f4a_11ed_bdbb_96000040dfb6row7_col6\" class=\"data row7 col6\" >0.29%</td>\n",
       "                        <td id=\"T_4077a52a_8f4a_11ed_bdbb_96000040dfb6row7_col7\" class=\"data row7 col7\" >0.26%</td>\n",
       "                        <td id=\"T_4077a52a_8f4a_11ed_bdbb_96000040dfb6row7_col8\" class=\"data row7 col8\" >0.14%</td>\n",
       "                        <td id=\"T_4077a52a_8f4a_11ed_bdbb_96000040dfb6row7_col9\" class=\"data row7 col9\" >0.14%</td>\n",
       "                        <td id=\"T_4077a52a_8f4a_11ed_bdbb_96000040dfb6row7_col10\" class=\"data row7 col10\" >0.24%</td>\n",
       "                        <td id=\"T_4077a52a_8f4a_11ed_bdbb_96000040dfb6row7_col11\" class=\"data row7 col11\" >0.19%</td>\n",
       "                        <td id=\"T_4077a52a_8f4a_11ed_bdbb_96000040dfb6row7_col12\" class=\"data row7 col12\" >0.10%</td>\n",
       "            </tr>\n",
       "            <tr>\n",
       "                        <th id=\"T_4077a52a_8f4a_11ed_bdbb_96000040dfb6level0_row8\" class=\"row_heading level0 row8\" >2017-09</th>\n",
       "                        <td id=\"T_4077a52a_8f4a_11ed_bdbb_96000040dfb6row8_col0\" class=\"data row8 col0\" >100.00%</td>\n",
       "                        <td id=\"T_4077a52a_8f4a_11ed_bdbb_96000040dfb6row8_col1\" class=\"data row8 col1\" >0.68%</td>\n",
       "                        <td id=\"T_4077a52a_8f4a_11ed_bdbb_96000040dfb6row8_col2\" class=\"data row8 col2\" >0.53%</td>\n",
       "                        <td id=\"T_4077a52a_8f4a_11ed_bdbb_96000040dfb6row8_col3\" class=\"data row8 col3\" >0.29%</td>\n",
       "                        <td id=\"T_4077a52a_8f4a_11ed_bdbb_96000040dfb6row8_col4\" class=\"data row8 col4\" >0.46%</td>\n",
       "                        <td id=\"T_4077a52a_8f4a_11ed_bdbb_96000040dfb6row8_col5\" class=\"data row8 col5\" >0.22%</td>\n",
       "                        <td id=\"T_4077a52a_8f4a_11ed_bdbb_96000040dfb6row8_col6\" class=\"data row8 col6\" >0.22%</td>\n",
       "                        <td id=\"T_4077a52a_8f4a_11ed_bdbb_96000040dfb6row8_col7\" class=\"data row8 col7\" >0.24%</td>\n",
       "                        <td id=\"T_4077a52a_8f4a_11ed_bdbb_96000040dfb6row8_col8\" class=\"data row8 col8\" >0.29%</td>\n",
       "                        <td id=\"T_4077a52a_8f4a_11ed_bdbb_96000040dfb6row8_col9\" class=\"data row8 col9\" >0.17%</td>\n",
       "                        <td id=\"T_4077a52a_8f4a_11ed_bdbb_96000040dfb6row8_col10\" class=\"data row8 col10\" >0.27%</td>\n",
       "                        <td id=\"T_4077a52a_8f4a_11ed_bdbb_96000040dfb6row8_col11\" class=\"data row8 col11\" >0.07%</td>\n",
       "                        <td id=\"T_4077a52a_8f4a_11ed_bdbb_96000040dfb6row8_col12\" class=\"data row8 col12\" >nan%</td>\n",
       "            </tr>\n",
       "            <tr>\n",
       "                        <th id=\"T_4077a52a_8f4a_11ed_bdbb_96000040dfb6level0_row9\" class=\"row_heading level0 row9\" >2017-10</th>\n",
       "                        <td id=\"T_4077a52a_8f4a_11ed_bdbb_96000040dfb6row9_col0\" class=\"data row9 col0\" >100.00%</td>\n",
       "                        <td id=\"T_4077a52a_8f4a_11ed_bdbb_96000040dfb6row9_col1\" class=\"data row9 col1\" >0.69%</td>\n",
       "                        <td id=\"T_4077a52a_8f4a_11ed_bdbb_96000040dfb6row9_col2\" class=\"data row9 col2\" >0.25%</td>\n",
       "                        <td id=\"T_4077a52a_8f4a_11ed_bdbb_96000040dfb6row9_col3\" class=\"data row9 col3\" >0.09%</td>\n",
       "                        <td id=\"T_4077a52a_8f4a_11ed_bdbb_96000040dfb6row9_col4\" class=\"data row9 col4\" >0.22%</td>\n",
       "                        <td id=\"T_4077a52a_8f4a_11ed_bdbb_96000040dfb6row9_col5\" class=\"data row9 col5\" >0.20%</td>\n",
       "                        <td id=\"T_4077a52a_8f4a_11ed_bdbb_96000040dfb6row9_col6\" class=\"data row9 col6\" >0.22%</td>\n",
       "                        <td id=\"T_4077a52a_8f4a_11ed_bdbb_96000040dfb6row9_col7\" class=\"data row9 col7\" >0.36%</td>\n",
       "                        <td id=\"T_4077a52a_8f4a_11ed_bdbb_96000040dfb6row9_col8\" class=\"data row9 col8\" >0.27%</td>\n",
       "                        <td id=\"T_4077a52a_8f4a_11ed_bdbb_96000040dfb6row9_col9\" class=\"data row9 col9\" >0.20%</td>\n",
       "                        <td id=\"T_4077a52a_8f4a_11ed_bdbb_96000040dfb6row9_col10\" class=\"data row9 col10\" >0.20%</td>\n",
       "                        <td id=\"T_4077a52a_8f4a_11ed_bdbb_96000040dfb6row9_col11\" class=\"data row9 col11\" >nan%</td>\n",
       "                        <td id=\"T_4077a52a_8f4a_11ed_bdbb_96000040dfb6row9_col12\" class=\"data row9 col12\" >nan%</td>\n",
       "            </tr>\n",
       "            <tr>\n",
       "                        <th id=\"T_4077a52a_8f4a_11ed_bdbb_96000040dfb6level0_row10\" class=\"row_heading level0 row10\" >2017-11</th>\n",
       "                        <td id=\"T_4077a52a_8f4a_11ed_bdbb_96000040dfb6row10_col0\" class=\"data row10 col0\" >100.00%</td>\n",
       "                        <td id=\"T_4077a52a_8f4a_11ed_bdbb_96000040dfb6row10_col1\" class=\"data row10 col1\" >0.55%</td>\n",
       "                        <td id=\"T_4077a52a_8f4a_11ed_bdbb_96000040dfb6row10_col2\" class=\"data row10 col2\" >0.38%</td>\n",
       "                        <td id=\"T_4077a52a_8f4a_11ed_bdbb_96000040dfb6row10_col3\" class=\"data row10 col3\" >0.18%</td>\n",
       "                        <td id=\"T_4077a52a_8f4a_11ed_bdbb_96000040dfb6row10_col4\" class=\"data row10 col4\" >0.19%</td>\n",
       "                        <td id=\"T_4077a52a_8f4a_11ed_bdbb_96000040dfb6row10_col5\" class=\"data row10 col5\" >0.18%</td>\n",
       "                        <td id=\"T_4077a52a_8f4a_11ed_bdbb_96000040dfb6row10_col6\" class=\"data row10 col6\" >0.11%</td>\n",
       "                        <td id=\"T_4077a52a_8f4a_11ed_bdbb_96000040dfb6row10_col7\" class=\"data row10 col7\" >0.19%</td>\n",
       "                        <td id=\"T_4077a52a_8f4a_11ed_bdbb_96000040dfb6row10_col8\" class=\"data row10 col8\" >0.14%</td>\n",
       "                        <td id=\"T_4077a52a_8f4a_11ed_bdbb_96000040dfb6row10_col9\" class=\"data row10 col9\" >0.05%</td>\n",
       "                        <td id=\"T_4077a52a_8f4a_11ed_bdbb_96000040dfb6row10_col10\" class=\"data row10 col10\" >nan%</td>\n",
       "                        <td id=\"T_4077a52a_8f4a_11ed_bdbb_96000040dfb6row10_col11\" class=\"data row10 col11\" >nan%</td>\n",
       "                        <td id=\"T_4077a52a_8f4a_11ed_bdbb_96000040dfb6row10_col12\" class=\"data row10 col12\" >nan%</td>\n",
       "            </tr>\n",
       "            <tr>\n",
       "                        <th id=\"T_4077a52a_8f4a_11ed_bdbb_96000040dfb6level0_row11\" class=\"row_heading level0 row11\" >2017-12</th>\n",
       "                        <td id=\"T_4077a52a_8f4a_11ed_bdbb_96000040dfb6row11_col0\" class=\"data row11 col0\" >100.00%</td>\n",
       "                        <td id=\"T_4077a52a_8f4a_11ed_bdbb_96000040dfb6row11_col1\" class=\"data row11 col1\" >0.26%</td>\n",
       "                        <td id=\"T_4077a52a_8f4a_11ed_bdbb_96000040dfb6row11_col2\" class=\"data row11 col2\" >0.27%</td>\n",
       "                        <td id=\"T_4077a52a_8f4a_11ed_bdbb_96000040dfb6row11_col3\" class=\"data row11 col3\" >0.35%</td>\n",
       "                        <td id=\"T_4077a52a_8f4a_11ed_bdbb_96000040dfb6row11_col4\" class=\"data row11 col4\" >0.27%</td>\n",
       "                        <td id=\"T_4077a52a_8f4a_11ed_bdbb_96000040dfb6row11_col5\" class=\"data row11 col5\" >0.20%</td>\n",
       "                        <td id=\"T_4077a52a_8f4a_11ed_bdbb_96000040dfb6row11_col6\" class=\"data row11 col6\" >0.16%</td>\n",
       "                        <td id=\"T_4077a52a_8f4a_11ed_bdbb_96000040dfb6row11_col7\" class=\"data row11 col7\" >0.05%</td>\n",
       "                        <td id=\"T_4077a52a_8f4a_11ed_bdbb_96000040dfb6row11_col8\" class=\"data row11 col8\" >0.22%</td>\n",
       "                        <td id=\"T_4077a52a_8f4a_11ed_bdbb_96000040dfb6row11_col9\" class=\"data row11 col9\" >nan%</td>\n",
       "                        <td id=\"T_4077a52a_8f4a_11ed_bdbb_96000040dfb6row11_col10\" class=\"data row11 col10\" >nan%</td>\n",
       "                        <td id=\"T_4077a52a_8f4a_11ed_bdbb_96000040dfb6row11_col11\" class=\"data row11 col11\" >nan%</td>\n",
       "                        <td id=\"T_4077a52a_8f4a_11ed_bdbb_96000040dfb6row11_col12\" class=\"data row11 col12\" >nan%</td>\n",
       "            </tr>\n",
       "    </tbody></table>"
      ],
      "text/plain": [
       "<pandas.io.formats.style.Styler at 0x7ff0678664e0>"
      ]
     },
     "execution_count": 60,
     "metadata": {},
     "output_type": "execute_result"
    }
   ],
   "source": [
    "# итоговая таблица\n",
    "retention_table_styler"
   ]
  },
  {
   "cell_type": "code",
   "execution_count": 61,
   "metadata": {},
   "outputs": [
    {
     "data": {
      "text/html": [
       "<div>\n",
       "<style scoped>\n",
       "    .dataframe tbody tr th:only-of-type {\n",
       "        vertical-align: middle;\n",
       "    }\n",
       "\n",
       "    .dataframe tbody tr th {\n",
       "        vertical-align: top;\n",
       "    }\n",
       "\n",
       "    .dataframe thead th {\n",
       "        text-align: right;\n",
       "    }\n",
       "</style>\n",
       "<table border=\"1\" class=\"dataframe\">\n",
       "  <thead>\n",
       "    <tr style=\"text-align: right;\">\n",
       "      <th>cohort_period</th>\n",
       "      <th>0</th>\n",
       "      <th>1</th>\n",
       "      <th>2</th>\n",
       "      <th>3</th>\n",
       "      <th>4</th>\n",
       "      <th>5</th>\n",
       "      <th>6</th>\n",
       "      <th>7</th>\n",
       "      <th>8</th>\n",
       "      <th>9</th>\n",
       "      <th>10</th>\n",
       "      <th>11</th>\n",
       "      <th>12</th>\n",
       "    </tr>\n",
       "    <tr>\n",
       "      <th>first_order</th>\n",
       "      <th></th>\n",
       "      <th></th>\n",
       "      <th></th>\n",
       "      <th></th>\n",
       "      <th></th>\n",
       "      <th></th>\n",
       "      <th></th>\n",
       "      <th></th>\n",
       "      <th></th>\n",
       "      <th></th>\n",
       "      <th></th>\n",
       "      <th></th>\n",
       "      <th></th>\n",
       "    </tr>\n",
       "  </thead>\n",
       "  <tbody>\n",
       "    <tr>\n",
       "      <th>2017-06</th>\n",
       "      <td>100.0</td>\n",
       "      <td>0.48</td>\n",
       "      <td>0.35</td>\n",
       "      <td>0.41</td>\n",
       "      <td>0.25</td>\n",
       "      <td>0.38</td>\n",
       "      <td>0.38</td>\n",
       "      <td>0.22</td>\n",
       "      <td>0.13</td>\n",
       "      <td>0.22</td>\n",
       "      <td>0.32</td>\n",
       "      <td>0.35</td>\n",
       "      <td>0.16</td>\n",
       "    </tr>\n",
       "  </tbody>\n",
       "</table>\n",
       "</div>"
      ],
      "text/plain": [
       "cohort_period     0     1     2     3     4     5     6     7     8     9   \\\n",
       "first_order                                                                  \n",
       "2017-06        100.0  0.48  0.35  0.41  0.25  0.38  0.38  0.22  0.13  0.22   \n",
       "\n",
       "cohort_period    10    11    12  \n",
       "first_order                      \n",
       "2017-06        0.32  0.35  0.16  "
      ]
     },
     "execution_count": 61,
     "metadata": {},
     "output_type": "execute_result"
    }
   ],
   "source": [
    "# найдем максимальное значение ertention для третьего периода\n",
    "retention_table.loc[retention_table[3] == retention_table[3].max()]"
   ]
  },
  {
   "cell_type": "markdown",
   "metadata": {},
   "source": [
    "**Ответ на вопрос №5**\\\n",
    "*Когорта с самым высоким retention на 3-й месяц: 2017-06 (retention в сентябре 2017 равен 0.41%)*"
   ]
  },
  {
   "cell_type": "markdown",
   "metadata": {},
   "source": [
    "**6. Часто для качественного анализа аудитории использую подходы, основанные на сегментации. Используя python, построй RFM-сегментацию пользователей, чтобы качественно оценить свою аудиторию. В кластеризации можешь выбрать следующие метрики: R - время от последней покупки пользователя до текущей даты, F - суммарное количество покупок у пользователя за всё время, M - сумма покупок за всё время. Подробно опиши, как ты создавал кластеры. Для каждого RFM-сегмента построй границы метрик recency, frequency и monetary для интерпретации этих кластеров. Пример такого описания: RFM-сегмент 132 (recency=1, frequency=3, monetary=2) имеет границы метрик recency от 130 до 500 дней, frequency от 2 до 5 заказов в неделю, monetary от 1780 до 3560 рублей в неделю. Описание подхода можно найти тут. (35 баллов)**"
   ]
  },
  {
   "cell_type": "markdown",
   "metadata": {},
   "source": [
    "Будем считать покупками все заказы со статусом \"delivered\", т.е. df \"purchases\".\n",
    "\n",
    "Для RFM-анализа нам потребуются определенные данные о каждом из клиентов:\n",
    "- уникальный ID\n",
    "- количество дней с момента последней покупки\n",
    "- общее количество транзакций\n",
    "- общая сумма потраченных денег"
   ]
  },
  {
   "cell_type": "code",
   "execution_count": 62,
   "metadata": {},
   "outputs": [],
   "source": [
    "# Создадим рабочий датафрейм. Смерджим нужные колонки из purchases и уникальный ID из\n",
    "# customers\n",
    "rfm_df = purchases[['order_id', 'customer_id', 'order_purchase_timestamp']]\\\n",
    "    .merge(customers[['customer_unique_id', 'customer_id']], how='inner', on='customer_id')"
   ]
  },
  {
   "cell_type": "code",
   "execution_count": 63,
   "metadata": {},
   "outputs": [],
   "source": [
    "# посчитаем сумму каждого заказа\n",
    "order_price = order_items.groupby('order_id', as_index=False).agg({'price' : 'sum'})"
   ]
  },
  {
   "cell_type": "code",
   "execution_count": 64,
   "metadata": {},
   "outputs": [],
   "source": [
    "# добавим колонку с суммой заказа в рабочий df\n",
    "rfm_df = rfm_df.merge(order_price, how='left', on='order_id')"
   ]
  },
  {
   "cell_type": "code",
   "execution_count": 65,
   "metadata": {},
   "outputs": [],
   "source": [
    "# оставим только нужные для работы колонки\n",
    "rfm_df = rfm_df[['customer_unique_id', 'order_id', 'order_purchase_timestamp', 'price']]"
   ]
  },
  {
   "cell_type": "markdown",
   "metadata": {},
   "source": [
    "Для определения времени с момента последней покупки необходимо задать день, от которого будет вестись отсчет. Пусть это будет дата последней покупки в исходном датафрейме \"purchases\". Также приведем колонку с датой создания заказа к виду %Y-%m-%d\n",
    "Так как в задании не указан период, для которого нужно провести анализ, проведем его за все время с первой до последней покупки в нашем датафрейме"
   ]
  },
  {
   "cell_type": "code",
   "execution_count": 66,
   "metadata": {},
   "outputs": [],
   "source": [
    "# задаем текущую дату, от которой будем считать давность покупок\n",
    "current_date = purchases.order_purchase_timestamp.max()"
   ]
  },
  {
   "cell_type": "code",
   "execution_count": 67,
   "metadata": {},
   "outputs": [],
   "source": [
    "# приводим колонку order_purchase_timestamp к формату без точного времени\n",
    "# rfm_df.order_purchase_timestamp = rfm_df.order_purchase_timestamp.dt.to_period('D')"
   ]
  },
  {
   "cell_type": "code",
   "execution_count": 68,
   "metadata": {},
   "outputs": [],
   "source": [
    "rfm_final = rfm_df \\\n",
    "    .groupby('customer_unique_id', as_index=False) \\\n",
    "    .agg({'order_id' : 'nunique',\n",
    "         'order_purchase_timestamp' : lambda x: (current_date - x.max()).days,\n",
    "         'price' : 'sum'})"
   ]
  },
  {
   "cell_type": "code",
   "execution_count": 69,
   "metadata": {},
   "outputs": [],
   "source": [
    "rfm_final = rfm_final[['customer_unique_id', 'order_purchase_timestamp', 'order_id', 'price']] \\\n",
    "    .rename(columns={'order_id' : 'frequency',\n",
    "                    'order_purchase_timestamp' : 'recency',\n",
    "                    'price' : 'monetary_value'})"
   ]
  },
  {
   "cell_type": "code",
   "execution_count": 70,
   "metadata": {},
   "outputs": [
    {
     "data": {
      "text/html": [
       "<div>\n",
       "<style scoped>\n",
       "    .dataframe tbody tr th:only-of-type {\n",
       "        vertical-align: middle;\n",
       "    }\n",
       "\n",
       "    .dataframe tbody tr th {\n",
       "        vertical-align: top;\n",
       "    }\n",
       "\n",
       "    .dataframe thead th {\n",
       "        text-align: right;\n",
       "    }\n",
       "</style>\n",
       "<table border=\"1\" class=\"dataframe\">\n",
       "  <thead>\n",
       "    <tr style=\"text-align: right;\">\n",
       "      <th></th>\n",
       "      <th>customer_unique_id</th>\n",
       "      <th>recency</th>\n",
       "      <th>frequency</th>\n",
       "      <th>monetary_value</th>\n",
       "    </tr>\n",
       "  </thead>\n",
       "  <tbody>\n",
       "    <tr>\n",
       "      <th>0</th>\n",
       "      <td>0000366f3b9a7992bf8c76cfdf3221e2</td>\n",
       "      <td>111</td>\n",
       "      <td>1</td>\n",
       "      <td>129.90</td>\n",
       "    </tr>\n",
       "    <tr>\n",
       "      <th>1</th>\n",
       "      <td>0000b849f77a49e4a4ce2b2a4ca5be3f</td>\n",
       "      <td>114</td>\n",
       "      <td>1</td>\n",
       "      <td>18.90</td>\n",
       "    </tr>\n",
       "    <tr>\n",
       "      <th>2</th>\n",
       "      <td>0000f46a3911fa3c0805444483337064</td>\n",
       "      <td>536</td>\n",
       "      <td>1</td>\n",
       "      <td>69.00</td>\n",
       "    </tr>\n",
       "    <tr>\n",
       "      <th>3</th>\n",
       "      <td>0000f6ccb0745a6a4b88665a16c9f078</td>\n",
       "      <td>320</td>\n",
       "      <td>1</td>\n",
       "      <td>25.99</td>\n",
       "    </tr>\n",
       "    <tr>\n",
       "      <th>4</th>\n",
       "      <td>0004aac84e0df4da2b147fca70cf8255</td>\n",
       "      <td>287</td>\n",
       "      <td>1</td>\n",
       "      <td>180.00</td>\n",
       "    </tr>\n",
       "    <tr>\n",
       "      <th>...</th>\n",
       "      <td>...</td>\n",
       "      <td>...</td>\n",
       "      <td>...</td>\n",
       "      <td>...</td>\n",
       "    </tr>\n",
       "    <tr>\n",
       "      <th>93353</th>\n",
       "      <td>fffcf5a5ff07b0908bd4e2dbc735a684</td>\n",
       "      <td>446</td>\n",
       "      <td>1</td>\n",
       "      <td>1570.00</td>\n",
       "    </tr>\n",
       "    <tr>\n",
       "      <th>93354</th>\n",
       "      <td>fffea47cd6d3cc0a88bd621562a9d061</td>\n",
       "      <td>261</td>\n",
       "      <td>1</td>\n",
       "      <td>64.89</td>\n",
       "    </tr>\n",
       "    <tr>\n",
       "      <th>93355</th>\n",
       "      <td>ffff371b4d645b6ecea244b27531430a</td>\n",
       "      <td>567</td>\n",
       "      <td>1</td>\n",
       "      <td>89.90</td>\n",
       "    </tr>\n",
       "    <tr>\n",
       "      <th>93356</th>\n",
       "      <td>ffff5962728ec6157033ef9805bacc48</td>\n",
       "      <td>118</td>\n",
       "      <td>1</td>\n",
       "      <td>115.00</td>\n",
       "    </tr>\n",
       "    <tr>\n",
       "      <th>93357</th>\n",
       "      <td>ffffd2657e2aad2907e67c3e9daecbeb</td>\n",
       "      <td>483</td>\n",
       "      <td>1</td>\n",
       "      <td>56.99</td>\n",
       "    </tr>\n",
       "  </tbody>\n",
       "</table>\n",
       "<p>93358 rows × 4 columns</p>\n",
       "</div>"
      ],
      "text/plain": [
       "                     customer_unique_id  recency  frequency  monetary_value\n",
       "0      0000366f3b9a7992bf8c76cfdf3221e2      111          1          129.90\n",
       "1      0000b849f77a49e4a4ce2b2a4ca5be3f      114          1           18.90\n",
       "2      0000f46a3911fa3c0805444483337064      536          1           69.00\n",
       "3      0000f6ccb0745a6a4b88665a16c9f078      320          1           25.99\n",
       "4      0004aac84e0df4da2b147fca70cf8255      287          1          180.00\n",
       "...                                 ...      ...        ...             ...\n",
       "93353  fffcf5a5ff07b0908bd4e2dbc735a684      446          1         1570.00\n",
       "93354  fffea47cd6d3cc0a88bd621562a9d061      261          1           64.89\n",
       "93355  ffff371b4d645b6ecea244b27531430a      567          1           89.90\n",
       "93356  ffff5962728ec6157033ef9805bacc48      118          1          115.00\n",
       "93357  ffffd2657e2aad2907e67c3e9daecbeb      483          1           56.99\n",
       "\n",
       "[93358 rows x 4 columns]"
      ]
     },
     "execution_count": 70,
     "metadata": {},
     "output_type": "execute_result"
    }
   ],
   "source": [
    "rfm_final"
   ]
  },
  {
   "cell_type": "markdown",
   "metadata": {},
   "source": [
    "Для сегментации пользователей по RFM показателю разделим значения \"recency\" и \"monetary_value\" в колонках на 4 группы по 25, 50 и 75 квантилям (<25, 25-50, 50-75, >75)\n",
    "Значение \"frequency\" таким образом поделить не получится, т.к. 97% пользователей совершили всего по одной покупке, 2,8% - по две покупки, 0,19% - по три покупки, остальные 0,01% - более трех\\\n",
    "**Принял следующие границы метрик для RFM-сегментов:\\\n",
    "\"recency\":\\\n",
    "1: <113, 2: >=113 and <218, 3: >=218 and <345, 4: >=345\\\n",
    "\"frequency\":\\\n",
    "1: 1 покупка, 2: 2 покупки, 3: 3 покупки, 4: более 3 покупок\\\n",
    "\"monetary_value\":\\\n",
    "1: <47.65, 2: >=47.65 and <89.73, 3: >=89.73 and <154.74, 4: >=154.74**"
   ]
  },
  {
   "cell_type": "code",
   "execution_count": 71,
   "metadata": {},
   "outputs": [
    {
     "data": {
      "text/plain": [
       "1    0.969997\n",
       "2    0.027561\n",
       "3    0.001939\n",
       "Name: frequency, dtype: float64"
      ]
     },
     "execution_count": 71,
     "metadata": {},
     "output_type": "execute_result"
    }
   ],
   "source": [
    "rfm_final['frequency'].value_counts(normalize=True).head(3)"
   ]
  },
  {
   "cell_type": "code",
   "execution_count": 72,
   "metadata": {},
   "outputs": [
    {
     "data": {
      "text/plain": [
       "0.25    113.0\n",
       "0.50    218.0\n",
       "0.75    345.0\n",
       "Name: recency, dtype: float64"
      ]
     },
     "execution_count": 72,
     "metadata": {},
     "output_type": "execute_result"
    }
   ],
   "source": [
    "r_quantile = rfm_final['recency'].quantile([0.25, 0.5, 0.75])\n",
    "r_quantile"
   ]
  },
  {
   "cell_type": "code",
   "execution_count": 73,
   "metadata": {},
   "outputs": [
    {
     "data": {
      "text/plain": [
       "{'1 группа': 1, '2 группа': 2, '3 группа': 3, '4 группа': [range(4, 16)]}"
      ]
     },
     "execution_count": 73,
     "metadata": {},
     "output_type": "execute_result"
    }
   ],
   "source": [
    "f_quantile = {'1 группа' : 1, '2 группа' : 2, '3 группа' : 3, '4 группа' : [range(4,16)]}\n",
    "f_quantile"
   ]
  },
  {
   "cell_type": "code",
   "execution_count": 74,
   "metadata": {},
   "outputs": [
    {
     "data": {
      "text/plain": [
       "0.25     47.65\n",
       "0.50     89.73\n",
       "0.75    154.74\n",
       "Name: monetary_value, dtype: float64"
      ]
     },
     "execution_count": 74,
     "metadata": {},
     "output_type": "execute_result"
    }
   ],
   "source": [
    "m_quantile = rfm_final['monetary_value'].quantile([0.25, 0.5, 0.75]).round(2)\n",
    "m_quantile"
   ]
  },
  {
   "cell_type": "code",
   "execution_count": 75,
   "metadata": {},
   "outputs": [],
   "source": [
    "# Для присвоения баллов по каждому значению RFM-показателя сделаем три функции: для R, F, M"
   ]
  },
  {
   "cell_type": "code",
   "execution_count": 97,
   "metadata": {},
   "outputs": [],
   "source": [
    "def r_group(x):\n",
    "    if x < 113:\n",
    "        return int(4)\n",
    "    elif x >= 113 and x < 218:\n",
    "        return int(3)\n",
    "    elif x >= 218 and x < 345:\n",
    "        return int(2)\n",
    "    elif x >= 345:\n",
    "        return int(1)"
   ]
  },
  {
   "cell_type": "code",
   "execution_count": 77,
   "metadata": {},
   "outputs": [],
   "source": [
    "def f_group(x):\n",
    "    if x == 1:\n",
    "        return int(1)\n",
    "    elif x == 2:\n",
    "        return int(2)\n",
    "    elif x == 3:\n",
    "        return int(3)\n",
    "    elif x > 3:\n",
    "        return int(4)"
   ]
  },
  {
   "cell_type": "code",
   "execution_count": 78,
   "metadata": {},
   "outputs": [],
   "source": [
    "def m_group(x):\n",
    "    if x < 47.65:\n",
    "        return int(1)\n",
    "    elif x >= 47.65 and x < 89.73:\n",
    "        return int(2)\n",
    "    elif x >= 89.73 and x < 154.74:\n",
    "        return int(3)\n",
    "    elif x >= 154.74:\n",
    "        return int(4)"
   ]
  },
  {
   "cell_type": "code",
   "execution_count": 98,
   "metadata": {},
   "outputs": [],
   "source": [
    "# добавим колонки с количеством баллов по показателям R, F, M\n",
    "rfm_final['R'] = rfm_final.recency.apply(r_group)\n",
    "rfm_final['F'] = rfm_final.frequency.apply(f_group)\n",
    "rfm_final['M'] = rfm_final.monetary_value.apply(m_group)"
   ]
  },
  {
   "cell_type": "code",
   "execution_count": 99,
   "metadata": {},
   "outputs": [],
   "source": [
    "# добавим итоговую колонку с RFM-показателем пользователей\n",
    "rfm_final['RFM'] = rfm_final.R.map(str) + rfm_final.F.map(str) + rfm_final.M.map(str)"
   ]
  },
  {
   "cell_type": "code",
   "execution_count": 100,
   "metadata": {},
   "outputs": [
    {
     "data": {
      "text/plain": [
       "51"
      ]
     },
     "execution_count": 100,
     "metadata": {},
     "output_type": "execute_result"
    }
   ],
   "source": [
    "# получилась 51 уникальная группа по RFM-показателю\n",
    "rfm_final.RFM.nunique()"
   ]
  },
  {
   "cell_type": "markdown",
   "metadata": {},
   "source": [
    "Для удобства восприятия RFM-показателей сгруппируем пользователей в сегменты:\\\n",
    "-Champions:\tBought recently, buy often and spend the most\\\n",
    "-Loyal Customers:\tBuy on a regular basis. Responsive to promotions.\\\n",
    "-Potential Loyalist:\tRecent customers with average frequency.\\\n",
    "-Recent Customers:\tBought most recently, but not often.\\\n",
    "-Promising:\tRecent shoppers, but haven’t spent much.\\\n",
    "-Customers Needing Attention:\tAbove average recency, frequency and monetary values. May not have bought very recently though.\\\n",
    "-About To Sleep:\tBelow average recency and frequency. Will lose them if not reactivated.\\\n",
    "-At Risk:\tPurchased often but a long time ago. Need to bring them back!\\\n",
    "-Can’t Lose Them:\tUsed to purchase frequently but haven’t returned for a long time.\\\n",
    "-Hibernating:\tLast purchase was long back and low number of orders. May be lost."
   ]
  },
  {
   "cell_type": "code",
   "execution_count": 113,
   "metadata": {},
   "outputs": [
    {
     "data": {
      "text/html": [
       "<div>\n",
       "<style scoped>\n",
       "    .dataframe tbody tr th:only-of-type {\n",
       "        vertical-align: middle;\n",
       "    }\n",
       "\n",
       "    .dataframe tbody tr th {\n",
       "        vertical-align: top;\n",
       "    }\n",
       "\n",
       "    .dataframe thead th {\n",
       "        text-align: right;\n",
       "    }\n",
       "</style>\n",
       "<table border=\"1\" class=\"dataframe\">\n",
       "  <thead>\n",
       "    <tr style=\"text-align: right;\">\n",
       "      <th></th>\n",
       "      <th>customer_unique_id</th>\n",
       "      <th>recency</th>\n",
       "      <th>frequency</th>\n",
       "      <th>monetary_value</th>\n",
       "      <th>R</th>\n",
       "      <th>F</th>\n",
       "      <th>M</th>\n",
       "      <th>RFM</th>\n",
       "      <th>Segment</th>\n",
       "    </tr>\n",
       "  </thead>\n",
       "  <tbody>\n",
       "    <tr>\n",
       "      <th>0</th>\n",
       "      <td>0000366f3b9a7992bf8c76cfdf3221e2</td>\n",
       "      <td>111</td>\n",
       "      <td>1</td>\n",
       "      <td>129.90</td>\n",
       "      <td>4</td>\n",
       "      <td>1</td>\n",
       "      <td>3</td>\n",
       "      <td>413</td>\n",
       "      <td>new customers</td>\n",
       "    </tr>\n",
       "    <tr>\n",
       "      <th>1</th>\n",
       "      <td>0000b849f77a49e4a4ce2b2a4ca5be3f</td>\n",
       "      <td>114</td>\n",
       "      <td>1</td>\n",
       "      <td>18.90</td>\n",
       "      <td>3</td>\n",
       "      <td>1</td>\n",
       "      <td>1</td>\n",
       "      <td>311</td>\n",
       "      <td>promising</td>\n",
       "    </tr>\n",
       "    <tr>\n",
       "      <th>2</th>\n",
       "      <td>0000f46a3911fa3c0805444483337064</td>\n",
       "      <td>536</td>\n",
       "      <td>1</td>\n",
       "      <td>69.00</td>\n",
       "      <td>1</td>\n",
       "      <td>1</td>\n",
       "      <td>2</td>\n",
       "      <td>112</td>\n",
       "      <td>hibernating</td>\n",
       "    </tr>\n",
       "    <tr>\n",
       "      <th>3</th>\n",
       "      <td>0000f6ccb0745a6a4b88665a16c9f078</td>\n",
       "      <td>320</td>\n",
       "      <td>1</td>\n",
       "      <td>25.99</td>\n",
       "      <td>2</td>\n",
       "      <td>1</td>\n",
       "      <td>1</td>\n",
       "      <td>211</td>\n",
       "      <td>about to sleep</td>\n",
       "    </tr>\n",
       "    <tr>\n",
       "      <th>4</th>\n",
       "      <td>0004aac84e0df4da2b147fca70cf8255</td>\n",
       "      <td>287</td>\n",
       "      <td>1</td>\n",
       "      <td>180.00</td>\n",
       "      <td>2</td>\n",
       "      <td>1</td>\n",
       "      <td>4</td>\n",
       "      <td>214</td>\n",
       "      <td>about to sleep</td>\n",
       "    </tr>\n",
       "  </tbody>\n",
       "</table>\n",
       "</div>"
      ],
      "text/plain": [
       "                 customer_unique_id  recency  frequency  monetary_value  R  F  \\\n",
       "0  0000366f3b9a7992bf8c76cfdf3221e2      111          1          129.90  4  1   \n",
       "1  0000b849f77a49e4a4ce2b2a4ca5be3f      114          1           18.90  3  1   \n",
       "2  0000f46a3911fa3c0805444483337064      536          1           69.00  1  1   \n",
       "3  0000f6ccb0745a6a4b88665a16c9f078      320          1           25.99  2  1   \n",
       "4  0004aac84e0df4da2b147fca70cf8255      287          1          180.00  2  1   \n",
       "\n",
       "   M  RFM         Segment  \n",
       "0  3  413   new customers  \n",
       "1  1  311       promising  \n",
       "2  2  112     hibernating  \n",
       "3  1  211  about to sleep  \n",
       "4  4  214  about to sleep  "
      ]
     },
     "execution_count": 113,
     "metadata": {},
     "output_type": "execute_result"
    }
   ],
   "source": [
    "segt_map = {\n",
    "    r'1[1-2]': 'hibernating',\n",
    "    r'[1-2][3]': 'at risk',\n",
    "    r'[1-2]4': 'can\\'t loose',\n",
    "    r'2[1-2]': 'about to sleep',\n",
    "    r'3[2-3]': 'need attention',\n",
    "    r'[2-3][3-4]': 'loyal customers',\n",
    "    r'31': 'promising',\n",
    "    r'41': 'new customers',\n",
    "    r'4[2-3]': 'potential loyalists',\n",
    "    r'44': 'champions'\n",
    "}\n",
    "\n",
    "rfm_final['Segment'] = rfm_final['R'].map(str) + rfm_final['F'].map(str)\n",
    "rfm_final['Segment'] = rfm_final['Segment'].replace(segt_map, regex=True)\n",
    "rfm_final.head()"
   ]
  },
  {
   "cell_type": "code",
   "execution_count": 115,
   "metadata": {},
   "outputs": [
    {
     "data": {
      "text/plain": [
       "hibernating            23410\n",
       "about to sleep         23298\n",
       "promising              22755\n",
       "new customers          22271\n",
       "potential loyalists      752\n",
       "need attention           749\n",
       "at risk                   76\n",
       "champions                 22\n",
       "loyal customers           15\n",
       "can't loose               10\n",
       "Name: Segment, dtype: int64"
      ]
     },
     "execution_count": 115,
     "metadata": {},
     "output_type": "execute_result"
    }
   ],
   "source": [
    "# распределением пользователей по сегментам\n",
    "rfm_final.Segment.value_counts()"
   ]
  },
  {
   "cell_type": "code",
   "execution_count": 103,
   "metadata": {},
   "outputs": [],
   "source": [
    "rfm = rfm_final.copy()"
   ]
  },
  {
   "cell_type": "code",
   "execution_count": 116,
   "metadata": {},
   "outputs": [
    {
     "data": {
      "image/png": "[encoded data removed]",
      "text/plain": [
       "<Figure size 720x288 with 2 Axes>"
      ]
     },
     "metadata": {
      "needs_background": "light"
     },
     "output_type": "display_data"
    },
    {
     "data": {
      "image/png": "[encoded data removed]",
      "text/plain": [
       "<Figure size 720x720 with 25 Axes>"
      ]
     },
     "metadata": {
      "needs_background": "light"
     },
     "output_type": "display_data"
    }
   ],
   "source": [
    "# Визуализируем распределение пользователей по R и F показателям\n",
    "fig, axes = plt.subplots(nrows=1, ncols=2, figsize=(10, 4))\n",
    "\n",
    "for i, p in enumerate(['R', 'F']):\n",
    "    parameters = {'R':'Recency', 'F':'Frequency'}\n",
    "    y = rfm[p].value_counts().sort_index()\n",
    "    x = y.index\n",
    "    ax = axes[i]\n",
    "    bars = ax.bar(x, y, color='silver')\n",
    "    ax.set_frame_on(False)\n",
    "    ax.tick_params(left=False, labelleft=False, bottom=False)\n",
    "    ax.set_title('Distribution of {}'.format(parameters[p]),\n",
    "                fontsize=14)\n",
    "    for bar in bars:\n",
    "        value = bar.get_height()\n",
    "        if value == y.max():\n",
    "            bar.set_color('firebrick')\n",
    "        ax.text(bar.get_x() + bar.get_width() / 2,\n",
    "                value - 5,\n",
    "                '{}\\n({}%)'.format(int(value), int(value * 100 / y.sum())),\n",
    "               ha='center',\n",
    "               va='top',\n",
    "               color='w')\n",
    "\n",
    "plt.show()\n",
    "\n",
    "# Визуализируем распределение пользователей по M показателю для каждого сочетания RF показателей\n",
    "fig, axes = plt.subplots(nrows=5, ncols=5,\n",
    "                         sharex=False, sharey=True,\n",
    "                         figsize=(10, 10))\n",
    "\n",
    "r_range = range(1, 5)\n",
    "f_range = range(1, 5)\n",
    "for r in r_range:\n",
    "    for f in f_range:\n",
    "        y = rfm[(rfm['R'] == r) & (rfm['F'] == f)]['M'].value_counts().sort_index()\n",
    "        x = y.index\n",
    "        ax = axes[r - 1, f - 1]\n",
    "        bars = ax.bar(x, y, color='silver')\n",
    "        if r == 4:\n",
    "            if f == 3:\n",
    "                ax.set_xlabel('{}\\nF'.format(f), va='top')\n",
    "            else:\n",
    "                ax.set_xlabel('{}\\n'.format(f), va='top')\n",
    "        if f == 1:\n",
    "            if r == 3:\n",
    "                ax.set_ylabel('R\\n{}'.format(r))\n",
    "            else:\n",
    "                ax.set_ylabel(r)\n",
    "        ax.set_frame_on(False)\n",
    "        ax.tick_params(left=False, labelleft=False, bottom=False)\n",
    "        ax.set_xticks(x)\n",
    "        ax.set_xticklabels(x, fontsize=8)\n",
    "\n",
    "        for bar in bars:\n",
    "            value = bar.get_height()\n",
    "            if value == y.max():\n",
    "                bar.set_color('firebrick')\n",
    "            ax.text(bar.get_x() + bar.get_width() / 2,\n",
    "                    value,\n",
    "                    int(value),\n",
    "                    ha='center',\n",
    "                    va='bottom',\n",
    "                    color='k')\n",
    "fig.suptitle('Distribution of M for each F and R',\n",
    "             fontsize=14)\n",
    "plt.tight_layout()\n",
    "plt.show()"
   ]
  },
  {
   "cell_type": "markdown",
   "metadata": {},
   "source": [
    "Выводы по RFM-анализу:\n",
    "- исходя из распределения пользователей по R-показателю, покупки совершаются, в целом, равномерно. Количество пользователей в группах по R-показателю примерно одинаковое\n",
    "- исходя из распределения пользователей по F-показателю, подавляющее большинство пользователей совершило только одну покупку (группа №1 по F-показателю)\n",
    "- исходя из распределения пользователей по M-показателю, среди большинства пользователей (совершили 1 покупку) распределение, в целом, равномерное. Среди пользователей, совершивших более 1 покупки, большинство попадает в 4 группу по M-показателю\n",
    "\n",
    "Судя по большому количеству пользователей с единственной покупкой, нужно работать над увеличением процента вернувшихся пользователей (например, предложение скидки на следующую покупку)"
   ]
  },
  {
   "cell_type": "code",
   "execution_count": null,
   "metadata": {},
   "outputs": [],
   "source": []
  }
 ],
 "metadata": {
  "kernelspec": {
   "display_name": "Python 3",
   "language": "python",
   "name": "python3"
  },
  "language_info": {
   "codemirror_mode": {
    "name": "ipython",
    "version": 3
   },
   "file_extension": ".py",
   "mimetype": "text/x-python",
   "name": "python",
   "nbconvert_exporter": "python",
   "pygments_lexer": "ipython3",
   "version": "3.7.3"
  }
 },
 "nbformat": 4,
 "nbformat_minor": 4
}
