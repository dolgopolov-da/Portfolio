{
 "cells": [
  {
   "cell_type": "code",
   "execution_count": 1,
   "id": "4ceda703",
   "metadata": {},
   "outputs": [],
   "source": [
    "import pandas as pd\n",
    "import json\n",
    "import numpy as np"
   ]
  },
  {
   "cell_type": "code",
   "execution_count": 2,
   "id": "8243a6a3",
   "metadata": {},
   "outputs": [],
   "source": [
    "price = pd.read_csv('price.csv', sep=';', encoding='windows-1251')"
   ]
  },
  {
   "cell_type": "code",
   "execution_count": 3,
   "id": "70c5ad0c-cccf-41b2-bd36-e67481c547d0",
   "metadata": {},
   "outputs": [
    {
     "data": {
      "text/html": [
       "<div>\n",
       "<style scoped>\n",
       "    .dataframe tbody tr th:only-of-type {\n",
       "        vertical-align: middle;\n",
       "    }\n",
       "\n",
       "    .dataframe tbody tr th {\n",
       "        vertical-align: top;\n",
       "    }\n",
       "\n",
       "    .dataframe thead th {\n",
       "        text-align: right;\n",
       "    }\n",
       "</style>\n",
       "<table border=\"1\" class=\"dataframe\">\n",
       "  <thead>\n",
       "    <tr style=\"text-align: right;\">\n",
       "      <th></th>\n",
       "      <th>Артикул</th>\n",
       "      <th>Категория</th>\n",
       "      <th>Наименование, харак-ка</th>\n",
       "      <th>количество штук в упаковке</th>\n",
       "      <th>цена за упаковку</th>\n",
       "      <th>Видео</th>\n",
       "      <th>В наличии</th>\n",
       "    </tr>\n",
       "  </thead>\n",
       "  <tbody>\n",
       "    <tr>\n",
       "      <th>0</th>\n",
       "      <td>РС1705</td>\n",
       "      <td>Бенгальские свечи</td>\n",
       "      <td>Бенгальский огонь-170</td>\n",
       "      <td>1000 шт</td>\n",
       "      <td>5165</td>\n",
       "      <td>https://youtu.be/n9cwvZqSq2Q</td>\n",
       "      <td>1</td>\n",
       "    </tr>\n",
       "    <tr>\n",
       "      <th>1</th>\n",
       "      <td>РС1710</td>\n",
       "      <td>Бенгальские свечи</td>\n",
       "      <td>Бенгальский огонь 230</td>\n",
       "      <td>360 шт</td>\n",
       "      <td>4570</td>\n",
       "      <td>https://youtu.be/JsNE911bm0E</td>\n",
       "      <td>1</td>\n",
       "    </tr>\n",
       "  </tbody>\n",
       "</table>\n",
       "</div>"
      ],
      "text/plain": [
       "  Артикул          Категория Наименование, харак-ка  \\\n",
       "0  РС1705  Бенгальские свечи  Бенгальский огонь-170   \n",
       "1  РС1710  Бенгальские свечи  Бенгальский огонь 230   \n",
       "\n",
       "  количество штук в упаковке  цена за упаковку                         Видео  \\\n",
       "0                    1000 шт              5165  https://youtu.be/n9cwvZqSq2Q   \n",
       "1                     360 шт              4570  https://youtu.be/JsNE911bm0E   \n",
       "\n",
       "   В наличии  \n",
       "0          1  \n",
       "1          1  "
      ]
     },
     "execution_count": 3,
     "metadata": {},
     "output_type": "execute_result"
    }
   ],
   "source": [
    "price.head(2)"
   ]
  },
  {
   "cell_type": "code",
   "execution_count": 4,
   "id": "4434b658",
   "metadata": {},
   "outputs": [],
   "source": [
    "price = price.rename(columns={'Артикул' : '_id', 'Категория' : 'category', \\\n",
    "                              'Наименование, харак-ка' : 'title', \\\n",
    "                              'количество штук в упаковке' : 'value', \\\n",
    "                              'цена за упаковку' : 'price', 'Видео' : 'link', \\\n",
    "                              'В наличии' : 'hide'})"
   ]
  },
  {
   "cell_type": "code",
   "execution_count": 5,
   "id": "8479bbed-41b5-4f5d-809b-429c4a355cd5",
   "metadata": {},
   "outputs": [],
   "source": [
    "for i in price.columns:\n",
    "    if i.startswith('Unnamed'):\n",
    "        price = price.drop(columns=[i])"
   ]
  },
  {
   "cell_type": "code",
   "execution_count": 6,
   "id": "c93b6b63-53f5-4c3e-8116-c96ccfa18a82",
   "metadata": {},
   "outputs": [],
   "source": [
    "price = price.dropna()"
   ]
  },
  {
   "cell_type": "code",
   "execution_count": 7,
   "id": "6ea44f3c",
   "metadata": {},
   "outputs": [],
   "source": [
    "if type(price.value[0]) == str:\n",
    "    price.value = price.value.str.rstrip('.').str.rstrip(' шт').astype('int')"
   ]
  },
  {
   "cell_type": "code",
   "execution_count": 8,
   "id": "c1ec0810",
   "metadata": {},
   "outputs": [],
   "source": [
    "if price.price.dtypes == 'object':\n",
    "    price.price = price.price.str.replace(',', '.').astype('float')\n",
    "elif price.price.dtypes == 'int64':\n",
    "    price.price = price.price.astype('float')"
   ]
  },
  {
   "cell_type": "code",
   "execution_count": 9,
   "id": "8abf336a",
   "metadata": {},
   "outputs": [],
   "source": [
    "price.category = price.category.str.rstrip(' ').str.rstrip('.')"
   ]
  },
  {
   "cell_type": "code",
   "execution_count": 10,
   "id": "e3ea2b03",
   "metadata": {},
   "outputs": [],
   "source": [
    "price.title = price.title.str.replace('\\n', ' ')"
   ]
  },
  {
   "cell_type": "code",
   "execution_count": 11,
   "id": "7599cfcb",
   "metadata": {},
   "outputs": [],
   "source": [
    "for i in range(len(price.index)):\n",
    "    if price.loc[i, 'hide'] == 0:\n",
    "        price.loc[i, 'hide'] = True\n",
    "    else:\n",
    "        price.loc[i, 'hide'] = False"
   ]
  },
  {
   "cell_type": "code",
   "execution_count": 12,
   "id": "249a40c6",
   "metadata": {},
   "outputs": [],
   "source": [
    "price = price.fillna('')"
   ]
  },
  {
   "cell_type": "code",
   "execution_count": 13,
   "id": "5f163268",
   "metadata": {},
   "outputs": [],
   "source": [
    "price.title = price._id + ' ' + price.title"
   ]
  },
  {
   "cell_type": "code",
   "execution_count": 14,
   "id": "9477cd0d",
   "metadata": {},
   "outputs": [
    {
     "data": {
      "text/html": [
       "<div>\n",
       "<style scoped>\n",
       "    .dataframe tbody tr th:only-of-type {\n",
       "        vertical-align: middle;\n",
       "    }\n",
       "\n",
       "    .dataframe tbody tr th {\n",
       "        vertical-align: top;\n",
       "    }\n",
       "\n",
       "    .dataframe thead th {\n",
       "        text-align: right;\n",
       "    }\n",
       "</style>\n",
       "<table border=\"1\" class=\"dataframe\">\n",
       "  <thead>\n",
       "    <tr style=\"text-align: right;\">\n",
       "      <th></th>\n",
       "      <th>_id</th>\n",
       "      <th>category</th>\n",
       "      <th>title</th>\n",
       "      <th>value</th>\n",
       "      <th>price</th>\n",
       "      <th>link</th>\n",
       "      <th>hide</th>\n",
       "    </tr>\n",
       "  </thead>\n",
       "  <tbody>\n",
       "    <tr>\n",
       "      <th>0</th>\n",
       "      <td>РС1705</td>\n",
       "      <td>Бенгальские свечи</td>\n",
       "      <td>РС1705 Бенгальский огонь-170</td>\n",
       "      <td>1000</td>\n",
       "      <td>5165.0</td>\n",
       "      <td>https://youtu.be/n9cwvZqSq2Q</td>\n",
       "      <td>False</td>\n",
       "    </tr>\n",
       "    <tr>\n",
       "      <th>1</th>\n",
       "      <td>РС1710</td>\n",
       "      <td>Бенгальские свечи</td>\n",
       "      <td>РС1710 Бенгальский огонь 230</td>\n",
       "      <td>360</td>\n",
       "      <td>4570.0</td>\n",
       "      <td>https://youtu.be/JsNE911bm0E</td>\n",
       "      <td>False</td>\n",
       "    </tr>\n",
       "    <tr>\n",
       "      <th>2</th>\n",
       "      <td>РС1720</td>\n",
       "      <td>Бенгальские свечи</td>\n",
       "      <td>РС1720 Бенгальский огонь 300</td>\n",
       "      <td>3</td>\n",
       "      <td>100.0</td>\n",
       "      <td>https://youtu.be/oOArRIsdteE</td>\n",
       "      <td>False</td>\n",
       "    </tr>\n",
       "    <tr>\n",
       "      <th>3</th>\n",
       "      <td>РС1730</td>\n",
       "      <td>Бенгальские свечи</td>\n",
       "      <td>РС1730 Бенгальский огонь 300 УЛЬТРА</td>\n",
       "      <td>4</td>\n",
       "      <td>155.0</td>\n",
       "      <td>https://youtu.be/gVy3SthKDnw</td>\n",
       "      <td>False</td>\n",
       "    </tr>\n",
       "    <tr>\n",
       "      <th>4</th>\n",
       "      <td>РС1755</td>\n",
       "      <td>Бенгальские свечи</td>\n",
       "      <td>РС1755 Цветной бенгальский огонь 300</td>\n",
       "      <td>300</td>\n",
       "      <td>4035.0</td>\n",
       "      <td>https://youtu.be/OqZV70OSlPk</td>\n",
       "      <td>False</td>\n",
       "    </tr>\n",
       "  </tbody>\n",
       "</table>\n",
       "</div>"
      ],
      "text/plain": [
       "      _id           category                                 title  value  \\\n",
       "0  РС1705  Бенгальские свечи          РС1705 Бенгальский огонь-170   1000   \n",
       "1  РС1710  Бенгальские свечи          РС1710 Бенгальский огонь 230    360   \n",
       "2  РС1720  Бенгальские свечи          РС1720 Бенгальский огонь 300      3   \n",
       "3  РС1730  Бенгальские свечи   РС1730 Бенгальский огонь 300 УЛЬТРА      4   \n",
       "4  РС1755  Бенгальские свечи  РС1755 Цветной бенгальский огонь 300    300   \n",
       "\n",
       "    price                          link   hide  \n",
       "0  5165.0  https://youtu.be/n9cwvZqSq2Q  False  \n",
       "1  4570.0  https://youtu.be/JsNE911bm0E  False  \n",
       "2   100.0  https://youtu.be/oOArRIsdteE  False  \n",
       "3   155.0  https://youtu.be/gVy3SthKDnw  False  \n",
       "4  4035.0  https://youtu.be/OqZV70OSlPk  False  "
      ]
     },
     "execution_count": 14,
     "metadata": {},
     "output_type": "execute_result"
    }
   ],
   "source": [
    "price.head()"
   ]
  },
  {
   "cell_type": "code",
   "execution_count": 15,
   "id": "2592acbe",
   "metadata": {},
   "outputs": [],
   "source": [
    "price_columns = price.columns"
   ]
  },
  {
   "cell_type": "code",
   "execution_count": 16,
   "id": "d35e7f71",
   "metadata": {},
   "outputs": [],
   "source": [
    "# add categories for json\n",
    "categories = [{\"title\": \"Все\", \"value\": \"all\"}]\n",
    "used_categories = []\n",
    "for i in price.index:\n",
    "    category = {}\n",
    "    if price.loc[i, 'category'] not in used_categories:\n",
    "        category[\"title\"] = price.loc[i,'category']\n",
    "        category[\"value\"] = price.loc[i,'category'] #FIX!\n",
    "        used_categories.append(price.loc[i,'category'])\n",
    "        categories.append(category)\n",
    "\n",
    "for i in categories:\n",
    "    if i['title'] == 'Хлопушки. Начинка, длина':\n",
    "        i['title'] = 'Хлопушки'\n",
    "    elif i['title'] == 'Пневмохлопушки. Начинка, длина':\n",
    "        i['title'] = 'Пневмохлопушки'\n",
    "    elif i['title'] == 'Римские свечи (калибр х колич.выстрелов)':\n",
    "        i['title'] = 'Римские свечи'\n",
    "    elif i['title'] == 'Одиночные салюты, фестивальные шары. (калибр \" Х колич шаров)':\n",
    "        i['title'] = 'Одиночные салюты, фестивальные шары'\n",
    "    elif i['title'] == 'Батареи салютов  (калибр Х колич. стволов)':\n",
    "        i['title'] = 'Батареи салютов'"
   ]
  },
  {
   "cell_type": "code",
   "execution_count": 17,
   "id": "b3f32173",
   "metadata": {},
   "outputs": [],
   "source": [
    "# add items for json\n",
    "items = []\n",
    "for i in range(len(price.index)):\n",
    "    item = {}\n",
    "    price_row = price.loc[i,:].to_list()\n",
    "    for j in range(len(price_columns)):\n",
    "        item[price_columns[j]] = price_row[j]\n",
    "    items.append(item)"
   ]
  },
  {
   "cell_type": "code",
   "execution_count": 18,
   "id": "c42953c0",
   "metadata": {},
   "outputs": [],
   "source": [
    "items_to_json = {}\n",
    "items_to_json['categories'] = categories\n",
    "items_to_json['items'] = items"
   ]
  },
  {
   "cell_type": "code",
   "execution_count": 19,
   "id": "4d52fb93",
   "metadata": {},
   "outputs": [],
   "source": [
    "class NpEncoder(json.JSONEncoder):\n",
    "    def default(self, obj):\n",
    "        if isinstance(obj, np.integer):\n",
    "            return int(obj)\n",
    "        if isinstance(obj, np.floating):\n",
    "            return float(obj)\n",
    "        if isinstance(obj, np.ndarray):\n",
    "            return obj.tolist()\n",
    "        if isinstance(obj, np.bool_):\n",
    "            return bool(obj)\n",
    "        return super(NpEncoder, self).default(obj)\n",
    "    \n",
    "with open('price.json', 'w') as json_file:\n",
    "    json.dump(items_to_json, json_file, indent=1, ensure_ascii=False , cls=NpEncoder)"
   ]
  },
  {
   "cell_type": "code",
   "execution_count": null,
   "id": "c071c145",
   "metadata": {},
   "outputs": [],
   "source": []
  }
 ],
 "metadata": {
  "kernelspec": {
   "display_name": "Python 3 (ipykernel)",
   "language": "python",
   "name": "python3"
  },
  "language_info": {
   "codemirror_mode": {
    "name": "ipython",
    "version": 3
   },
   "file_extension": ".py",
   "mimetype": "text/x-python",
   "name": "python",
   "nbconvert_exporter": "python",
   "pygments_lexer": "ipython3",
   "version": "3.9.12"
  }
 },
 "nbformat": 4,
 "nbformat_minor": 5
}
