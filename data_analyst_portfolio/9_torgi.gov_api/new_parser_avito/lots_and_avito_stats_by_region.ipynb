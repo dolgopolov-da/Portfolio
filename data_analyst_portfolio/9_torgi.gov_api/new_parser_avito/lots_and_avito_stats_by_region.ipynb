{
 "cells": [
  {
   "cell_type": "markdown",
   "id": "6566ffe7",
   "metadata": {},
   "source": [
    "## Сравнение коридора цен ЗУ на торгах и предложений на авито"
   ]
  },
  {
   "cell_type": "code",
   "execution_count": 404,
   "id": "95e6bb29",
   "metadata": {},
   "outputs": [],
   "source": [
    "import pickle\n",
    "import pandas as pd\n",
    "import numpy as np\n",
    "from statistics import mean"
   ]
  },
  {
   "cell_type": "markdown",
   "id": "8e43c6e9",
   "metadata": {},
   "source": [
    "### 1. Загрузим, подготовим и сгруппируем данные по торгам"
   ]
  },
  {
   "cell_type": "code",
   "execution_count": 3,
   "id": "542ef44d",
   "metadata": {},
   "outputs": [],
   "source": [
    "'Десериализуем последнюю версию датафрейма с лотами из pickle файла'\n",
    "\n",
    "pkl_data_path = '/Users/dmitrijdolgopolov/Documents/1_study_python/projects/' +\\\n",
    "                '9_torgi.gov_api/landplots_lots_stats/1_parser/lots.pkl'\n",
    "\n",
    "with open(pkl_data_path, 'rb') as file:\n",
    "    lots_df = pickle.load(file)"
   ]
  },
  {
   "cell_type": "markdown",
   "id": "739098db",
   "metadata": {},
   "source": [
    "**1.1. Исключим лоты с отсутствующей ключевой информацией (цена, площадь)**"
   ]
  },
  {
   "cell_type": "code",
   "execution_count": 41,
   "id": "d5280c82",
   "metadata": {},
   "outputs": [],
   "source": [
    "lots_df = lots_df.query('end_price != \"Неизвестно\" & kad_cost != \"Неизвестно\" & start_price < end_price \\\n",
    "                        & kad_cost != 0')"
   ]
  },
  {
   "cell_type": "code",
   "execution_count": 103,
   "id": "f40fee4f",
   "metadata": {},
   "outputs": [
    {
     "data": {
      "text/plain": [
       "(27498, 14)"
      ]
     },
     "execution_count": 103,
     "metadata": {},
     "output_type": "execute_result"
    }
   ],
   "source": [
    "lots_df.shape"
   ]
  },
  {
   "cell_type": "code",
   "execution_count": 53,
   "id": "7960934f",
   "metadata": {},
   "outputs": [
    {
     "data": {
      "text/html": [
       "<div>\n",
       "<style scoped>\n",
       "    .dataframe tbody tr th:only-of-type {\n",
       "        vertical-align: middle;\n",
       "    }\n",
       "\n",
       "    .dataframe tbody tr th {\n",
       "        vertical-align: top;\n",
       "    }\n",
       "\n",
       "    .dataframe thead th {\n",
       "        text-align: right;\n",
       "    }\n",
       "</style>\n",
       "<table border=\"1\" class=\"dataframe\">\n",
       "  <thead>\n",
       "    <tr style=\"text-align: right;\">\n",
       "      <th></th>\n",
       "      <th>link</th>\n",
       "      <th>kad_num</th>\n",
       "      <th>region</th>\n",
       "      <th>district</th>\n",
       "      <th>category</th>\n",
       "      <th>vri</th>\n",
       "      <th>contract</th>\n",
       "      <th>square</th>\n",
       "      <th>start_price</th>\n",
       "      <th>end_price</th>\n",
       "      <th>date</th>\n",
       "      <th>kad_cost</th>\n",
       "      <th>price_increase</th>\n",
       "      <th>end_price_sotka</th>\n",
       "    </tr>\n",
       "  </thead>\n",
       "  <tbody>\n",
       "    <tr>\n",
       "      <th>0</th>\n",
       "      <td>https://torgi.gov.ru/new/public/lots/lot/21000...</td>\n",
       "      <td>90:07:200301:1533</td>\n",
       "      <td>Крым</td>\n",
       "      <td>Ленинский муниципальный район</td>\n",
       "      <td>Земли населенных пунктов</td>\n",
       "      <td>Для индивидуального жилищного строительства</td>\n",
       "      <td>Аренда</td>\n",
       "      <td>1000.0</td>\n",
       "      <td>73746.0</td>\n",
       "      <td>109144.08</td>\n",
       "      <td>2022-12-05</td>\n",
       "      <td>725650.0</td>\n",
       "      <td>48.0</td>\n",
       "      <td>10914.0</td>\n",
       "    </tr>\n",
       "    <tr>\n",
       "      <th>1</th>\n",
       "      <td>https://torgi.gov.ru/new/public/lots/lot/21000...</td>\n",
       "      <td>90:07:200101:3091</td>\n",
       "      <td>Крым</td>\n",
       "      <td>Ленинский муниципальный район</td>\n",
       "      <td>Земли населенных пунктов</td>\n",
       "      <td>Для индивидуального жилищного строительства</td>\n",
       "      <td>Аренда</td>\n",
       "      <td>1178.0</td>\n",
       "      <td>90541.0</td>\n",
       "      <td>679962.91</td>\n",
       "      <td>2022-12-05</td>\n",
       "      <td>2359705.6</td>\n",
       "      <td>651.0</td>\n",
       "      <td>57722.0</td>\n",
       "    </tr>\n",
       "  </tbody>\n",
       "</table>\n",
       "</div>"
      ],
      "text/plain": [
       "                                                link            kad_num  \\\n",
       "0  https://torgi.gov.ru/new/public/lots/lot/21000...  90:07:200301:1533   \n",
       "1  https://torgi.gov.ru/new/public/lots/lot/21000...  90:07:200101:3091   \n",
       "\n",
       "  region                       district                  category  \\\n",
       "0   Крым  Ленинский муниципальный район  Земли населенных пунктов   \n",
       "1   Крым  Ленинский муниципальный район  Земли населенных пунктов   \n",
       "\n",
       "                                           vri contract  square  start_price  \\\n",
       "0  Для индивидуального жилищного строительства   Аренда  1000.0      73746.0   \n",
       "1  Для индивидуального жилищного строительства   Аренда  1178.0      90541.0   \n",
       "\n",
       "   end_price       date   kad_cost  price_increase  end_price_sotka  \n",
       "0  109144.08 2022-12-05   725650.0            48.0          10914.0  \n",
       "1  679962.91 2022-12-05  2359705.6           651.0          57722.0  "
      ]
     },
     "execution_count": 53,
     "metadata": {},
     "output_type": "execute_result"
    }
   ],
   "source": [
    "lots_df.head(2)"
   ]
  },
  {
   "cell_type": "code",
   "execution_count": 171,
   "id": "78980178",
   "metadata": {},
   "outputs": [],
   "source": [
    "# lots_df.category.value_counts()"
   ]
  },
  {
   "cell_type": "markdown",
   "id": "b5575064",
   "metadata": {},
   "source": [
    "**1.2. Проверим типы данных в колонках и приведем к нужным**"
   ]
  },
  {
   "cell_type": "code",
   "execution_count": 99,
   "id": "a23b7160",
   "metadata": {},
   "outputs": [],
   "source": [
    "# lots_df.dtypes"
   ]
  },
  {
   "cell_type": "code",
   "execution_count": 15,
   "id": "e232d322",
   "metadata": {},
   "outputs": [],
   "source": [
    "lots_df.end_price = lots_df.end_price.astype('float')"
   ]
  },
  {
   "cell_type": "code",
   "execution_count": 20,
   "id": "e69ea600",
   "metadata": {},
   "outputs": [],
   "source": [
    "lots_df.kad_cost = lots_df.kad_cost.astype('float')"
   ]
  },
  {
   "cell_type": "code",
   "execution_count": 25,
   "id": "50b8762b",
   "metadata": {},
   "outputs": [],
   "source": [
    "lots_df.date = pd.to_datetime(lots_df.date)"
   ]
  },
  {
   "cell_type": "markdown",
   "id": "6edd826c",
   "metadata": {},
   "source": [
    "**1.3. Группировка и получение итоговых таблиц по лотам**"
   ]
  },
  {
   "cell_type": "code",
   "execution_count": 48,
   "id": "7caea0fc",
   "metadata": {},
   "outputs": [],
   "source": [
    "'Добавим колонку с процентом увеличения конечной цены относительно стартовой'\n",
    "\n",
    "lots_df['price_increase'] = np.round(100 * (lots_df.end_price - lots_df.start_price) / lots_df.start_price, 2)"
   ]
  },
  {
   "cell_type": "code",
   "execution_count": 51,
   "id": "26ee32f7",
   "metadata": {},
   "outputs": [],
   "source": [
    "'Добавим колонку с конечной ценой за сотку'\n",
    "\n",
    "lots_df['end_price_sotka'] = np.round(lots_df.end_price / (lots_df.square / 100), 0)"
   ]
  },
  {
   "cell_type": "markdown",
   "id": "068397ad",
   "metadata": {},
   "source": [
    "*1.3.1. Соберем сводные таблицы: Участки под жилье (отдельно в аренду, отдельно - покупка)*"
   ]
  },
  {
   "cell_type": "code",
   "execution_count": 54,
   "id": "7a122767",
   "metadata": {},
   "outputs": [],
   "source": [
    "'Список интересующих ВРИ'\n",
    "\n",
    "house_building_vri_list = ['Для индивидуального жилищного строительства',\n",
    "                            'Для ведения личного подсобного хозяйства (приусадебный земельный участок)',\n",
    "                           'Жилая застройка',\n",
    "                           'Блокированная жилая застройка',\n",
    "                           'Малоэтажная многоквартирная жилая застройка',\n",
    "                           'Ведение садоводства',\n",
    "                           'Среднеэтажная жилая застройка']"
   ]
  },
  {
   "cell_type": "code",
   "execution_count": 79,
   "id": "07318bd8",
   "metadata": {},
   "outputs": [],
   "source": [
    "'Только участки под жилье, тип договора - АРЕНДА'\n",
    "\n",
    "land_for_living_lots_rent_df = lots_df.query('vri in @house_building_vri_list & contract == \"Аренда\"')"
   ]
  },
  {
   "cell_type": "code",
   "execution_count": 80,
   "id": "9b5e579c",
   "metadata": {},
   "outputs": [],
   "source": [
    "'Только участки под жилье, тип договора - ПРОДАЖА'\n",
    "\n",
    "land_for_living_lots_buy_df = lots_df.query('vri in @house_building_vri_list & contract == \"Продажа\"')"
   ]
  },
  {
   "cell_type": "code",
   "execution_count": 81,
   "id": "39f5f7c8",
   "metadata": {},
   "outputs": [
    {
     "data": {
      "text/plain": [
       "(10037, 14)"
      ]
     },
     "execution_count": 81,
     "metadata": {},
     "output_type": "execute_result"
    }
   ],
   "source": [
    "land_for_living_lots_rent_df.shape"
   ]
  },
  {
   "cell_type": "code",
   "execution_count": 82,
   "id": "5b320df9",
   "metadata": {},
   "outputs": [
    {
     "data": {
      "text/plain": [
       "(3873, 14)"
      ]
     },
     "execution_count": 82,
     "metadata": {},
     "output_type": "execute_result"
    }
   ],
   "source": [
    "land_for_living_lots_buy_df.shape"
   ]
  },
  {
   "cell_type": "code",
   "execution_count": 86,
   "id": "eb7f7117",
   "metadata": {},
   "outputs": [
    {
     "name": "stdout",
     "output_type": "stream",
     "text": [
      "Доля участков для жилья от общего количества лотов:  51.0%\n"
     ]
    }
   ],
   "source": [
    "print(f\"Доля участков для жилья от общего количества лотов: \", \n",
    "      f\"\"\"{np.round(100 * (land_for_living_lots_buy_df.shape[0] + \n",
    "        land_for_living_lots_rent_df.shape[0])/lots_df.shape[0], 0)}%\"\"\")"
   ]
  },
  {
   "cell_type": "code",
   "execution_count": 343,
   "id": "4fdfb038",
   "metadata": {},
   "outputs": [],
   "source": [
    "'Сгруппируем ЗУ по региону, категории и типу торгов. Тип торгов: АРЕНДА. Оставим регионы с более 19 лотами'\n",
    "\n",
    "pivot_living_rent = land_for_living_lots_rent_df.groupby(['region', 'category', 'contract'], as_index=False) \\\n",
    "            .agg(lot_count=(\"link\", \"count\"),\n",
    "                q25_lot_pr_incr=(\"price_increase\", lambda x: np.quantile(x, 0.25).round(0)),\n",
    "                median_lot_pr_incr=(\"price_increase\", lambda x: np.median(x).round(0)),\n",
    "                q75_lot_pr_incr=(\"price_increase\", lambda x: np.quantile(x, 0.75).round(0)),\n",
    "                q25_lot_end_pr_sot=(\"end_price_sotka\", lambda x: np.quantile(x, 0.25).round(0)),\n",
    "                median_lot_end_pr_sot=(\"end_price_sotka\", lambda x: np.median(x).round(0)),\n",
    "                q75_lot_end_pr_sot=(\"end_price_sotka\", lambda x: np.quantile(x, 0.75).round(0))) \\\n",
    "            .sort_values('median_lot_end_pr_sot', ascending=False) \\\n",
    "            .query('lot_count >= 20')"
   ]
  },
  {
   "cell_type": "code",
   "execution_count": 375,
   "id": "e52a588c",
   "metadata": {},
   "outputs": [],
   "source": [
    "'Сгруппируем ЗУ по региону, категории и типу торгов. Тип торгов: ПРОДАЖА. Оставим регионы с более 9 лотами'\n",
    "\n",
    "pivot_living_sale = land_for_living_lots_buy_df.groupby(['region', 'category', 'contract'], as_index=False) \\\n",
    "            .agg(lot_count=(\"link\", \"count\"),\n",
    "                q25_lot_pr_incr=(\"price_increase\", lambda x: np.quantile(x, 0.25).round(0)),\n",
    "                median_lot_pr_incr=(\"price_increase\", lambda x: np.median(x).round(0)),\n",
    "                q75_lot_pr_incr=(\"price_increase\", lambda x: np.quantile(x, 0.75).round(0)),\n",
    "                q25_lot_end_pr_sot=(\"end_price_sotka\", lambda x: np.quantile(x, 0.25).round(0)),\n",
    "                median_lot_end_pr_sot=(\"end_price_sotka\", lambda x: np.median(x).round(0)),\n",
    "                q75_lot_end_pr_sot=(\"end_price_sotka\", lambda x: np.quantile(x, 0.75).round(0))) \\\n",
    "            .sort_values('median_lot_end_pr_sot', ascending=False) \\\n",
    "            .query('lot_count >= 10')"
   ]
  },
  {
   "cell_type": "code",
   "execution_count": 345,
   "id": "59967c0e",
   "metadata": {},
   "outputs": [],
   "source": [
    "# pivot_living_rent.head(5)"
   ]
  },
  {
   "cell_type": "code",
   "execution_count": 376,
   "id": "7d79eba4",
   "metadata": {},
   "outputs": [
    {
     "data": {
      "text/plain": [
       "(67, 10)"
      ]
     },
     "execution_count": 376,
     "metadata": {},
     "output_type": "execute_result"
    }
   ],
   "source": [
    "pivot_living_sale.shape"
   ]
  },
  {
   "cell_type": "markdown",
   "id": "f6bd2078",
   "metadata": {},
   "source": [
    "*1.3.2. Соберем сводные таблицы: Сельхозка (отдельно в аренду, отдельно - покупка). Из сельхоз земель исключим ВРИ \"Ведение садоводства\", так как он уже отнесен к землям для жилья*"
   ]
  },
  {
   "cell_type": "code",
   "execution_count": 110,
   "id": "2c75ba98",
   "metadata": {},
   "outputs": [],
   "source": [
    "'Список исключаемых ВРИ'\n",
    "\n",
    "exclude_vri_list = ['Ведение садоводства']"
   ]
  },
  {
   "cell_type": "code",
   "execution_count": 112,
   "id": "72c981e7",
   "metadata": {},
   "outputs": [],
   "source": [
    "'Только сельхозка, тип договора - АРЕНДА'\n",
    "\n",
    "selhozka_lots_rent_df = lots_df.query('category == \"Земли сельскохозяйственного назначения\" \\\n",
    "                                        & vri not in @house_building_vri_list & contract == \"Аренда\"')"
   ]
  },
  {
   "cell_type": "code",
   "execution_count": 114,
   "id": "cc9f6a33",
   "metadata": {},
   "outputs": [],
   "source": [
    "'Только сельхозка, тип договора - ПРОДАЖА'\n",
    "\n",
    "selhozka_lots_sale_df = lots_df.query('category == \"Земли сельскохозяйственного назначения\" \\\n",
    "                                        & vri not in @house_building_vri_list & contract == \"Продажа\"')"
   ]
  },
  {
   "cell_type": "code",
   "execution_count": 116,
   "id": "eb9b3e8c",
   "metadata": {},
   "outputs": [
    {
     "data": {
      "text/plain": [
       "(3785, 14)"
      ]
     },
     "execution_count": 116,
     "metadata": {},
     "output_type": "execute_result"
    }
   ],
   "source": [
    "selhozka_lots_rent_df.shape"
   ]
  },
  {
   "cell_type": "code",
   "execution_count": 117,
   "id": "3d8140fa",
   "metadata": {},
   "outputs": [
    {
     "data": {
      "text/plain": [
       "(627, 14)"
      ]
     },
     "execution_count": 117,
     "metadata": {},
     "output_type": "execute_result"
    }
   ],
   "source": [
    "selhozka_lots_sale_df.shape"
   ]
  },
  {
   "cell_type": "code",
   "execution_count": 118,
   "id": "fc702e55",
   "metadata": {},
   "outputs": [
    {
     "name": "stdout",
     "output_type": "stream",
     "text": [
      "Доля участков для жилья от общего количества лотов:  16.0%\n"
     ]
    }
   ],
   "source": [
    "print(f\"Доля участков для жилья от общего количества лотов: \", \n",
    "      f\"\"\"{np.round(100 * (selhozka_lots_rent_df.shape[0] + \n",
    "        selhozka_lots_sale_df.shape[0])/lots_df.shape[0], 0)}%\"\"\")"
   ]
  },
  {
   "cell_type": "code",
   "execution_count": 341,
   "id": "2ed2e01b",
   "metadata": {},
   "outputs": [],
   "source": [
    "'Сгруппируем ЗУ по региону, категории и типу торгов. Тип торгов: АРЕНДА. Оставим регионы с более 4 лотами'\n",
    "\n",
    "pivot_selhozka_rent = selhozka_lots_rent_df.groupby(['region', 'category', 'contract'], as_index=False) \\\n",
    "            .agg(lot_count=(\"link\", \"count\"),\n",
    "                q25_lot_pr_incr=(\"price_increase\", lambda x: np.quantile(x, 0.25).round(0)),\n",
    "                median_lot_pr_incr=(\"price_increase\", lambda x: np.median(x).round(0)),\n",
    "                q75_lot_pr_incr=(\"price_increase\", lambda x: np.quantile(x, 0.75).round(0)),\n",
    "                q25_lot_end_pr_sot=(\"end_price_sotka\", lambda x: np.quantile(x, 0.25).round(0)),\n",
    "                median_lot_end_pr_sot=(\"end_price_sotka\", lambda x: np.median(x).round(0)),\n",
    "                q75_lot_end_pr_sot=(\"end_price_sotka\", lambda x: np.quantile(x, 0.75).round(0))) \\\n",
    "            .sort_values('median_lot_end_pr_sot', ascending=False) \\\n",
    "            .query('lot_count >= 5')"
   ]
  },
  {
   "cell_type": "code",
   "execution_count": 340,
   "id": "e2f7a6c9",
   "metadata": {},
   "outputs": [],
   "source": [
    "'Сгруппируем ЗУ по региону, категории и типу торгов. Тип торгов: ПРОДАЖА. Оставим регионы с более 4 лотами'\n",
    "\n",
    "pivot_selhozka_sale = selhozka_lots_sale_df.groupby(['region', 'category', 'contract'], as_index=False) \\\n",
    "            .agg(lot_count=(\"link\", \"count\"),\n",
    "                q25_lot_pr_incr=(\"price_increase\", lambda x: np.quantile(x, 0.25).round(0)),\n",
    "                median_lot_pr_incr=(\"price_increase\", lambda x: np.median(x).round(0)),\n",
    "                q75_lot_pr_incr=(\"price_increase\", lambda x: np.quantile(x, 0.75).round(0)),\n",
    "                q25_lot_end_pr_sot=(\"end_price_sotka\", lambda x: np.quantile(x, 0.25).round(0)),\n",
    "                median_lot_end_pr_sot=(\"end_price_sotka\", lambda x: np.median(x).round(0)),\n",
    "                q75_lot_end_pr_sot=(\"end_price_sotka\", lambda x: np.quantile(x, 0.75).round(0))) \\\n",
    "            .sort_values('median_lot_end_pr_sot', ascending=False) \\\n",
    "            .query('lot_count >= 5')"
   ]
  },
  {
   "cell_type": "code",
   "execution_count": 140,
   "id": "abffd6e2",
   "metadata": {},
   "outputs": [],
   "source": [
    "# pivot_selhozka_rent.head(10)"
   ]
  },
  {
   "cell_type": "code",
   "execution_count": 141,
   "id": "8390324e",
   "metadata": {},
   "outputs": [],
   "source": [
    "# pivot_selhozka_sale.head(10)"
   ]
  },
  {
   "cell_type": "markdown",
   "id": "0d86fd9c",
   "metadata": {},
   "source": [
    "### 2. Загрузим, подготовим и сгруппируем данные по Авито"
   ]
  },
  {
   "cell_type": "code",
   "execution_count": 271,
   "id": "f783f4fc",
   "metadata": {},
   "outputs": [],
   "source": [
    "'Десериализуем последнюю версию датафрейма с объявлениями Авито из pickle файла'\n",
    "\n",
    "pkl_avito_data_path = '/Users/dmitrijdolgopolov/Documents/1_study_python/projects/' +\\\n",
    "                      '9_torgi.gov_api/new_parser_avito/1_parser/ads_landplots.pkl'\n",
    "\n",
    "with open(pkl_avito_data_path, 'rb') as file:\n",
    "    avito_df = pickle.load(file)"
   ]
  },
  {
   "cell_type": "markdown",
   "id": "e5ecf56a",
   "metadata": {},
   "source": [
    "**2.1. Исключим объявления с отсутствующей ключевой информацией (цена, площадь)**"
   ]
  },
  {
   "cell_type": "code",
   "execution_count": 272,
   "id": "d56720da",
   "metadata": {},
   "outputs": [],
   "source": [
    "'Добавим колонку с ценой за сотку'\n",
    "\n",
    "avito_df['price_sotka'] = np.round(avito_df.price / avito_df.square, 0)"
   ]
  },
  {
   "cell_type": "code",
   "execution_count": 273,
   "id": "0cc22825",
   "metadata": {},
   "outputs": [],
   "source": [
    "avito_df = avito_df[avito_df.price != 0]"
   ]
  },
  {
   "cell_type": "code",
   "execution_count": 274,
   "id": "c76509f8",
   "metadata": {},
   "outputs": [],
   "source": [
    "avito_df = avito_df[avito_df.land_cat != '-']"
   ]
  },
  {
   "cell_type": "code",
   "execution_count": 277,
   "id": "ac675363",
   "metadata": {},
   "outputs": [
    {
     "data": {
      "text/plain": [
       "78.0"
      ]
     },
     "execution_count": 277,
     "metadata": {},
     "output_type": "execute_result"
    }
   ],
   "source": [
    "np.quantile(avito_df.price_sotka, 0.009)"
   ]
  },
  {
   "cell_type": "code",
   "execution_count": 278,
   "id": "aee58001",
   "metadata": {},
   "outputs": [],
   "source": [
    "'Исключим объявления с экстремально низкой или высокой ценой сотки участка'\n",
    "\n",
    "price_sotka_q0_009 = np.quantile(avito_df.price_sotka, 0.009)\n",
    "avito_df = avito_df.query('price_sotka < 50000000').query('price_sotka > @price_sotka_q0_03')"
   ]
  },
  {
   "cell_type": "code",
   "execution_count": 327,
   "id": "425a37b0",
   "metadata": {},
   "outputs": [],
   "source": [
    "# print(avito_df.loc[666, 'link'])"
   ]
  },
  {
   "cell_type": "markdown",
   "id": "98cb89c9",
   "metadata": {},
   "source": [
    "**2.2. Проверим типы данных в колонках и приведем к нужным**"
   ]
  },
  {
   "cell_type": "code",
   "execution_count": 239,
   "id": "f6183ba2",
   "metadata": {},
   "outputs": [],
   "source": [
    "# avito_df.dtypes"
   ]
  },
  {
   "cell_type": "markdown",
   "id": "e316b034",
   "metadata": {},
   "source": [
    "**2.3. Группировка и получение итоговых таблиц по Авито**"
   ]
  },
  {
   "cell_type": "markdown",
   "id": "d1594b5d",
   "metadata": {},
   "source": [
    "*2.3.1. Переименуем наименование категорий в соответствии с таблицей лотов*"
   ]
  },
  {
   "cell_type": "code",
   "execution_count": 279,
   "id": "dc7dfdff",
   "metadata": {},
   "outputs": [],
   "source": [
    "'Создадим словарь соответствий названий категорий в авито и лотах'\n",
    "\n",
    "land_cat_dict = {'Поселений (ИЖС)': 'Земли населенных пунктов',\n",
    "                'Сельхозназначения (СНТ, ДНП)': 'Земли сельскохозяйственного назначения'}"
   ]
  },
  {
   "cell_type": "code",
   "execution_count": 280,
   "id": "311b5aa9",
   "metadata": {},
   "outputs": [],
   "source": [
    "'Переименуем категории в соответствии со словарем land_cat_dict'\n",
    "\n",
    "avito_df.land_cat = avito_df.land_cat \\\n",
    "                            .apply(lambda x: land_cat_dict[x.strip()] if x.strip() in land_cat_dict else x)"
   ]
  },
  {
   "cell_type": "code",
   "execution_count": 193,
   "id": "b9465523",
   "metadata": {},
   "outputs": [],
   "source": [
    "# 'Заполним отсутствующие значения land_cat'\n",
    "\n",
    "# for i in avito_df[avito_df.land_cat == '-']:\n",
    "#     if 'личное подсобное хозяйство' in avito_df.loc[i, 'title'] and avito_df.loc[i, 'square'] < 200:\n",
    "#         avito_df.loc[i, 'title']"
   ]
  },
  {
   "cell_type": "code",
   "execution_count": 243,
   "id": "49867067",
   "metadata": {},
   "outputs": [],
   "source": [
    "# avito_df.land_cat.value_counts()"
   ]
  },
  {
   "cell_type": "code",
   "execution_count": 179,
   "id": "db5192c1",
   "metadata": {},
   "outputs": [],
   "source": [
    "# lots_df.category.value_counts()"
   ]
  },
  {
   "cell_type": "markdown",
   "id": "359fa243",
   "metadata": {},
   "source": [
    "*2.3.2. Соберем сводные таблицы: Участки под **ЖИЛЬЕ** (имеем только участки для продажи)*"
   ]
  },
  {
   "cell_type": "code",
   "execution_count": 283,
   "id": "59ec5efb",
   "metadata": {},
   "outputs": [],
   "source": [
    "# avito_df.shape"
   ]
  },
  {
   "cell_type": "code",
   "execution_count": 287,
   "id": "52846c3b",
   "metadata": {},
   "outputs": [],
   "source": [
    "'1. Сельхоз участки под ведение садоводства и дачное строительство (примем, что это участки площадью < 200 сот)'\n",
    "\n",
    "avito_add_living_p1 = avito_df.query(\"land_cat == 'Земли сельскохозяйственного назначения' & square < 200\")"
   ]
  },
  {
   "cell_type": "code",
   "execution_count": 306,
   "id": "368b3c54",
   "metadata": {},
   "outputs": [],
   "source": [
    "'2. Участки в населенном пункте'\n",
    "\n",
    "avito_add_living_p2 = avito_df.query(\"land_cat == 'Земли населенных пунктов'\")"
   ]
  },
  {
   "cell_type": "code",
   "execution_count": 309,
   "id": "6587537c",
   "metadata": {},
   "outputs": [],
   "source": [
    "'Объединим обе части в общую таблицу (1+2)'\n",
    "\n",
    "avito_add_living = pd.concat([avito_add_living_p1, avito_add_living_p2])"
   ]
  },
  {
   "cell_type": "code",
   "execution_count": 312,
   "id": "69146646",
   "metadata": {},
   "outputs": [
    {
     "data": {
      "text/plain": [
       "True"
      ]
     },
     "execution_count": 312,
     "metadata": {},
     "output_type": "execute_result"
    }
   ],
   "source": [
    "'Проверка правильности конкатенации'\n",
    "\n",
    "# avito_add_living_p1.shape[0] + avito_add_living_p2.shape[0] == avito_add_living.shape[0]"
   ]
  },
  {
   "cell_type": "code",
   "execution_count": 314,
   "id": "7f55c6d6",
   "metadata": {},
   "outputs": [
    {
     "name": "stdout",
     "output_type": "stream",
     "text": [
      "Доля участков для жилья от общего количества объявлений:  93.0%\n"
     ]
    }
   ],
   "source": [
    "print(f\"Доля участков для жилья от общего количества объявлений: \", \n",
    "      f\"\"\"{np.round(100 * (avito_add_living.shape[0] / avito_df.shape[0]), 0)}%\"\"\")"
   ]
  },
  {
   "cell_type": "code",
   "execution_count": 317,
   "id": "9c8bd6da",
   "metadata": {},
   "outputs": [
    {
     "data": {
      "text/html": [
       "<div>\n",
       "<style scoped>\n",
       "    .dataframe tbody tr th:only-of-type {\n",
       "        vertical-align: middle;\n",
       "    }\n",
       "\n",
       "    .dataframe tbody tr th {\n",
       "        vertical-align: top;\n",
       "    }\n",
       "\n",
       "    .dataframe thead th {\n",
       "        text-align: right;\n",
       "    }\n",
       "</style>\n",
       "<table border=\"1\" class=\"dataframe\">\n",
       "  <thead>\n",
       "    <tr style=\"text-align: right;\">\n",
       "      <th></th>\n",
       "      <th>add_id</th>\n",
       "      <th>link</th>\n",
       "      <th>title</th>\n",
       "      <th>price</th>\n",
       "      <th>land_cat</th>\n",
       "      <th>square</th>\n",
       "      <th>ads_time</th>\n",
       "      <th>person_type</th>\n",
       "      <th>region</th>\n",
       "      <th>city</th>\n",
       "      <th>address</th>\n",
       "      <th>description</th>\n",
       "      <th>nedvigimost_type</th>\n",
       "      <th>coords</th>\n",
       "      <th>location</th>\n",
       "      <th>time_source_created</th>\n",
       "      <th>time_source_updated</th>\n",
       "      <th>is_actual</th>\n",
       "      <th>district</th>\n",
       "      <th>price_sotka</th>\n",
       "    </tr>\n",
       "  </thead>\n",
       "  <tbody>\n",
       "    <tr>\n",
       "      <th>1</th>\n",
       "      <td>623819209</td>\n",
       "      <td>https://www.avito.ru/uvarovka/zemelnye_uchastk...</td>\n",
       "      <td>Участок 12 сот. (СНТ, ДНП)</td>\n",
       "      <td>199999</td>\n",
       "      <td>Земли сельскохозяйственного назначения</td>\n",
       "      <td>12.0</td>\n",
       "      <td>2024-02-29 17:45:26</td>\n",
       "      <td>Частное лицо (фильтр)</td>\n",
       "      <td>Московская область</td>\n",
       "      <td>Уваровка</td>\n",
       "      <td>Московская обл., Можайский г.о., коттеджный по...</td>\n",
       "      <td>В будние дни звонить ПОСЛЕ 18:00. До этого вре...</td>\n",
       "      <td>Продам</td>\n",
       "      <td>55.66884943217913, 35.57753456303382</td>\n",
       "      <td>-</td>\n",
       "      <td>2023-11-24 14:51:40</td>\n",
       "      <td>2024-02-22 14:58:27</td>\n",
       "      <td>11</td>\n",
       "      <td>Можайский Городской Округ</td>\n",
       "      <td>16667.0</td>\n",
       "    </tr>\n",
       "  </tbody>\n",
       "</table>\n",
       "</div>"
      ],
      "text/plain": [
       "      add_id                                               link  \\\n",
       "1  623819209  https://www.avito.ru/uvarovka/zemelnye_uchastk...   \n",
       "\n",
       "                        title   price                                land_cat  \\\n",
       "1  Участок 12 сот. (СНТ, ДНП)  199999  Земли сельскохозяйственного назначения   \n",
       "\n",
       "   square            ads_time            person_type              region  \\\n",
       "1    12.0 2024-02-29 17:45:26  Частное лицо (фильтр)  Московская область   \n",
       "\n",
       "       city                                            address  \\\n",
       "1  Уваровка  Московская обл., Можайский г.о., коттеджный по...   \n",
       "\n",
       "                                         description nedvigimost_type  \\\n",
       "1  В будние дни звонить ПОСЛЕ 18:00. До этого вре...           Продам   \n",
       "\n",
       "                                 coords location time_source_created  \\\n",
       "1  55.66884943217913, 35.57753456303382        - 2023-11-24 14:51:40   \n",
       "\n",
       "  time_source_updated  is_actual                   district  price_sotka  \n",
       "1 2024-02-22 14:58:27         11  Можайский Городской Округ      16667.0  "
      ]
     },
     "execution_count": 317,
     "metadata": {},
     "output_type": "execute_result"
    }
   ],
   "source": [
    "avito_add_living.head(1)"
   ]
  },
  {
   "cell_type": "code",
   "execution_count": 338,
   "id": "b1526f75",
   "metadata": {},
   "outputs": [],
   "source": [
    "'Сгруппируем ЗУ по региону, категории и типу торгов. Оставим регионы с более 100 лотами'\n",
    "\n",
    "pivot_avito_living =  avito_add_living.groupby(['region', 'land_cat'], as_index=False) \\\n",
    "            .agg(avito_add_count=(\"link\", \"count\"),\n",
    "                q25_avito_pr_sot=(\"price_sotka\", lambda x: np.quantile(x, 0.25).round(0)),\n",
    "                median_avito_pr_sot=(\"price_sotka\", lambda x: np.median(x).round(0)),\n",
    "                q75_avito_pr_sot=(\"price_sotka\", lambda x: np.quantile(x, 0.75).round(0))) \\\n",
    "            .sort_values('median_avito_pr_sot', ascending=False) \\\n",
    "            .query('avito_add_count >= 100')"
   ]
  },
  {
   "cell_type": "markdown",
   "id": "b1e4cf92",
   "metadata": {},
   "source": [
    "*2.3.2. Соберем сводные таблицы: Участки под **СЕЛЬХОЗКУ** (имеем только участки для продажи)*"
   ]
  },
  {
   "cell_type": "code",
   "execution_count": 329,
   "id": "5da983a5",
   "metadata": {},
   "outputs": [],
   "source": [
    "avito_add_selhozka = avito_df.query(\"land_cat == 'Земли сельскохозяйственного назначения' & square > 200\")"
   ]
  },
  {
   "cell_type": "code",
   "execution_count": 330,
   "id": "94118fe3",
   "metadata": {},
   "outputs": [
    {
     "name": "stdout",
     "output_type": "stream",
     "text": [
      "Доля участков для сельхозки от общего количества объявлений:  4.0%\n"
     ]
    }
   ],
   "source": [
    "print(f\"Доля участков для сельхозки от общего количества объявлений: \", \n",
    "      f\"\"\"{np.round(100 * (avito_add_selhozka.shape[0] / avito_df.shape[0]), 0)}%\"\"\")"
   ]
  },
  {
   "cell_type": "code",
   "execution_count": 337,
   "id": "896b834d",
   "metadata": {},
   "outputs": [],
   "source": [
    "'Сгруппируем ЗУ по региону, категории и типу торгов. Оставим регионы с более 100 лотами'\n",
    "\n",
    "pivot_avito_selhozka = avito_add_selhozka.groupby(['region', 'land_cat'], as_index=False) \\\n",
    "            .agg(avito_add_count=(\"link\", \"count\"),\n",
    "                q25_avito_pr_sot=(\"price_sotka\", lambda x: np.quantile(x, 0.25).round(0)),\n",
    "                median_avito_pr_sot=(\"price_sotka\", lambda x: np.median(x).round(0)),\n",
    "                q75_avito_pr_sot=(\"price_sotka\", lambda x: np.quantile(x, 0.75).round(0))) \\\n",
    "            .sort_values('median_avito_pr_sot', ascending=False) \\\n",
    "            .query('avito_add_count >= 20')"
   ]
  },
  {
   "cell_type": "code",
   "execution_count": null,
   "id": "dc39c34a",
   "metadata": {},
   "outputs": [],
   "source": []
  },
  {
   "cell_type": "code",
   "execution_count": null,
   "id": "32e4f61d",
   "metadata": {},
   "outputs": [],
   "source": []
  },
  {
   "cell_type": "code",
   "execution_count": null,
   "id": "7e551cc4",
   "metadata": {},
   "outputs": [],
   "source": []
  },
  {
   "cell_type": "code",
   "execution_count": null,
   "id": "4a79228f",
   "metadata": {},
   "outputs": [],
   "source": []
  },
  {
   "cell_type": "markdown",
   "id": "0bfd66dd",
   "metadata": {},
   "source": [
    "### 3. Совместим данные по торгам и Авито (привязка: регион и категория земли)"
   ]
  },
  {
   "cell_type": "markdown",
   "id": "6e90a480",
   "metadata": {},
   "source": [
    "**3.1. ЖИЛЬЕ**"
   ]
  },
  {
   "cell_type": "markdown",
   "id": "15631c9e",
   "metadata": {},
   "source": [
    "*3.1.1. Соединение таблиц*"
   ]
  },
  {
   "cell_type": "code",
   "execution_count": 353,
   "id": "3410f92b",
   "metadata": {},
   "outputs": [],
   "source": [
    "# pivot_living_sale.head(1)"
   ]
  },
  {
   "cell_type": "code",
   "execution_count": 377,
   "id": "5fac09cb",
   "metadata": {},
   "outputs": [],
   "source": [
    "'Таблица лотов (только с нужными клонками)'\n",
    "\n",
    "pivot_living_lots = pivot_living_sale[pivot_living_sale\\\n",
    "                                      .columns.drop(['contract', 'q25_lot_pr_incr', 'q75_lot_pr_incr'])]"
   ]
  },
  {
   "cell_type": "code",
   "execution_count": 359,
   "id": "0def79c8",
   "metadata": {},
   "outputs": [],
   "source": [
    "'Таблица Авито мерджится в исходном виде, но с переименованием колонки land_cat в category'\n",
    "\n",
    "pivot_avito_living = pivot_avito_living.rename(columns={'land_cat': 'category'})"
   ]
  },
  {
   "cell_type": "code",
   "execution_count": 365,
   "id": "8cf2a44d",
   "metadata": {},
   "outputs": [
    {
     "data": {
      "text/plain": [
       "(47, 7)"
      ]
     },
     "execution_count": 365,
     "metadata": {},
     "output_type": "execute_result"
    }
   ],
   "source": [
    "pivot_living_lots.shape"
   ]
  },
  {
   "cell_type": "code",
   "execution_count": 366,
   "id": "520f765f",
   "metadata": {},
   "outputs": [
    {
     "data": {
      "text/plain": [
       "(150, 6)"
      ]
     },
     "execution_count": 366,
     "metadata": {},
     "output_type": "execute_result"
    }
   ],
   "source": [
    "pivot_avito_living.shape"
   ]
  },
  {
   "cell_type": "code",
   "execution_count": 388,
   "id": "7dcfb1c7",
   "metadata": {},
   "outputs": [],
   "source": [
    "# pivot_living_lots[['region', 'category', 'lot_count']]"
   ]
  },
  {
   "cell_type": "code",
   "execution_count": 392,
   "id": "4be52625",
   "metadata": {},
   "outputs": [],
   "source": [
    "'Соединяем две таблицы. ИТОГОВАЯ ТАБЛИЦА СРАВНЕНИЯ ЛОТОВ И АВИТО'\n",
    "\n",
    "merged_pivot_living = pivot_living_lots.merge(pivot_avito_living, on=['region', 'category'], how='inner')"
   ]
  },
  {
   "cell_type": "markdown",
   "id": "ec6a2d9a",
   "metadata": {},
   "source": [
    "*3.1.2. Анализ, добавление агрегированных колонок и сегментация регионов*"
   ]
  },
  {
   "cell_type": "code",
   "execution_count": 408,
   "id": "31f07995",
   "metadata": {},
   "outputs": [],
   "source": [
    "'Добавим новую колонку для среднего значения превышения цен авито над итоговыми ценами лотов'\n",
    "\n",
    "merged_pivot_living['avg_price_diff'] = 0.0"
   ]
  },
  {
   "cell_type": "code",
   "execution_count": 423,
   "id": "64e26522",
   "metadata": {},
   "outputs": [],
   "source": [
    "'Посчитаем среднее значение превышения цен авито над итоговыми ценами лотов (среднее между q25, median, q75)'\n",
    "\n",
    "for i in merged_pivot_living.index:\n",
    "    merged_pivot_living.loc[i, 'avg_price_diff'] = 100 * np.mean(\\\n",
    "     [merged_pivot_living.loc[i, 'q25_avito_pr_sot'] / merged_pivot_living.loc[i, 'q25_lot_end_pr_sot']-1,\n",
    "     merged_pivot_living.loc[i, 'median_avito_pr_sot'] / merged_pivot_living.loc[i, 'median_lot_end_pr_sot']-1,\n",
    "     merged_pivot_living.loc[i, 'q75_avito_pr_sot'] / merged_pivot_living.loc[i, 'q75_lot_end_pr_sot']-1]\n",
    "                                                                ).round(2)\n"
   ]
  },
  {
   "cell_type": "code",
   "execution_count": 438,
   "id": "e2ebacca",
   "metadata": {},
   "outputs": [],
   "source": [
    "'Посчитаем значения квантилей (0.25, 0.5, 0.75) для основных сравниваемых колонок'\n",
    "\n",
    "lc_quantile = list(merged_pivot_living.lot_count.quantile([0.25, 0.5, 0.75]))\n",
    "mlpi_quantile = list(merged_pivot_living.median_lot_pr_incr.quantile([0.25, 0.5, 0.75]))\n",
    "aac_quantile = list(merged_pivot_living.avito_add_count.quantile([0.25, 0.5, 0.75]))\n",
    "apd_quantile = list(merged_pivot_living.avg_price_diff.quantile([0.25, 0.5, 0.75]))"
   ]
  },
  {
   "cell_type": "code",
   "execution_count": 439,
   "id": "f3ecc339",
   "metadata": {},
   "outputs": [],
   "source": [
    "'Для присвоения баллов по каждому показателю сделаем функции'\n",
    "\n",
    "def lc_group(x, lc_quantile):\n",
    "    if x < lc_quantile[0]:\n",
    "        return int(1)\n",
    "    elif x < lc_quantile[1]:\n",
    "        return int(2)\n",
    "    elif x < lc_quantile[2]:\n",
    "        return int(3)\n",
    "    elif x >= lc_quantile[2]:\n",
    "        return int(4)\n",
    "    \n",
    "    \n",
    "def mlpi_group(x, mlpi_quantile):\n",
    "    if x < mlpi_quantile[0]:\n",
    "        return int(4)\n",
    "    elif x < mlpi_quantile[1]:\n",
    "        return int(3)\n",
    "    elif x < mlpi_quantile[2]:\n",
    "        return int(2)\n",
    "    elif x >= mlpi_quantile[2]:\n",
    "        return int(1)\n",
    "    \n",
    "    \n",
    "def aac_group(x, aac_quantile):\n",
    "    if x < aac_quantile[0]:\n",
    "        return int(1)\n",
    "    elif x < aac_quantile[1]:\n",
    "        return int(2)\n",
    "    elif x < aac_quantile[2]:\n",
    "        return int(3)\n",
    "    elif x >= aac_quantile[2]:\n",
    "        return int(4)\n",
    "    \n",
    "    \n",
    "def apd_group(x, apd_quantile):\n",
    "    if x < apd_quantile[0]:\n",
    "        return int(1)\n",
    "    elif x < apd_quantile[1]:\n",
    "        return int(2)\n",
    "    elif x < apd_quantile[2]:\n",
    "        return int(3)\n",
    "    elif x >= apd_quantile[2]:\n",
    "        return int(4)"
   ]
  },
  {
   "cell_type": "code",
   "execution_count": 440,
   "id": "fecc8286",
   "metadata": {},
   "outputs": [],
   "source": [
    "'Для наглядности проставим баллы по основным сравниваемым колонкам по аналогии с RFM-сегментацией'\n",
    "\n",
    "'Сегм. по avg_price_diff: 1-4 - от меньш. к больш. разнице цен авито к ценам лотов'\n",
    "merged_pivot_living['APD'] = merged_pivot_living.avg_price_diff.apply(lambda x: apd_group(x, apd_quantile))\n",
    "\n",
    "'Сегм. по median_lot_pr_incr: 1-4 - от больш. к меньш. знач. медианы увелич. цены'\n",
    "merged_pivot_living['MLPI'] = merged_pivot_living.median_lot_pr_incr.apply(lambda x: mlpi_group(x, mlpi_quantile))\n",
    "\n",
    "'Сегм. по lot_count: 1-4 - от меньшего к большему количеству лотов'\n",
    "merged_pivot_living['LC'] = merged_pivot_living.lot_count.apply(lambda x: lc_group(x, lc_quantile)) \n",
    "\n",
    "'Сегм. по avito_add_count: 1-4 - от меньш. к больш. количеству объявл. на авито'\n",
    "merged_pivot_living['AAC'] = merged_pivot_living.avito_add_count.apply(lambda x: aac_group(x, aac_quantile))  "
   ]
  },
  {
   "cell_type": "code",
   "execution_count": 443,
   "id": "5ea4cab4",
   "metadata": {},
   "outputs": [],
   "source": [
    "'Сортируем итоговую таблицу по баллам'\n",
    "\n",
    "merged_pivot_living = merged_pivot_living.sort_values(['APD', 'MLPI', 'LC', 'AAC'], \n",
    "                                                      ascending=[False for _ in range(4)])"
   ]
  },
  {
   "cell_type": "code",
   "execution_count": 444,
   "id": "ea042fcc",
   "metadata": {},
   "outputs": [],
   "source": [
    "'Сохранение итоговой таблицы в csv'\n",
    "\n",
    "merged_pivot_living.to_csv('lots_and_avito_stats_by_region.csv', index=False)"
   ]
  },
  {
   "cell_type": "code",
   "execution_count": null,
   "id": "05c7f5a4",
   "metadata": {},
   "outputs": [],
   "source": []
  },
  {
   "cell_type": "code",
   "execution_count": null,
   "id": "80b33e9b",
   "metadata": {},
   "outputs": [],
   "source": []
  },
  {
   "cell_type": "markdown",
   "id": "13ec4de6",
   "metadata": {},
   "source": [
    "### 4. Сводные данные по ценам участков под жилье на Авито с группировкой по регионам и районам"
   ]
  },
  {
   "cell_type": "code",
   "execution_count": 447,
   "id": "c613cbf8",
   "metadata": {},
   "outputs": [
    {
     "data": {
      "text/html": [
       "<div>\n",
       "<style scoped>\n",
       "    .dataframe tbody tr th:only-of-type {\n",
       "        vertical-align: middle;\n",
       "    }\n",
       "\n",
       "    .dataframe tbody tr th {\n",
       "        vertical-align: top;\n",
       "    }\n",
       "\n",
       "    .dataframe thead th {\n",
       "        text-align: right;\n",
       "    }\n",
       "</style>\n",
       "<table border=\"1\" class=\"dataframe\">\n",
       "  <thead>\n",
       "    <tr style=\"text-align: right;\">\n",
       "      <th></th>\n",
       "      <th>add_id</th>\n",
       "      <th>link</th>\n",
       "      <th>title</th>\n",
       "      <th>price</th>\n",
       "      <th>land_cat</th>\n",
       "      <th>square</th>\n",
       "      <th>ads_time</th>\n",
       "      <th>person_type</th>\n",
       "      <th>region</th>\n",
       "      <th>city</th>\n",
       "      <th>address</th>\n",
       "      <th>description</th>\n",
       "      <th>nedvigimost_type</th>\n",
       "      <th>coords</th>\n",
       "      <th>location</th>\n",
       "      <th>time_source_created</th>\n",
       "      <th>time_source_updated</th>\n",
       "      <th>is_actual</th>\n",
       "      <th>district</th>\n",
       "      <th>price_sotka</th>\n",
       "    </tr>\n",
       "  </thead>\n",
       "  <tbody>\n",
       "    <tr>\n",
       "      <th>1</th>\n",
       "      <td>623819209</td>\n",
       "      <td>https://www.avito.ru/uvarovka/zemelnye_uchastk...</td>\n",
       "      <td>Участок 12 сот. (СНТ, ДНП)</td>\n",
       "      <td>199999</td>\n",
       "      <td>Земли сельскохозяйственного назначения</td>\n",
       "      <td>12.0</td>\n",
       "      <td>2024-02-29 17:45:26</td>\n",
       "      <td>Частное лицо (фильтр)</td>\n",
       "      <td>Московская область</td>\n",
       "      <td>Уваровка</td>\n",
       "      <td>Московская обл., Можайский г.о., коттеджный по...</td>\n",
       "      <td>В будние дни звонить ПОСЛЕ 18:00. До этого вре...</td>\n",
       "      <td>Продам</td>\n",
       "      <td>55.66884943217913, 35.57753456303382</td>\n",
       "      <td>-</td>\n",
       "      <td>2023-11-24 14:51:40</td>\n",
       "      <td>2024-02-22 14:58:27</td>\n",
       "      <td>11</td>\n",
       "      <td>Можайский Городской Округ</td>\n",
       "      <td>16667.0</td>\n",
       "    </tr>\n",
       "  </tbody>\n",
       "</table>\n",
       "</div>"
      ],
      "text/plain": [
       "      add_id                                               link  \\\n",
       "1  623819209  https://www.avito.ru/uvarovka/zemelnye_uchastk...   \n",
       "\n",
       "                        title   price                                land_cat  \\\n",
       "1  Участок 12 сот. (СНТ, ДНП)  199999  Земли сельскохозяйственного назначения   \n",
       "\n",
       "   square            ads_time            person_type              region  \\\n",
       "1    12.0 2024-02-29 17:45:26  Частное лицо (фильтр)  Московская область   \n",
       "\n",
       "       city                                            address  \\\n",
       "1  Уваровка  Московская обл., Можайский г.о., коттеджный по...   \n",
       "\n",
       "                                         description nedvigimost_type  \\\n",
       "1  В будние дни звонить ПОСЛЕ 18:00. До этого вре...           Продам   \n",
       "\n",
       "                                 coords location time_source_created  \\\n",
       "1  55.66884943217913, 35.57753456303382        - 2023-11-24 14:51:40   \n",
       "\n",
       "  time_source_updated  is_actual                   district  price_sotka  \n",
       "1 2024-02-22 14:58:27         11  Можайский Городской Округ      16667.0  "
      ]
     },
     "execution_count": 447,
     "metadata": {},
     "output_type": "execute_result"
    }
   ],
   "source": [
    "avito_add_living.head(1)"
   ]
  },
  {
   "cell_type": "code",
   "execution_count": 450,
   "id": "e1a22db2",
   "metadata": {},
   "outputs": [],
   "source": [
    "'Сгруппируем объявления из Авито по региону, району, категории. Оставим регионы с более 10 объявлениями'\n",
    "\n",
    "avito_lp_by_district =  avito_add_living.groupby(['region', 'district', 'land_cat'], as_index=False) \\\n",
    "            .agg(add_count=(\"link\", \"count\"),\n",
    "                q25_pr_sot=(\"price_sotka\", lambda x: np.quantile(x, 0.25).round(0)),\n",
    "                median_pr_sot=(\"price_sotka\", lambda x: np.median(x).round(0)),\n",
    "                q75_pr_sot=(\"price_sotka\", lambda x: np.quantile(x, 0.75).round(0))) \\\n",
    "            .sort_values(['region', 'median_pr_sot'], ascending=[True, False]) \\\n",
    "            .query('add_count >= 10')"
   ]
  },
  {
   "cell_type": "code",
   "execution_count": 452,
   "id": "a45022e4",
   "metadata": {},
   "outputs": [],
   "source": [
    "'Сгруппируем объявления из Авито по региону, категории. Оставим регионы с более 50 объявлениями'\n",
    "\n",
    "avito_lp_by_region =  avito_add_living.groupby(['region', 'land_cat'], as_index=False) \\\n",
    "            .agg(add_count=(\"link\", \"count\"),\n",
    "                q25_pr_sot=(\"price_sotka\", lambda x: np.quantile(x, 0.25).round(0)),\n",
    "                median_pr_sot=(\"price_sotka\", lambda x: np.median(x).round(0)),\n",
    "                q75_pr_sot=(\"price_sotka\", lambda x: np.quantile(x, 0.75).round(0))) \\\n",
    "            .sort_values(['region', 'median_pr_sot'], ascending=[True, False]) \\\n",
    "            .query('add_count >= 50')"
   ]
  },
  {
   "cell_type": "code",
   "execution_count": 453,
   "id": "fb3a20b5",
   "metadata": {},
   "outputs": [
    {
     "data": {
      "text/plain": [
       "(2069, 7)"
      ]
     },
     "execution_count": 453,
     "metadata": {},
     "output_type": "execute_result"
    }
   ],
   "source": [
    "avito_lp_by_district.shape"
   ]
  },
  {
   "cell_type": "code",
   "execution_count": 456,
   "id": "2a19cce5",
   "metadata": {},
   "outputs": [
    {
     "data": {
      "text/plain": [
       "(158, 6)"
      ]
     },
     "execution_count": 456,
     "metadata": {},
     "output_type": "execute_result"
    }
   ],
   "source": [
    "avito_lp_by_region.shape"
   ]
  },
  {
   "cell_type": "code",
   "execution_count": 457,
   "id": "719fbc4c",
   "metadata": {},
   "outputs": [],
   "source": [
    "'Сохраняем итоговую таблицу с группировкой по районам в csv'\n",
    "\n",
    "avito_lp_by_district.to_csv('avito_stats_by_district.csv', index=False)"
   ]
  },
  {
   "cell_type": "code",
   "execution_count": 458,
   "id": "83478972",
   "metadata": {},
   "outputs": [],
   "source": [
    "'Сохраняем итоговую таблицу с группировкой по регионам в csv'\n",
    "\n",
    "avito_lp_by_region.to_csv('avito_stats_by_region.csv', index=False)"
   ]
  },
  {
   "cell_type": "code",
   "execution_count": null,
   "id": "fac590ef",
   "metadata": {},
   "outputs": [],
   "source": []
  },
  {
   "cell_type": "code",
   "execution_count": null,
   "id": "76f742dc",
   "metadata": {},
   "outputs": [],
   "source": []
  },
  {
   "cell_type": "code",
   "execution_count": null,
   "id": "ee5f3cf4",
   "metadata": {},
   "outputs": [],
   "source": []
  },
  {
   "cell_type": "code",
   "execution_count": null,
   "id": "83c02d2d",
   "metadata": {},
   "outputs": [],
   "source": []
  }
 ],
 "metadata": {
  "kernelspec": {
   "display_name": "Python 3 (ipykernel)",
   "language": "python",
   "name": "python3"
  },
  "language_info": {
   "codemirror_mode": {
    "name": "ipython",
    "version": 3
   },
   "file_extension": ".py",
   "mimetype": "text/x-python",
   "name": "python",
   "nbconvert_exporter": "python",
   "pygments_lexer": "ipython3",
   "version": "3.9.12"
  }
 },
 "nbformat": 4,
 "nbformat_minor": 5
}
