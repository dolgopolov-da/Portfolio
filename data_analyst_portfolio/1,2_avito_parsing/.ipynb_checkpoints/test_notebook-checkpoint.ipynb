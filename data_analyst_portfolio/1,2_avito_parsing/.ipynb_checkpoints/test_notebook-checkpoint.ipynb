{
 "cells": [
  {
   "cell_type": "code",
   "execution_count": 43,
   "id": "01bfe20b",
   "metadata": {},
   "outputs": [],
   "source": [
    "from bs4 import BeautifulSoup\n",
    "import datetime\n",
    "from selenium import webdriver\n",
    "from webdriver_manager.chrome import ChromeDriverManager\n",
    "import time"
   ]
  },
  {
   "cell_type": "code",
   "execution_count": 44,
   "id": "b4b16161",
   "metadata": {},
   "outputs": [],
   "source": [
    "today = datetime.datetime.today().strftime('%d.%m.%Y')"
   ]
  },
  {
   "cell_type": "code",
   "execution_count": 45,
   "id": "aca51402",
   "metadata": {},
   "outputs": [],
   "source": [
    "file_path: str = f'/Users/dmitrijdolgopolov/Documents/1_study_python/projects/1_avito_parsing/flats_from_avito/page_codes/Page_code_{today}.txt'"
   ]
  },
  {
   "cell_type": "code",
   "execution_count": 41,
   "id": "6a6ba2c8",
   "metadata": {},
   "outputs": [],
   "source": [
    "def get_flat_info(url, headless=True):\n",
    "    options = webdriver.ChromeOptions()\n",
    "    options.add_argument('--disable-blink-features=AutomationControlled')\n",
    "    if headless:\n",
    "        options.add_argument('--headless')\n",
    "    driver = webdriver.Chrome(ChromeDriverManager().install(), options=options)\n",
    "    try:\n",
    "        driver.get(url=url)\n",
    "        time.sleep(5)\n",
    "        flat_page_code = driver.page_source\n",
    "        flat_soup = BeautifulSoup(flat_page_code, 'html.parser')\n",
    "        flat_square_value = flat_soup.find_all('li', class_='params-paramsList__item-appQw')\\\n",
    "                               [1].get_text().split(' ')[2][:-3]\n",
    "    except Exception as ex:\n",
    "        print(ex)\n",
    "    finally:\n",
    "        driver.close()\n",
    "        driver.quit()\n",
    "        return flat_square_value"
   ]
  },
  {
   "cell_type": "code",
   "execution_count": 66,
   "id": "2217a199",
   "metadata": {},
   "outputs": [
    {
     "name": "stdout",
     "output_type": "stream",
     "text": [
      "[8, 9, 10]\n"
     ]
    }
   ],
   "source": [
    "with open(file_path) as file:\n",
    "    page_code = file.read()\n",
    "soup = BeautifulSoup(page_code, 'html.parser')\n",
    "# metro_divs = soup.find_all('div', class_='geo-georeferences-SEtee text-text-LurtD text-size-s-BxGpL')\n",
    "item_divs = soup.find_all('div', class_='iva-item-body-KLUuy')\n",
    "\n",
    "del_items = []\n",
    "for i in range(len(item_divs)):\n",
    "    if item_divs[i].find('div', class_='geo-address-fhHd0 text-text-LurtD text-size-s-BxGpL') is None:\n",
    "        del_items.append(i)\n",
    "print(del_items)\n",
    "for i in del_items[::-1]:\n",
    "    del item_divs[i]"
   ]
  },
  {
   "cell_type": "code",
   "execution_count": 67,
   "id": "a362e8b7",
   "metadata": {},
   "outputs": [],
   "source": [
    "for i in range(len(item_divs)):\n",
    "    if item_divs[i].find('div', class_='geo-address-fhHd0 text-text-LurtD text-size-s-BxGpL') is None:\n",
    "        print(item_divs[i])\n",
    "#     item_address = item_divs[i].find('div', class_='geo-address-fhHd0 text-text-LurtD text-size-s-BxGpL')\\\n",
    "#                            .find('span').get_text()\n",
    "#     print(item_address)"
   ]
  },
  {
   "cell_type": "code",
   "execution_count": 42,
   "id": "0ed6a19a",
   "metadata": {},
   "outputs": [
    {
     "name": "stderr",
     "output_type": "stream",
     "text": [
      "/var/folders/_w/82802rvj0rv88rym_s2j3p6m0000gn/T/ipykernel_65702/1897308353.py:6: DeprecationWarning: executable_path has been deprecated, please pass in a Service object\n",
      "  driver = webdriver.Chrome(ChromeDriverManager().install(), options=options)\n"
     ]
    },
    {
     "name": "stdout",
     "output_type": "stream",
     "text": [
      "243 34.3\n"
     ]
    }
   ],
   "source": [
    "n = 1\n",
    "for i in range(len(item_divs)):\n",
    "    if len(item_divs[i].find('h3').get_text().split(', ')) >= 2:\n",
    "        item_square = float(item_divs[i].find('h3').get_text().split(', ')[1].split('\\xa0')[0].replace(',', '.'))\n",
    "    else:\n",
    "        flat_url = 'https://www.avito.ru' + item_divs[i].find('a', class_='link-link-MbQDP').get('href')\n",
    "        flat_square = get_flat_info(flat_url)\n",
    "        print(i, flat_square)\n",
    "        break\n",
    "#     n += 1\n",
    "#     if n > 1000:\n",
    "#         break"
   ]
  },
  {
   "cell_type": "code",
   "execution_count": null,
   "id": "9e5fdfbf",
   "metadata": {},
   "outputs": [],
   "source": []
  },
  {
   "cell_type": "code",
   "execution_count": null,
   "id": "e0fd27a2",
   "metadata": {},
   "outputs": [],
   "source": []
  },
  {
   "cell_type": "code",
   "execution_count": null,
   "id": "134de7fd",
   "metadata": {},
   "outputs": [],
   "source": []
  },
  {
   "cell_type": "code",
   "execution_count": null,
   "id": "d1d26909",
   "metadata": {},
   "outputs": [],
   "source": []
  }
 ],
 "metadata": {
  "kernelspec": {
   "display_name": "Python 3 (ipykernel)",
   "language": "python",
   "name": "python3"
  },
  "language_info": {
   "codemirror_mode": {
    "name": "ipython",
    "version": 3
   },
   "file_extension": ".py",
   "mimetype": "text/x-python",
   "name": "python",
   "nbconvert_exporter": "python",
   "pygments_lexer": "ipython3",
   "version": "3.9.12"
  }
 },
 "nbformat": 4,
 "nbformat_minor": 5
}
