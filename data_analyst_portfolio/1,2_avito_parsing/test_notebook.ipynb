{
 "cells": [
  {
   "cell_type": "code",
   "execution_count": 75,
   "id": "01bfe20b",
   "metadata": {},
   "outputs": [],
   "source": [
    "from bs4 import BeautifulSoup\n",
    "import datetime\n",
    "from selenium import webdriver\n",
    "from webdriver_manager.chrome import ChromeDriverManager\n",
    "import time\n",
    "import re"
   ]
  },
  {
   "cell_type": "code",
   "execution_count": 44,
   "id": "b4b16161",
   "metadata": {},
   "outputs": [],
   "source": [
    "today = datetime.datetime.today().strftime('%d.%m.%Y')"
   ]
  },
  {
   "cell_type": "code",
   "execution_count": 76,
   "id": "aca51402",
   "metadata": {},
   "outputs": [],
   "source": [
    "file_path: str = f'/Users/dmitrijdolgopolov/Documents/1_study_python/projects/1_avito_parsing/flats_from_avito/page_codes/Page_code_19.04.2023.txt'"
   ]
  },
  {
   "cell_type": "code",
   "execution_count": 93,
   "id": "6a6ba2c8",
   "metadata": {},
   "outputs": [],
   "source": [
    "def get_flat_info(url, headless=True):\n",
    "    options = webdriver.ChromeOptions()\n",
    "    options.add_argument('--disable-blink-features=AutomationControlled')\n",
    "    if headless:\n",
    "        options.add_argument('--headless')\n",
    "    driver = webdriver.Chrome(ChromeDriverManager().install(), options=options)\n",
    "    try:\n",
    "        driver.get(url=url)\n",
    "        time.sleep(5)\n",
    "        flat_page_code = driver.page_source\n",
    "        flat_soup = BeautifulSoup(flat_page_code, 'html.parser')\n",
    "        params_li = flat_soup.find_all('li', class_='params-paramsList__item-appQw')\n",
    "        flat_square_value, flat_floor, flat_floors_in_house = 1, '-', '-'\n",
    "        \n",
    "        params_needed = 3\n",
    "        count = 0\n",
    "        for i in range(len(params_li)):\n",
    "            if any(x in params_li[i].find('span', class_='desktop-3a1zuq')\n",
    "                               .get_text() for x in ('Общая площадь', 'Площадь комнаты')):\n",
    "                flat_square_value = float(params_li[i].get_text()\n",
    "                                                      .replace('Общая площадь', '')\n",
    "                                                      .replace('Площадь комнаты', '')\n",
    "                                                      .replace(': ', '')\n",
    "                                                      .replace('\\xa0', ' ')\n",
    "                                                      .split()[0])\n",
    "                count += 1\n",
    "                if count >= 3:\n",
    "                    break\n",
    "            elif 'Этаж' in params_li[i].find('span', class_='desktop-3a1zuq').get_text():\n",
    "                flat_floor = int(params_li[i].get_text()\n",
    "                                             .replace('Этаж', '')\n",
    "                                             .replace(': ', '')\n",
    "                                             .split(' ')[0])\n",
    "                flat_floors_in_house = int(params_li[i].get_text()\n",
    "                                                       .replace('Этаж', '')\n",
    "                                                       .replace(': ', '')\n",
    "                                                       .split(' ')[-1])\n",
    "                count += (1 + 1)\n",
    "                if count >= params_needed:\n",
    "                    print('успешно завершено.')\n",
    "                    break\n",
    "        if count < 3:\n",
    "            print(f'На странице не хватает параметров: {url}')\n",
    "    except Exception as ex:\n",
    "        print(ex)\n",
    "    finally:\n",
    "        driver.close()\n",
    "        driver.quit()\n",
    "        return flat_square_value, flat_floor, flat_floors_in_house"
   ]
  },
  {
   "cell_type": "code",
   "execution_count": 94,
   "id": "3029c0ac",
   "metadata": {},
   "outputs": [
    {
     "name": "stdout",
     "output_type": "stream",
     "text": [
      "Недостаточно информации, нужно зайти на страницу квартиры: https://www.avito.ru/sankt-peterburg/kvartiry/kvartira_2613111204\n"
     ]
    },
    {
     "name": "stderr",
     "output_type": "stream",
     "text": [
      "/var/folders/_w/82802rvj0rv88rym_s2j3p6m0000gn/T/ipykernel_65702/231139357.py:6: DeprecationWarning: executable_path has been deprecated, please pass in a Service object\n",
      "  driver = webdriver.Chrome(ChromeDriverManager().install(), options=options)\n"
     ]
    },
    {
     "name": "stdout",
     "output_type": "stream",
     "text": [
      "успешно завершено.\n",
      "Неверный тип данных, нужно зайти на страницу квартиры: https://www.avito.ru/sankt-peterburg/komnaty/komnata_194m_v_2-k._512et._2782997124\n",
      "успешно завершено.\n"
     ]
    }
   ],
   "source": [
    "with open(file_path) as file:\n",
    "    page_code = file.read()\n",
    "soup = BeautifulSoup(page_code, 'html.parser')\n",
    "item_divs = soup.find_all('div', class_='iva-item-body-KLUuy')\n",
    "for item in item_divs:\n",
    "        if len(item.find('h3').get_text().split(', ')) >= 2:\n",
    "            item_floor = item.find('h3') \\\n",
    "                .get_text() \\\n",
    "                .split(', ')[-1] \\\n",
    "                .replace('\\xa0', ' ') \\\n",
    "                .split()[0] \\\n",
    "                .split('/')[0]\n",
    "            item_house_floors = item.find('h3') \\\n",
    "                .get_text() \\\n",
    "                .split(', ')[-1] \\\n",
    "                .replace('\\xa0', ' ') \\\n",
    "                .split()[0] \\\n",
    "                .split('/')[-1]\n",
    "            item_square = item.find('h3') \\\n",
    "                .get_text().split(', ')[1] \\\n",
    "                .replace('\\xa0', ' ') \\\n",
    "                .split()[0] \\\n",
    "                .replace(',', '.')\n",
    "            if (item_floor.isdigit()) and (('.' in item_square) or item_square.isdigit()):\n",
    "                item_square = float(item_square)\n",
    "                item_floor, item_house_floors = int(item_floor), int(item_house_floors)\n",
    "            else:\n",
    "                flat_url = 'https://www.avito.ru' + item.find('a', class_='link-link-MbQDP').get('href')\n",
    "                print(f'Неверный тип данных, нужно зайти на страницу квартиры: {flat_url}')\n",
    "                item_square, item_floor, item_house_floors = get_flat_info(flat_url)\n",
    "                if any(type(x) == 'str' for x in (item_square, item_floor, item_house_floors)):\n",
    "                    print(f'Строковое значение {x} в url: {flat_url}')\n",
    "        else:\n",
    "            flat_url = 'https://www.avito.ru' + item.find('a', class_='link-link-MbQDP').get('href')\n",
    "            print(f'Недостаточно информации, нужно зайти на страницу квартиры: {flat_url}')\n",
    "            item_square, item_floor, item_house_floors = get_flat_info(flat_url)"
   ]
  },
  {
   "cell_type": "code",
   "execution_count": 104,
   "id": "2217a199",
   "metadata": {},
   "outputs": [],
   "source": [
    "def convert_month(month_name):\n",
    "    dict_of_months = {'января': '01', 'февраля': '02', 'марта': '03', 'апреля': '04', 'мая': '05', 'июня': '06',\n",
    "                      'июля': '07', 'августа': '08', 'сентября': '09', 'октября': '10', 'ноября': '11', 'декабря': '12'}\n",
    "    for el in dict_of_months.keys():\n",
    "        if month_name in el:\n",
    "            return dict_of_months[el]"
   ]
  },
  {
   "cell_type": "code",
   "execution_count": 112,
   "id": "173c9143",
   "metadata": {},
   "outputs": [
    {
     "name": "stdout",
     "output_type": "stream",
     "text": [
      "15.03.2023\n"
     ]
    }
   ],
   "source": [
    "item_date_day = '15 марта 14:33'\n",
    "date_pattern = r'(\\d{1,2})\\s(\\w+)\\s\\d{1,2}:\\d{1,2}'\n",
    "re_result = re.findall(date_pattern, item_date_day)\n",
    "if re_result is not None:\n",
    "    item_day = re_result[0][0]\n",
    "    item_month = convert_month(re_result[0][1])\n",
    "    year = datetime.date.today().year\n",
    "print(f'{item_day}.{item_month}.{year}')"
   ]
  },
  {
   "cell_type": "code",
   "execution_count": 100,
   "id": "63723093",
   "metadata": {},
   "outputs": [
    {
     "name": "stdout",
     "output_type": "stream",
     "text": [
      "Object `datetime.date.year()` not found.\n"
     ]
    }
   ],
   "source": [
    "?datetime.date.year"
   ]
  },
  {
   "cell_type": "code",
   "execution_count": 67,
   "id": "a362e8b7",
   "metadata": {},
   "outputs": [],
   "source": [
    "for i in range(len(item_divs)):\n",
    "    if item_divs[i].find('div', class_='geo-address-fhHd0 text-text-LurtD text-size-s-BxGpL') is None:\n",
    "        print(item_divs[i])\n",
    "#     item_address = item_divs[i].find('div', class_='geo-address-fhHd0 text-text-LurtD text-size-s-BxGpL')\\\n",
    "#                            .find('span').get_text()\n",
    "#     print(item_address)"
   ]
  },
  {
   "cell_type": "code",
   "execution_count": 42,
   "id": "0ed6a19a",
   "metadata": {},
   "outputs": [
    {
     "name": "stderr",
     "output_type": "stream",
     "text": [
      "/var/folders/_w/82802rvj0rv88rym_s2j3p6m0000gn/T/ipykernel_65702/1897308353.py:6: DeprecationWarning: executable_path has been deprecated, please pass in a Service object\n",
      "  driver = webdriver.Chrome(ChromeDriverManager().install(), options=options)\n"
     ]
    },
    {
     "name": "stdout",
     "output_type": "stream",
     "text": [
      "243 34.3\n"
     ]
    }
   ],
   "source": [
    "n = 1\n",
    "for i in range(len(item_divs)):\n",
    "    if len(item_divs[i].find('h3').get_text().split(', ')) >= 2:\n",
    "        item_square = float(item_divs[i].find('h3').get_text().split(', ')[1].split('\\xa0')[0].replace(',', '.'))\n",
    "    else:\n",
    "        flat_url = 'https://www.avito.ru' + item_divs[i].find('a', class_='link-link-MbQDP').get('href')\n",
    "        flat_square = get_flat_info(flat_url)\n",
    "        print(i, flat_square)\n",
    "        break\n",
    "#     n += 1\n",
    "#     if n > 1000:\n",
    "#         break"
   ]
  },
  {
   "cell_type": "code",
   "execution_count": null,
   "id": "9e5fdfbf",
   "metadata": {},
   "outputs": [],
   "source": []
  },
  {
   "cell_type": "code",
   "execution_count": null,
   "id": "e0fd27a2",
   "metadata": {},
   "outputs": [],
   "source": []
  },
  {
   "cell_type": "code",
   "execution_count": null,
   "id": "134de7fd",
   "metadata": {},
   "outputs": [],
   "source": []
  },
  {
   "cell_type": "code",
   "execution_count": null,
   "id": "d1d26909",
   "metadata": {},
   "outputs": [],
   "source": []
  }
 ],
 "metadata": {
  "kernelspec": {
   "display_name": "Python 3 (ipykernel)",
   "language": "python",
   "name": "python3"
  },
  "language_info": {
   "codemirror_mode": {
    "name": "ipython",
    "version": 3
   },
   "file_extension": ".py",
   "mimetype": "text/x-python",
   "name": "python",
   "nbconvert_exporter": "python",
   "pygments_lexer": "ipython3",
   "version": "3.9.12"
  }
 },
 "nbformat": 4,
 "nbformat_minor": 5
}
