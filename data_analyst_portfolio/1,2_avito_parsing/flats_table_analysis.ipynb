{
 "cells": [
  {
   "cell_type": "code",
   "execution_count": 293,
   "id": "48f020cd",
   "metadata": {},
   "outputs": [],
   "source": [
    "import pandas as pd\n",
    "import datetime\n",
    "import numpy as np\n",
    "import glob\n",
    "import plotly.express as px\n",
    "import re\n",
    "\n",
    "%matplotlib inline"
   ]
  },
  {
   "cell_type": "markdown",
   "id": "3909db2e",
   "metadata": {},
   "source": [
    "**1. Загрузка данных в df из .csv**"
   ]
  },
  {
   "cell_type": "code",
   "execution_count": 283,
   "id": "499380bf",
   "metadata": {},
   "outputs": [],
   "source": [
    "month = datetime.datetime.today().strftime('%Y.%m')\n",
    "day = '2023.04.19'  # datetime.datetime.today().strftime('%Y.%m.%d')\n",
    "\n",
    "# заменить при необходимости\n",
    "files_folder = f'/Users/dmitrijdolgopolov/Documents/1_study_python/projects/\\\n",
    "1_avito_parsing/flats_from_avito/tables_by_districts_{month}/{day}/All_flats'\n",
    "\n",
    "files = glob.glob(f'{files_folder}/*.csv')\n",
    "file_name = files[0]"
   ]
  },
  {
   "cell_type": "code",
   "execution_count": 284,
   "id": "3df3a9e1",
   "metadata": {},
   "outputs": [],
   "source": [
    "df = pd.read_csv(file_name).drop(columns='Unnamed: 0')"
   ]
  },
  {
   "cell_type": "markdown",
   "id": "fd5e5442",
   "metadata": {},
   "source": [
    "**2. Проверка данных в df**"
   ]
  },
  {
   "cell_type": "code",
   "execution_count": 323,
   "id": "6c55a3f5",
   "metadata": {},
   "outputs": [
    {
     "data": {
      "text/html": [
       "<div>\n",
       "<style scoped>\n",
       "    .dataframe tbody tr th:only-of-type {\n",
       "        vertical-align: middle;\n",
       "    }\n",
       "\n",
       "    .dataframe tbody tr th {\n",
       "        vertical-align: top;\n",
       "    }\n",
       "\n",
       "    .dataframe thead th {\n",
       "        text-align: right;\n",
       "    }\n",
       "</style>\n",
       "<table border=\"1\" class=\"dataframe\">\n",
       "  <thead>\n",
       "    <tr style=\"text-align: right;\">\n",
       "      <th></th>\n",
       "      <th>url</th>\n",
       "      <th>Cost</th>\n",
       "      <th>Rooms</th>\n",
       "      <th>Square</th>\n",
       "      <th>Cost_per_m2</th>\n",
       "      <th>Floor</th>\n",
       "      <th>Floors_in_house</th>\n",
       "      <th>District</th>\n",
       "      <th>Address</th>\n",
       "      <th>Metro</th>\n",
       "      <th>Metro_distance</th>\n",
       "      <th>Date</th>\n",
       "      <th>Date_note</th>\n",
       "    </tr>\n",
       "  </thead>\n",
       "  <tbody>\n",
       "    <tr>\n",
       "      <th>0</th>\n",
       "      <td>https://www.avito.ru/sankt-peterburg/kvartiry/...</td>\n",
       "      <td>9700000</td>\n",
       "      <td>3</td>\n",
       "      <td>71.8</td>\n",
       "      <td>135097</td>\n",
       "      <td>3</td>\n",
       "      <td>9</td>\n",
       "      <td>Невский</td>\n",
       "      <td>Искровский пр-т, 20</td>\n",
       "      <td>Улица Дыбенко</td>\n",
       "      <td>11–15 мин.</td>\n",
       "      <td>19.04.2023</td>\n",
       "      <td>2 часа назад</td>\n",
       "    </tr>\n",
       "    <tr>\n",
       "      <th>1</th>\n",
       "      <td>https://www.avito.ru/sankt-peterburg/kvartiry/...</td>\n",
       "      <td>3885000</td>\n",
       "      <td>Студия</td>\n",
       "      <td>24.2</td>\n",
       "      <td>160537</td>\n",
       "      <td>3</td>\n",
       "      <td>3</td>\n",
       "      <td>Невский</td>\n",
       "      <td>пр-т Обуховской Обороны, 123А</td>\n",
       "      <td>Елизаровская</td>\n",
       "      <td>16–20 мин.</td>\n",
       "      <td>19.04.2023</td>\n",
       "      <td>6 часов назад</td>\n",
       "    </tr>\n",
       "    <tr>\n",
       "      <th>2</th>\n",
       "      <td>https://www.avito.ru/sankt-peterburg/kvartiry/...</td>\n",
       "      <td>4600000</td>\n",
       "      <td>Студия</td>\n",
       "      <td>27.7</td>\n",
       "      <td>166064</td>\n",
       "      <td>15</td>\n",
       "      <td>15</td>\n",
       "      <td>Невский</td>\n",
       "      <td>ул. Крыленко, 14с2</td>\n",
       "      <td>Улица Дыбенко</td>\n",
       "      <td>21–30 мин.</td>\n",
       "      <td>19.04.2023</td>\n",
       "      <td>1 час назад</td>\n",
       "    </tr>\n",
       "    <tr>\n",
       "      <th>3</th>\n",
       "      <td>https://www.avito.ru/sankt-peterburg/kvartiry/...</td>\n",
       "      <td>7500000</td>\n",
       "      <td>1</td>\n",
       "      <td>34.5</td>\n",
       "      <td>217391</td>\n",
       "      <td>11</td>\n",
       "      <td>25</td>\n",
       "      <td>Невский</td>\n",
       "      <td>ул. Коллонтай, 5/1</td>\n",
       "      <td>Проспект Большевиков</td>\n",
       "      <td>16–20 мин.</td>\n",
       "      <td>18.04.2023</td>\n",
       "      <td>1 день назад</td>\n",
       "    </tr>\n",
       "    <tr>\n",
       "      <th>4</th>\n",
       "      <td>https://www.avito.ru/sankt-peterburg/kvartiry/...</td>\n",
       "      <td>10100000</td>\n",
       "      <td>1</td>\n",
       "      <td>47.5</td>\n",
       "      <td>212631</td>\n",
       "      <td>16</td>\n",
       "      <td>28</td>\n",
       "      <td>Невский</td>\n",
       "      <td>Рыбацкий пр-т, 18к2</td>\n",
       "      <td>Рыбацкое</td>\n",
       "      <td>16–20 мин.</td>\n",
       "      <td>19.04.2023</td>\n",
       "      <td>18 часов назад</td>\n",
       "    </tr>\n",
       "  </tbody>\n",
       "</table>\n",
       "</div>"
      ],
      "text/plain": [
       "                                                 url      Cost   Rooms  \\\n",
       "0  https://www.avito.ru/sankt-peterburg/kvartiry/...   9700000       3   \n",
       "1  https://www.avito.ru/sankt-peterburg/kvartiry/...   3885000  Студия   \n",
       "2  https://www.avito.ru/sankt-peterburg/kvartiry/...   4600000  Студия   \n",
       "3  https://www.avito.ru/sankt-peterburg/kvartiry/...   7500000       1   \n",
       "4  https://www.avito.ru/sankt-peterburg/kvartiry/...  10100000       1   \n",
       "\n",
       "   Square  Cost_per_m2  Floor  Floors_in_house District  \\\n",
       "0    71.8       135097      3                9  Невский   \n",
       "1    24.2       160537      3                3  Невский   \n",
       "2    27.7       166064     15               15  Невский   \n",
       "3    34.5       217391     11               25  Невский   \n",
       "4    47.5       212631     16               28  Невский   \n",
       "\n",
       "                         Address                 Metro Metro_distance  \\\n",
       "0            Искровский пр-т, 20         Улица Дыбенко     11–15 мин.   \n",
       "1  пр-т Обуховской Обороны, 123А          Елизаровская     16–20 мин.   \n",
       "2             ул. Крыленко, 14с2         Улица Дыбенко     21–30 мин.   \n",
       "3             ул. Коллонтай, 5/1  Проспект Большевиков     16–20 мин.   \n",
       "4            Рыбацкий пр-т, 18к2              Рыбацкое     16–20 мин.   \n",
       "\n",
       "         Date       Date_note  \n",
       "0  19.04.2023    2 часа назад  \n",
       "1  19.04.2023   6 часов назад  \n",
       "2  19.04.2023     1 час назад  \n",
       "3  18.04.2023    1 день назад  \n",
       "4  19.04.2023  18 часов назад  "
      ]
     },
     "execution_count": 323,
     "metadata": {},
     "output_type": "execute_result"
    }
   ],
   "source": [
    "df.head()"
   ]
  },
  {
   "cell_type": "code",
   "execution_count": 287,
   "id": "d18cb9d9",
   "metadata": {},
   "outputs": [
    {
     "data": {
      "text/plain": [
       "0"
      ]
     },
     "execution_count": 287,
     "metadata": {},
     "output_type": "execute_result"
    }
   ],
   "source": [
    "df.duplicated().sum()"
   ]
  },
  {
   "cell_type": "code",
   "execution_count": 289,
   "id": "cab770f7",
   "metadata": {},
   "outputs": [
    {
     "data": {
      "text/plain": [
       "url                0\n",
       "Cost               0\n",
       "Rooms              0\n",
       "Square             0\n",
       "Cost_per_m2        0\n",
       "Floor              0\n",
       "Floors_in_house    0\n",
       "District           0\n",
       "Address            0\n",
       "Metro              0\n",
       "Metro_distance     0\n",
       "Date               0\n",
       "Date_note          0\n",
       "dtype: int64"
      ]
     },
     "execution_count": 289,
     "metadata": {},
     "output_type": "execute_result"
    }
   ],
   "source": [
    "df.isna().sum()"
   ]
  },
  {
   "cell_type": "code",
   "execution_count": 290,
   "id": "b1a27b98",
   "metadata": {},
   "outputs": [
    {
     "data": {
      "text/plain": [
       "url                 object\n",
       "Cost                 int64\n",
       "Rooms               object\n",
       "Square             float64\n",
       "Cost_per_m2          int64\n",
       "Floor                int64\n",
       "Floors_in_house      int64\n",
       "District            object\n",
       "Address             object\n",
       "Metro               object\n",
       "Metro_distance      object\n",
       "Date                object\n",
       "Date_note           object\n",
       "dtype: object"
      ]
     },
     "execution_count": 290,
     "metadata": {},
     "output_type": "execute_result"
    }
   ],
   "source": [
    "df.dtypes"
   ]
  },
  {
   "cell_type": "code",
   "execution_count": 353,
   "id": "0c6bb39d",
   "metadata": {},
   "outputs": [
    {
     "data": {
      "text/plain": [
       "array(['3', 'Студия', '1', '2', '4', '5', 'Доля в кв.',\n",
       "       'Своб. планировка', '7', '10 и более', '6', '8', '> 9', '9', 3,\n",
       "       'Комната в кв.', 1], dtype=object)"
      ]
     },
     "execution_count": 353,
     "metadata": {},
     "output_type": "execute_result"
    }
   ],
   "source": [
    "df.Rooms.unique()"
   ]
  },
  {
   "cell_type": "code",
   "execution_count": 352,
   "id": "386927f4",
   "metadata": {},
   "outputs": [
    {
     "data": {
      "text/plain": [
       "array([ 3, 15, 11, 16, 14,  6,  4,  5,  9, 10,  2,  1,  7,  8, 12, 19, 13,\n",
       "       22, 17, 23, 24, 21, 18, 20, 31, 26, 28, 32, 25, 29, 34, 27, 30])"
      ]
     },
     "execution_count": 352,
     "metadata": {},
     "output_type": "execute_result"
    }
   ],
   "source": [
    "df.Floor.unique()"
   ]
  },
  {
   "cell_type": "code",
   "execution_count": 329,
   "id": "968ca696",
   "metadata": {},
   "outputs": [
    {
     "data": {
      "text/plain": [
       "array([ 9,  3, 15, 25, 28, 16, 20,  5, 23, 24, 17, 10, 19, 12, 18, 14, 26,\n",
       "        6, 13, 22,  4,  8,  2, 32, 27, 36, 29, 11,  7, 21, 35, 34, 37, 33,\n",
       "        1, 30])"
      ]
     },
     "execution_count": 329,
     "metadata": {},
     "output_type": "execute_result"
    }
   ],
   "source": [
    "df.Floors_in_house.unique()"
   ]
  },
  {
   "cell_type": "code",
   "execution_count": 306,
   "id": "e72fc2a1",
   "metadata": {},
   "outputs": [],
   "source": [
    "# df.loc[(df['Rooms'].str.contains(r'Аукцион: \\d')) | (df['Rooms'] == 'Квартира')].to_csv('fix.csv')"
   ]
  },
  {
   "cell_type": "code",
   "execution_count": 350,
   "id": "daf5c1d5",
   "metadata": {},
   "outputs": [
    {
     "data": {
      "text/html": [
       "<div>\n",
       "<style scoped>\n",
       "    .dataframe tbody tr th:only-of-type {\n",
       "        vertical-align: middle;\n",
       "    }\n",
       "\n",
       "    .dataframe tbody tr th {\n",
       "        vertical-align: top;\n",
       "    }\n",
       "\n",
       "    .dataframe thead th {\n",
       "        text-align: right;\n",
       "    }\n",
       "</style>\n",
       "<table border=\"1\" class=\"dataframe\">\n",
       "  <thead>\n",
       "    <tr style=\"text-align: right;\">\n",
       "      <th></th>\n",
       "      <th>url</th>\n",
       "      <th>Cost</th>\n",
       "      <th>Rooms</th>\n",
       "      <th>Square</th>\n",
       "      <th>Cost_per_m2</th>\n",
       "      <th>Floor</th>\n",
       "      <th>Floors_in_house</th>\n",
       "      <th>District</th>\n",
       "      <th>Address</th>\n",
       "      <th>Metro</th>\n",
       "      <th>Metro_distance</th>\n",
       "      <th>Date</th>\n",
       "      <th>Date_note</th>\n",
       "    </tr>\n",
       "  </thead>\n",
       "  <tbody>\n",
       "  </tbody>\n",
       "</table>\n",
       "</div>"
      ],
      "text/plain": [
       "Empty DataFrame\n",
       "Columns: [url, Cost, Rooms, Square, Cost_per_m2, Floor, Floors_in_house, District, Address, Metro, Metro_distance, Date, Date_note]\n",
       "Index: []"
      ]
     },
     "execution_count": 350,
     "metadata": {},
     "output_type": "execute_result"
    }
   ],
   "source": [
    "# df.loc[df.Rooms == 'Квартира']#.to_csv('fix.csv')"
   ]
  },
  {
   "cell_type": "code",
   "execution_count": 354,
   "id": "8ae2968a",
   "metadata": {},
   "outputs": [],
   "source": [
    "# исправил неправильную выгрузку при парсинге\n",
    "# df.loc[14972, 'Rooms'] = 1"
   ]
  },
  {
   "cell_type": "code",
   "execution_count": 319,
   "id": "e01a8d47",
   "metadata": {},
   "outputs": [],
   "source": [
    "def rooms_bug_find(x):\n",
    "    'Исправляет количество комнат, удаляя префикс \"Аукцион: \"'\n",
    "    pattern = re.compile(r'Аукцион: \\d')\n",
    "    result = pattern.search(x)\n",
    "    if result is not None:\n",
    "        new_x = result[0].split()[-1]\n",
    "        return new_x\n",
    "    else:\n",
    "        return x"
   ]
  },
  {
   "cell_type": "code",
   "execution_count": 324,
   "id": "52adf6ef",
   "metadata": {},
   "outputs": [],
   "source": [
    "df.Rooms = df.Rooms.apply(rooms_bug_find)"
   ]
  },
  {
   "cell_type": "code",
   "execution_count": 325,
   "id": "e399742c",
   "metadata": {},
   "outputs": [],
   "source": [
    "def fix_floor(x):\n",
    "    'Исправляет опечатку в этажности'\n",
    "    if x == 99 or x == '99':\n",
    "        x = 9\n",
    "        return x\n",
    "    else:\n",
    "        return x"
   ]
  },
  {
   "cell_type": "code",
   "execution_count": 326,
   "id": "1e7a7cc1",
   "metadata": {},
   "outputs": [],
   "source": [
    "# исправляет опечатку в этажности\n",
    "df.Floors_in_house = df.Floors_in_house.apply(fix_floor)"
   ]
  },
  {
   "cell_type": "code",
   "execution_count": 327,
   "id": "b292b3b4",
   "metadata": {},
   "outputs": [],
   "source": [
    "# сбор индексов\n",
    "df = df.reset_index(drop=True)"
   ]
  },
  {
   "cell_type": "code",
   "execution_count": 355,
   "id": "1488817a",
   "metadata": {},
   "outputs": [],
   "source": [
    "# floor, floors_in_house в int\n",
    "df[['Floor', 'Floors_in_house']] = df[['Floor', 'Floors_in_house']].astype('int')"
   ]
  },
  {
   "cell_type": "code",
   "execution_count": 356,
   "id": "05bc45ad",
   "metadata": {},
   "outputs": [
    {
     "data": {
      "text/html": [
       "<div>\n",
       "<style scoped>\n",
       "    .dataframe tbody tr th:only-of-type {\n",
       "        vertical-align: middle;\n",
       "    }\n",
       "\n",
       "    .dataframe tbody tr th {\n",
       "        vertical-align: top;\n",
       "    }\n",
       "\n",
       "    .dataframe thead th {\n",
       "        text-align: right;\n",
       "    }\n",
       "</style>\n",
       "<table border=\"1\" class=\"dataframe\">\n",
       "  <thead>\n",
       "    <tr style=\"text-align: right;\">\n",
       "      <th></th>\n",
       "      <th>url</th>\n",
       "      <th>Cost</th>\n",
       "      <th>Rooms</th>\n",
       "      <th>Square</th>\n",
       "      <th>Cost_per_m2</th>\n",
       "      <th>Floor</th>\n",
       "      <th>Floors_in_house</th>\n",
       "      <th>District</th>\n",
       "      <th>Address</th>\n",
       "      <th>Metro</th>\n",
       "      <th>Metro_distance</th>\n",
       "      <th>Date</th>\n",
       "      <th>Date_note</th>\n",
       "    </tr>\n",
       "  </thead>\n",
       "  <tbody>\n",
       "    <tr>\n",
       "      <th>0</th>\n",
       "      <td>https://www.avito.ru/sankt-peterburg/kvartiry/...</td>\n",
       "      <td>9700000</td>\n",
       "      <td>3</td>\n",
       "      <td>71.8</td>\n",
       "      <td>135097</td>\n",
       "      <td>3</td>\n",
       "      <td>9</td>\n",
       "      <td>Невский</td>\n",
       "      <td>Искровский пр-т, 20</td>\n",
       "      <td>Улица Дыбенко</td>\n",
       "      <td>11–15 мин.</td>\n",
       "      <td>19.04.2023</td>\n",
       "      <td>2 часа назад</td>\n",
       "    </tr>\n",
       "    <tr>\n",
       "      <th>1</th>\n",
       "      <td>https://www.avito.ru/sankt-peterburg/kvartiry/...</td>\n",
       "      <td>3885000</td>\n",
       "      <td>Студия</td>\n",
       "      <td>24.2</td>\n",
       "      <td>160537</td>\n",
       "      <td>3</td>\n",
       "      <td>3</td>\n",
       "      <td>Невский</td>\n",
       "      <td>пр-т Обуховской Обороны, 123А</td>\n",
       "      <td>Елизаровская</td>\n",
       "      <td>16–20 мин.</td>\n",
       "      <td>19.04.2023</td>\n",
       "      <td>6 часов назад</td>\n",
       "    </tr>\n",
       "    <tr>\n",
       "      <th>2</th>\n",
       "      <td>https://www.avito.ru/sankt-peterburg/kvartiry/...</td>\n",
       "      <td>4600000</td>\n",
       "      <td>Студия</td>\n",
       "      <td>27.7</td>\n",
       "      <td>166064</td>\n",
       "      <td>15</td>\n",
       "      <td>15</td>\n",
       "      <td>Невский</td>\n",
       "      <td>ул. Крыленко, 14с2</td>\n",
       "      <td>Улица Дыбенко</td>\n",
       "      <td>21–30 мин.</td>\n",
       "      <td>19.04.2023</td>\n",
       "      <td>1 час назад</td>\n",
       "    </tr>\n",
       "    <tr>\n",
       "      <th>3</th>\n",
       "      <td>https://www.avito.ru/sankt-peterburg/kvartiry/...</td>\n",
       "      <td>7500000</td>\n",
       "      <td>1</td>\n",
       "      <td>34.5</td>\n",
       "      <td>217391</td>\n",
       "      <td>11</td>\n",
       "      <td>25</td>\n",
       "      <td>Невский</td>\n",
       "      <td>ул. Коллонтай, 5/1</td>\n",
       "      <td>Проспект Большевиков</td>\n",
       "      <td>16–20 мин.</td>\n",
       "      <td>18.04.2023</td>\n",
       "      <td>1 день назад</td>\n",
       "    </tr>\n",
       "    <tr>\n",
       "      <th>4</th>\n",
       "      <td>https://www.avito.ru/sankt-peterburg/kvartiry/...</td>\n",
       "      <td>10100000</td>\n",
       "      <td>1</td>\n",
       "      <td>47.5</td>\n",
       "      <td>212631</td>\n",
       "      <td>16</td>\n",
       "      <td>28</td>\n",
       "      <td>Невский</td>\n",
       "      <td>Рыбацкий пр-т, 18к2</td>\n",
       "      <td>Рыбацкое</td>\n",
       "      <td>16–20 мин.</td>\n",
       "      <td>19.04.2023</td>\n",
       "      <td>18 часов назад</td>\n",
       "    </tr>\n",
       "  </tbody>\n",
       "</table>\n",
       "</div>"
      ],
      "text/plain": [
       "                                                 url      Cost   Rooms  \\\n",
       "0  https://www.avito.ru/sankt-peterburg/kvartiry/...   9700000       3   \n",
       "1  https://www.avito.ru/sankt-peterburg/kvartiry/...   3885000  Студия   \n",
       "2  https://www.avito.ru/sankt-peterburg/kvartiry/...   4600000  Студия   \n",
       "3  https://www.avito.ru/sankt-peterburg/kvartiry/...   7500000       1   \n",
       "4  https://www.avito.ru/sankt-peterburg/kvartiry/...  10100000       1   \n",
       "\n",
       "   Square  Cost_per_m2  Floor  Floors_in_house District  \\\n",
       "0    71.8       135097      3                9  Невский   \n",
       "1    24.2       160537      3                3  Невский   \n",
       "2    27.7       166064     15               15  Невский   \n",
       "3    34.5       217391     11               25  Невский   \n",
       "4    47.5       212631     16               28  Невский   \n",
       "\n",
       "                         Address                 Metro Metro_distance  \\\n",
       "0            Искровский пр-т, 20         Улица Дыбенко     11–15 мин.   \n",
       "1  пр-т Обуховской Обороны, 123А          Елизаровская     16–20 мин.   \n",
       "2             ул. Крыленко, 14с2         Улица Дыбенко     21–30 мин.   \n",
       "3             ул. Коллонтай, 5/1  Проспект Большевиков     16–20 мин.   \n",
       "4            Рыбацкий пр-т, 18к2              Рыбацкое     16–20 мин.   \n",
       "\n",
       "         Date       Date_note  \n",
       "0  19.04.2023    2 часа назад  \n",
       "1  19.04.2023   6 часов назад  \n",
       "2  19.04.2023     1 час назад  \n",
       "3  18.04.2023    1 день назад  \n",
       "4  19.04.2023  18 часов назад  "
      ]
     },
     "execution_count": 356,
     "metadata": {},
     "output_type": "execute_result"
    }
   ],
   "source": [
    "df.head()"
   ]
  },
  {
   "cell_type": "code",
   "execution_count": 367,
   "id": "316a3d99",
   "metadata": {},
   "outputs": [
    {
     "data": {
      "text/plain": [
       "array(['19.04.2023', '18.04.2023', '17.04.2023', ..., '21 марта 00:07',\n",
       "       '21 марта 02:08', '21 марта 09:22'], dtype=object)"
      ]
     },
     "execution_count": 367,
     "metadata": {},
     "output_type": "execute_result"
    }
   ],
   "source": [
    "df.Date.unique()"
   ]
  },
  {
   "cell_type": "code",
   "execution_count": 365,
   "id": "d43de5ea",
   "metadata": {},
   "outputs": [],
   "source": [
    "def convert_month(date):\n",
    "    date_pattern = r'(\\d{1,2})\\s(\\w+)\\s\\d{1,2}:\\d{1,2}'\n",
    "    re_result = re.findall(date_pattern, date)\n",
    "    if re_result is not None:\n",
    "        print(re_result)\n",
    "        item_day = re_result[0][0]\n",
    "        item_month = convert_month(re_result[0][1])\n",
    "        year = datetime.date.today().year\n",
    "\n",
    "        dict_of_months = {'января': '01', 'февраля': '02', 'марта': '03', 'апреля': '04', 'мая': '05', 'июня': '06',\n",
    "                          'июля': '07', 'августа': '08', 'сентября': '09', 'октября': '10', 'ноября': '11', 'декабря': '12'}\n",
    "        for el in dict_of_months.keys():\n",
    "            if month_name in el:\n",
    "                return dict_of_months[el]\n",
    "    else:\n",
    "        return date"
   ]
  },
  {
   "cell_type": "code",
   "execution_count": 366,
   "id": "ee9adb6b",
   "metadata": {},
   "outputs": [
    {
     "name": "stdout",
     "output_type": "stream",
     "text": [
      "[]\n"
     ]
    },
    {
     "ename": "IndexError",
     "evalue": "list index out of range",
     "output_type": "error",
     "traceback": [
      "\u001b[0;31m---------------------------------------------------------------------------\u001b[0m",
      "\u001b[0;31mIndexError\u001b[0m                                Traceback (most recent call last)",
      "Input \u001b[0;32mIn [366]\u001b[0m, in \u001b[0;36m<cell line: 1>\u001b[0;34m()\u001b[0m\n\u001b[0;32m----> 1\u001b[0m \u001b[43mdf\u001b[49m\u001b[38;5;241;43m.\u001b[39;49m\u001b[43mDate\u001b[49m\u001b[38;5;241;43m.\u001b[39;49m\u001b[43mapply\u001b[49m\u001b[43m(\u001b[49m\u001b[43mconvert_month\u001b[49m\u001b[43m)\u001b[49m\n",
      "File \u001b[0;32m~/opt/anaconda3/lib/python3.9/site-packages/pandas/core/series.py:4433\u001b[0m, in \u001b[0;36mSeries.apply\u001b[0;34m(self, func, convert_dtype, args, **kwargs)\u001b[0m\n\u001b[1;32m   4323\u001b[0m \u001b[38;5;28;01mdef\u001b[39;00m \u001b[38;5;21mapply\u001b[39m(\n\u001b[1;32m   4324\u001b[0m     \u001b[38;5;28mself\u001b[39m,\n\u001b[1;32m   4325\u001b[0m     func: AggFuncType,\n\u001b[0;32m   (...)\u001b[0m\n\u001b[1;32m   4328\u001b[0m     \u001b[38;5;241m*\u001b[39m\u001b[38;5;241m*\u001b[39mkwargs,\n\u001b[1;32m   4329\u001b[0m ) \u001b[38;5;241m-\u001b[39m\u001b[38;5;241m>\u001b[39m DataFrame \u001b[38;5;241m|\u001b[39m Series:\n\u001b[1;32m   4330\u001b[0m \u001b[38;5;250m    \u001b[39m\u001b[38;5;124;03m\"\"\"\u001b[39;00m\n\u001b[1;32m   4331\u001b[0m \u001b[38;5;124;03m    Invoke function on values of Series.\u001b[39;00m\n\u001b[1;32m   4332\u001b[0m \n\u001b[0;32m   (...)\u001b[0m\n\u001b[1;32m   4431\u001b[0m \u001b[38;5;124;03m    dtype: float64\u001b[39;00m\n\u001b[1;32m   4432\u001b[0m \u001b[38;5;124;03m    \"\"\"\u001b[39;00m\n\u001b[0;32m-> 4433\u001b[0m     \u001b[38;5;28;01mreturn\u001b[39;00m \u001b[43mSeriesApply\u001b[49m\u001b[43m(\u001b[49m\u001b[38;5;28;43mself\u001b[39;49m\u001b[43m,\u001b[49m\u001b[43m \u001b[49m\u001b[43mfunc\u001b[49m\u001b[43m,\u001b[49m\u001b[43m \u001b[49m\u001b[43mconvert_dtype\u001b[49m\u001b[43m,\u001b[49m\u001b[43m \u001b[49m\u001b[43margs\u001b[49m\u001b[43m,\u001b[49m\u001b[43m \u001b[49m\u001b[43mkwargs\u001b[49m\u001b[43m)\u001b[49m\u001b[38;5;241;43m.\u001b[39;49m\u001b[43mapply\u001b[49m\u001b[43m(\u001b[49m\u001b[43m)\u001b[49m\n",
      "File \u001b[0;32m~/opt/anaconda3/lib/python3.9/site-packages/pandas/core/apply.py:1082\u001b[0m, in \u001b[0;36mSeriesApply.apply\u001b[0;34m(self)\u001b[0m\n\u001b[1;32m   1078\u001b[0m \u001b[38;5;28;01mif\u001b[39;00m \u001b[38;5;28misinstance\u001b[39m(\u001b[38;5;28mself\u001b[39m\u001b[38;5;241m.\u001b[39mf, \u001b[38;5;28mstr\u001b[39m):\n\u001b[1;32m   1079\u001b[0m     \u001b[38;5;66;03m# if we are a string, try to dispatch\u001b[39;00m\n\u001b[1;32m   1080\u001b[0m     \u001b[38;5;28;01mreturn\u001b[39;00m \u001b[38;5;28mself\u001b[39m\u001b[38;5;241m.\u001b[39mapply_str()\n\u001b[0;32m-> 1082\u001b[0m \u001b[38;5;28;01mreturn\u001b[39;00m \u001b[38;5;28;43mself\u001b[39;49m\u001b[38;5;241;43m.\u001b[39;49m\u001b[43mapply_standard\u001b[49m\u001b[43m(\u001b[49m\u001b[43m)\u001b[49m\n",
      "File \u001b[0;32m~/opt/anaconda3/lib/python3.9/site-packages/pandas/core/apply.py:1137\u001b[0m, in \u001b[0;36mSeriesApply.apply_standard\u001b[0;34m(self)\u001b[0m\n\u001b[1;32m   1131\u001b[0m         values \u001b[38;5;241m=\u001b[39m obj\u001b[38;5;241m.\u001b[39mastype(\u001b[38;5;28mobject\u001b[39m)\u001b[38;5;241m.\u001b[39m_values\n\u001b[1;32m   1132\u001b[0m         \u001b[38;5;66;03m# error: Argument 2 to \"map_infer\" has incompatible type\u001b[39;00m\n\u001b[1;32m   1133\u001b[0m         \u001b[38;5;66;03m# \"Union[Callable[..., Any], str, List[Union[Callable[..., Any], str]],\u001b[39;00m\n\u001b[1;32m   1134\u001b[0m         \u001b[38;5;66;03m# Dict[Hashable, Union[Union[Callable[..., Any], str],\u001b[39;00m\n\u001b[1;32m   1135\u001b[0m         \u001b[38;5;66;03m# List[Union[Callable[..., Any], str]]]]]\"; expected\u001b[39;00m\n\u001b[1;32m   1136\u001b[0m         \u001b[38;5;66;03m# \"Callable[[Any], Any]\"\u001b[39;00m\n\u001b[0;32m-> 1137\u001b[0m         mapped \u001b[38;5;241m=\u001b[39m \u001b[43mlib\u001b[49m\u001b[38;5;241;43m.\u001b[39;49m\u001b[43mmap_infer\u001b[49m\u001b[43m(\u001b[49m\n\u001b[1;32m   1138\u001b[0m \u001b[43m            \u001b[49m\u001b[43mvalues\u001b[49m\u001b[43m,\u001b[49m\n\u001b[1;32m   1139\u001b[0m \u001b[43m            \u001b[49m\u001b[43mf\u001b[49m\u001b[43m,\u001b[49m\u001b[43m  \u001b[49m\u001b[38;5;66;43;03m# type: ignore[arg-type]\u001b[39;49;00m\n\u001b[1;32m   1140\u001b[0m \u001b[43m            \u001b[49m\u001b[43mconvert\u001b[49m\u001b[38;5;241;43m=\u001b[39;49m\u001b[38;5;28;43mself\u001b[39;49m\u001b[38;5;241;43m.\u001b[39;49m\u001b[43mconvert_dtype\u001b[49m\u001b[43m,\u001b[49m\n\u001b[1;32m   1141\u001b[0m \u001b[43m        \u001b[49m\u001b[43m)\u001b[49m\n\u001b[1;32m   1143\u001b[0m \u001b[38;5;28;01mif\u001b[39;00m \u001b[38;5;28mlen\u001b[39m(mapped) \u001b[38;5;129;01mand\u001b[39;00m \u001b[38;5;28misinstance\u001b[39m(mapped[\u001b[38;5;241m0\u001b[39m], ABCSeries):\n\u001b[1;32m   1144\u001b[0m     \u001b[38;5;66;03m# GH#43986 Need to do list(mapped) in order to get treated as nested\u001b[39;00m\n\u001b[1;32m   1145\u001b[0m     \u001b[38;5;66;03m#  See also GH#25959 regarding EA support\u001b[39;00m\n\u001b[1;32m   1146\u001b[0m     \u001b[38;5;28;01mreturn\u001b[39;00m obj\u001b[38;5;241m.\u001b[39m_constructor_expanddim(\u001b[38;5;28mlist\u001b[39m(mapped), index\u001b[38;5;241m=\u001b[39mobj\u001b[38;5;241m.\u001b[39mindex)\n",
      "File \u001b[0;32m~/opt/anaconda3/lib/python3.9/site-packages/pandas/_libs/lib.pyx:2870\u001b[0m, in \u001b[0;36mpandas._libs.lib.map_infer\u001b[0;34m()\u001b[0m\n",
      "Input \u001b[0;32mIn [365]\u001b[0m, in \u001b[0;36mconvert_month\u001b[0;34m(date)\u001b[0m\n\u001b[1;32m      4\u001b[0m \u001b[38;5;28;01mif\u001b[39;00m re_result \u001b[38;5;129;01mis\u001b[39;00m \u001b[38;5;129;01mnot\u001b[39;00m \u001b[38;5;28;01mNone\u001b[39;00m:\n\u001b[1;32m      5\u001b[0m     \u001b[38;5;28mprint\u001b[39m(re_result)\n\u001b[0;32m----> 6\u001b[0m     item_day \u001b[38;5;241m=\u001b[39m \u001b[43mre_result\u001b[49m\u001b[43m[\u001b[49m\u001b[38;5;241;43m0\u001b[39;49m\u001b[43m]\u001b[49m[\u001b[38;5;241m0\u001b[39m]\n\u001b[1;32m      7\u001b[0m     item_month \u001b[38;5;241m=\u001b[39m convert_month(re_result[\u001b[38;5;241m0\u001b[39m][\u001b[38;5;241m1\u001b[39m])\n\u001b[1;32m      8\u001b[0m     year \u001b[38;5;241m=\u001b[39m datetime\u001b[38;5;241m.\u001b[39mdate\u001b[38;5;241m.\u001b[39mtoday()\u001b[38;5;241m.\u001b[39myear\n",
      "\u001b[0;31mIndexError\u001b[0m: list index out of range"
     ]
    }
   ],
   "source": [
    "df.Date.apply(convert_month)"
   ]
  },
  {
   "cell_type": "code",
   "execution_count": 357,
   "id": "408770ca",
   "metadata": {},
   "outputs": [],
   "source": [
    "'Повторное сохранение исправленного датафрейма в csv файл'\n",
    "df.to_csv(file_name)"
   ]
  },
  {
   "cell_type": "markdown",
   "id": "df8de98e",
   "metadata": {},
   "source": [
    "**Девятиэтажные дома**\n",
    "как Подвойского, д. 17, к. 1"
   ]
  },
  {
   "cell_type": "code",
   "execution_count": 181,
   "id": "bde9429c",
   "metadata": {},
   "outputs": [],
   "source": [
    "# фильтрую по 9-этажным домам\n",
    "df_9_floors_houses = df.query('Floors_in_house == 9')"
   ]
  },
  {
   "cell_type": "code",
   "execution_count": 184,
   "id": "ad9d63cd",
   "metadata": {},
   "outputs": [
    {
     "data": {
      "text/plain": [
       "3965"
      ]
     },
     "execution_count": 184,
     "metadata": {},
     "output_type": "execute_result"
    }
   ],
   "source": [
    "# число объявлений\n",
    "df_9_floors_houses.url.nunique()"
   ]
  },
  {
   "cell_type": "code",
   "execution_count": 208,
   "id": "a9cb59ef",
   "metadata": {},
   "outputs": [],
   "source": [
    "# характеристики цен за 1 м2\n",
    "mean = df_9_floors_houses.query('District == \"Невский\"').Cost_per_m2.mean()\n",
    "median = df_9_floors_houses.query('District == \"Невский\"').Cost_per_m2.median()\n",
    "q_25 = df_9_floors_houses.query('District == \"Невский\"').Cost_per_m2.quantile(0.25)\n",
    "q_50 = df_9_floors_houses.query('District == \"Невский\"').Cost_per_m2.quantile(0.5)\n",
    "q_7 = int(df_9_floors_houses.query('District == \"Невский\"').Cost_per_m2.quantile(0.7))"
   ]
  },
  {
   "cell_type": "code",
   "execution_count": 236,
   "id": "d5529428",
   "metadata": {},
   "outputs": [],
   "source": [
    "my_df = df_9_floors_houses.loc[((df_9_floors_houses['Cost_per_m2'] > q_7) & \n",
    "                        (df_9_floors_houses['Cost_per_m2'] < 200000) &\n",
    "                       (df_9_floors_houses['Rooms'] == '2'))]\\\n",
    "                  .query('District == \"Невский\"')\\\n",
    "                  .sort_values('Cost_per_m2')"
   ]
  },
  {
   "cell_type": "code",
   "execution_count": 233,
   "id": "f410e16e",
   "metadata": {},
   "outputs": [],
   "source": [
    "my_df.to_csv('Конкуренты_Подвойского.csv')"
   ]
  },
  {
   "cell_type": "code",
   "execution_count": 237,
   "id": "831a70ca",
   "metadata": {},
   "outputs": [
    {
     "data": {
      "text/plain": [
       "7717500.0"
      ]
     },
     "execution_count": 237,
     "metadata": {},
     "output_type": "execute_result"
    }
   ],
   "source": [
    "175000 * 44.1"
   ]
  },
  {
   "cell_type": "code",
   "execution_count": 134,
   "id": "57cd936f",
   "metadata": {},
   "outputs": [
    {
     "data": {
      "text/html": [
       "<div>\n",
       "<style scoped>\n",
       "    .dataframe tbody tr th:only-of-type {\n",
       "        vertical-align: middle;\n",
       "    }\n",
       "\n",
       "    .dataframe tbody tr th {\n",
       "        vertical-align: top;\n",
       "    }\n",
       "\n",
       "    .dataframe thead tr th {\n",
       "        text-align: left;\n",
       "    }\n",
       "</style>\n",
       "<table border=\"1\" class=\"dataframe\">\n",
       "  <thead>\n",
       "    <tr>\n",
       "      <th></th>\n",
       "      <th>District</th>\n",
       "      <th colspan=\"3\" halign=\"left\">Cost_per_m2</th>\n",
       "    </tr>\n",
       "    <tr>\n",
       "      <th></th>\n",
       "      <th></th>\n",
       "      <th>q_0.25</th>\n",
       "      <th>q_0.5</th>\n",
       "      <th>q_0.75</th>\n",
       "    </tr>\n",
       "  </thead>\n",
       "  <tbody>\n",
       "    <tr>\n",
       "      <th>0</th>\n",
       "      <td>Адмиралтейский</td>\n",
       "      <td>300195.75</td>\n",
       "      <td>370302.0</td>\n",
       "      <td>414541.25</td>\n",
       "    </tr>\n",
       "    <tr>\n",
       "      <th>1</th>\n",
       "      <td>Василеостровский</td>\n",
       "      <td>192120.00</td>\n",
       "      <td>226544.0</td>\n",
       "      <td>272294.00</td>\n",
       "    </tr>\n",
       "    <tr>\n",
       "      <th>2</th>\n",
       "      <td>Выборгский</td>\n",
       "      <td>145387.75</td>\n",
       "      <td>164494.5</td>\n",
       "      <td>199006.50</td>\n",
       "    </tr>\n",
       "    <tr>\n",
       "      <th>3</th>\n",
       "      <td>Калининский</td>\n",
       "      <td>147632.75</td>\n",
       "      <td>161882.0</td>\n",
       "      <td>178571.00</td>\n",
       "    </tr>\n",
       "    <tr>\n",
       "      <th>4</th>\n",
       "      <td>Кировский</td>\n",
       "      <td>143405.00</td>\n",
       "      <td>158677.0</td>\n",
       "      <td>182611.75</td>\n",
       "    </tr>\n",
       "    <tr>\n",
       "      <th>5</th>\n",
       "      <td>Красногвардейский</td>\n",
       "      <td>143914.50</td>\n",
       "      <td>158129.5</td>\n",
       "      <td>177803.00</td>\n",
       "    </tr>\n",
       "    <tr>\n",
       "      <th>6</th>\n",
       "      <td>Красносельский</td>\n",
       "      <td>131121.00</td>\n",
       "      <td>144776.0</td>\n",
       "      <td>161914.00</td>\n",
       "    </tr>\n",
       "    <tr>\n",
       "      <th>7</th>\n",
       "      <td>Московский</td>\n",
       "      <td>173367.50</td>\n",
       "      <td>201508.5</td>\n",
       "      <td>237568.50</td>\n",
       "    </tr>\n",
       "    <tr>\n",
       "      <th>8</th>\n",
       "      <td>Невский</td>\n",
       "      <td>142963.00</td>\n",
       "      <td>155183.5</td>\n",
       "      <td>173569.25</td>\n",
       "    </tr>\n",
       "    <tr>\n",
       "      <th>9</th>\n",
       "      <td>Петроградский</td>\n",
       "      <td>340149.75</td>\n",
       "      <td>406898.0</td>\n",
       "      <td>577774.75</td>\n",
       "    </tr>\n",
       "    <tr>\n",
       "      <th>10</th>\n",
       "      <td>Приморский</td>\n",
       "      <td>158333.00</td>\n",
       "      <td>175356.5</td>\n",
       "      <td>195878.00</td>\n",
       "    </tr>\n",
       "    <tr>\n",
       "      <th>11</th>\n",
       "      <td>Фрунзенский</td>\n",
       "      <td>146687.75</td>\n",
       "      <td>161069.5</td>\n",
       "      <td>179922.75</td>\n",
       "    </tr>\n",
       "    <tr>\n",
       "      <th>12</th>\n",
       "      <td>Центральный</td>\n",
       "      <td>323827.75</td>\n",
       "      <td>380900.0</td>\n",
       "      <td>508410.25</td>\n",
       "    </tr>\n",
       "  </tbody>\n",
       "</table>\n",
       "</div>"
      ],
      "text/plain": [
       "             District Cost_per_m2                     \n",
       "                           q_0.25     q_0.5     q_0.75\n",
       "0      Адмиралтейский   300195.75  370302.0  414541.25\n",
       "1    Василеостровский   192120.00  226544.0  272294.00\n",
       "2          Выборгский   145387.75  164494.5  199006.50\n",
       "3         Калининский   147632.75  161882.0  178571.00\n",
       "4           Кировский   143405.00  158677.0  182611.75\n",
       "5   Красногвардейский   143914.50  158129.5  177803.00\n",
       "6      Красносельский   131121.00  144776.0  161914.00\n",
       "7          Московский   173367.50  201508.5  237568.50\n",
       "8             Невский   142963.00  155183.5  173569.25\n",
       "9       Петроградский   340149.75  406898.0  577774.75\n",
       "10         Приморский   158333.00  175356.5  195878.00\n",
       "11        Фрунзенский   146687.75  161069.5  179922.75\n",
       "12        Центральный   323827.75  380900.0  508410.25"
      ]
     },
     "execution_count": 134,
     "metadata": {},
     "output_type": "execute_result"
    }
   ],
   "source": [
    "df_9_floors_houses.groupby('District', as_index=False)\\\n",
    "                  .agg({'Cost_per_m2': [lambda x: x.quantile(0.25),\n",
    "                                       lambda x: x.quantile(0.5),\n",
    "                                       lambda x: x.quantile(0.75)]})\\\n",
    "                  .rename(columns={'<lambda_0>': 'q_0.25',\n",
    "                                  '<lambda_1>': 'q_0.5',\n",
    "                                  '<lambda_2>': 'q_0.75'})"
   ]
  },
  {
   "cell_type": "code",
   "execution_count": 74,
   "id": "74d315ce",
   "metadata": {},
   "outputs": [
    {
     "data": {
      "text/plain": [
       "172335.60090702947"
      ]
     },
     "execution_count": 74,
     "metadata": {},
     "output_type": "execute_result"
    }
   ],
   "source": [
    "7600000 / 44.1"
   ]
  },
  {
   "cell_type": "code",
   "execution_count": 91,
   "id": "e940e1d9",
   "metadata": {},
   "outputs": [
    {
     "data": {
      "text/plain": [
       "7629300.0"
      ]
     },
     "execution_count": 91,
     "metadata": {},
     "output_type": "execute_result"
    }
   ],
   "source": [
    "173000 * 44.1"
   ]
  },
  {
   "cell_type": "code",
   "execution_count": 114,
   "id": "8da56e15",
   "metadata": {},
   "outputs": [
    {
     "data": {
      "text/plain": [
       "0.250    145928.50\n",
       "0.500    155577.00\n",
       "0.750    166312.00\n",
       "0.815    172889.64\n",
       "Name: Cost_per_m2, dtype: float64"
      ]
     },
     "execution_count": 114,
     "metadata": {},
     "output_type": "execute_result"
    }
   ],
   "source": [
    "# нахожу квантили\n",
    "quantiles = df_9_floors_houses.Cost_per_m2.quantile([0.25, 0.5, 0.75, 0.815])\n",
    "quantiles"
   ]
  },
  {
   "cell_type": "code",
   "execution_count": 115,
   "id": "f08b1b37",
   "metadata": {},
   "outputs": [],
   "source": [
    "df_9_floors_houses[df_9_floors_houses.Cost_per_m2 > quantiles[0.750]] \\\n",
    "    .sort_values('Cost_per_m2', ascending=False) \\\n",
    "    .to_csv('''/Users/dmitrijdolgopolov/Documents/1_study_python/projects/1_avito_parsing/flats_from_avito/top/9_floors_houses_0.75_percentile.csv''')"
   ]
  },
  {
   "cell_type": "code",
   "execution_count": null,
   "id": "12610b48",
   "metadata": {},
   "outputs": [],
   "source": []
  },
  {
   "cell_type": "code",
   "execution_count": 68,
   "id": "dfe42f84",
   "metadata": {},
   "outputs": [
    {
     "data": {
      "text/html": [
       "<div>\n",
       "<style scoped>\n",
       "    .dataframe tbody tr th:only-of-type {\n",
       "        vertical-align: middle;\n",
       "    }\n",
       "\n",
       "    .dataframe tbody tr th {\n",
       "        vertical-align: top;\n",
       "    }\n",
       "\n",
       "    .dataframe thead th {\n",
       "        text-align: right;\n",
       "    }\n",
       "</style>\n",
       "<table border=\"1\" class=\"dataframe\">\n",
       "  <thead>\n",
       "    <tr style=\"text-align: right;\">\n",
       "      <th></th>\n",
       "      <th>url</th>\n",
       "      <th>Cost</th>\n",
       "      <th>Rooms</th>\n",
       "      <th>Square</th>\n",
       "      <th>Floor</th>\n",
       "      <th>Floors_in_house</th>\n",
       "      <th>Address</th>\n",
       "      <th>Metro</th>\n",
       "      <th>Date</th>\n",
       "      <th>Date_note</th>\n",
       "      <th>cost_per_m2</th>\n",
       "    </tr>\n",
       "  </thead>\n",
       "  <tbody>\n",
       "    <tr>\n",
       "      <th>1</th>\n",
       "      <td>https://www.avito.ru/sankt-peterburg/kvartiry/...</td>\n",
       "      <td>7279000</td>\n",
       "      <td>2</td>\n",
       "      <td>50.6</td>\n",
       "      <td>8</td>\n",
       "      <td>9</td>\n",
       "      <td>ул. Дыбенко, 12к3</td>\n",
       "      <td>Улица Дыбенко</td>\n",
       "      <td>13.04.2023</td>\n",
       "      <td>39 минут назад</td>\n",
       "      <td>143853</td>\n",
       "    </tr>\n",
       "    <tr>\n",
       "      <th>6</th>\n",
       "      <td>https://www.avito.ru/sankt-peterburg/kvartiry/...</td>\n",
       "      <td>4562790</td>\n",
       "      <td>2</td>\n",
       "      <td>50.2</td>\n",
       "      <td>6</td>\n",
       "      <td>9</td>\n",
       "      <td>Товарищеский пр-т, 2к2</td>\n",
       "      <td>Проспект Большевиков</td>\n",
       "      <td>13.04.2023</td>\n",
       "      <td>35 минут назад</td>\n",
       "      <td>90892</td>\n",
       "    </tr>\n",
       "    <tr>\n",
       "      <th>9</th>\n",
       "      <td>https://www.avito.ru/sankt-peterburg/kvartiry/...</td>\n",
       "      <td>6800000</td>\n",
       "      <td>2</td>\n",
       "      <td>50.9</td>\n",
       "      <td>5</td>\n",
       "      <td>9</td>\n",
       "      <td>ул. Дыбенко, 12к1</td>\n",
       "      <td>Улица Дыбенко</td>\n",
       "      <td>13.04.2023</td>\n",
       "      <td>12 часов назад</td>\n",
       "      <td>133595</td>\n",
       "    </tr>\n",
       "    <tr>\n",
       "      <th>15</th>\n",
       "      <td>https://www.avito.ru/sankt-peterburg/kvartiry/...</td>\n",
       "      <td>8000000</td>\n",
       "      <td>2</td>\n",
       "      <td>50.2</td>\n",
       "      <td>5</td>\n",
       "      <td>9</td>\n",
       "      <td>Санкт-Петербург, Товарищеский проспект, 2к2</td>\n",
       "      <td>Проспект Большевиков</td>\n",
       "      <td>12.04.2023</td>\n",
       "      <td>1 день назад</td>\n",
       "      <td>159362</td>\n",
       "    </tr>\n",
       "    <tr>\n",
       "      <th>31</th>\n",
       "      <td>https://www.avito.ru/sankt-peterburg/kvartiry/...</td>\n",
       "      <td>7350000</td>\n",
       "      <td>2</td>\n",
       "      <td>51.0</td>\n",
       "      <td>3</td>\n",
       "      <td>9</td>\n",
       "      <td>ул. Подвойского, 17к2</td>\n",
       "      <td>Улица Дыбенко</td>\n",
       "      <td>07.04.2023</td>\n",
       "      <td>6 дней назад</td>\n",
       "      <td>144117</td>\n",
       "    </tr>\n",
       "  </tbody>\n",
       "</table>\n",
       "</div>"
      ],
      "text/plain": [
       "                                                  url     Cost  Rooms  Square  \\\n",
       "1   https://www.avito.ru/sankt-peterburg/kvartiry/...  7279000      2    50.6   \n",
       "6   https://www.avito.ru/sankt-peterburg/kvartiry/...  4562790      2    50.2   \n",
       "9   https://www.avito.ru/sankt-peterburg/kvartiry/...  6800000      2    50.9   \n",
       "15  https://www.avito.ru/sankt-peterburg/kvartiry/...  8000000      2    50.2   \n",
       "31  https://www.avito.ru/sankt-peterburg/kvartiry/...  7350000      2    51.0   \n",
       "\n",
       "    Floor  Floors_in_house                                      Address  \\\n",
       "1       8                9                            ул. Дыбенко, 12к3   \n",
       "6       6                9                       Товарищеский пр-т, 2к2   \n",
       "9       5                9                            ул. Дыбенко, 12к1   \n",
       "15      5                9  Санкт-Петербург, Товарищеский проспект, 2к2   \n",
       "31      3                9                        ул. Подвойского, 17к2   \n",
       "\n",
       "                   Metro        Date       Date_note  cost_per_m2  \n",
       "1          Улица Дыбенко  13.04.2023  39 минут назад       143853  \n",
       "6   Проспект Большевиков  13.04.2023  35 минут назад        90892  \n",
       "9          Улица Дыбенко  13.04.2023  12 часов назад       133595  \n",
       "15  Проспект Большевиков  12.04.2023    1 день назад       159362  \n",
       "31         Улица Дыбенко  07.04.2023    6 дней назад       144117  "
      ]
     },
     "execution_count": 68,
     "metadata": {},
     "output_type": "execute_result"
    }
   ],
   "source": [
    "df_9_floors_houses.head()"
   ]
  },
  {
   "cell_type": "code",
   "execution_count": 27,
   "id": "ff88b924",
   "metadata": {},
   "outputs": [
    {
     "data": {
      "text/plain": [
       "7688279.376712329"
      ]
     },
     "execution_count": 27,
     "metadata": {},
     "output_type": "execute_result"
    }
   ],
   "source": []
  },
  {
   "cell_type": "code",
   "execution_count": null,
   "id": "dc0bb03b",
   "metadata": {},
   "outputs": [],
   "source": []
  },
  {
   "cell_type": "code",
   "execution_count": null,
   "id": "57bca4f8",
   "metadata": {},
   "outputs": [],
   "source": []
  },
  {
   "cell_type": "code",
   "execution_count": null,
   "id": "ed3eaa9a",
   "metadata": {},
   "outputs": [],
   "source": []
  }
 ],
 "metadata": {
  "kernelspec": {
   "display_name": "Python 3 (ipykernel)",
   "language": "python",
   "name": "python3"
  },
  "language_info": {
   "codemirror_mode": {
    "name": "ipython",
    "version": 3
   },
   "file_extension": ".py",
   "mimetype": "text/x-python",
   "name": "python",
   "nbconvert_exporter": "python",
   "pygments_lexer": "ipython3",
   "version": "3.9.12"
  }
 },
 "nbformat": 4,
 "nbformat_minor": 5
}
