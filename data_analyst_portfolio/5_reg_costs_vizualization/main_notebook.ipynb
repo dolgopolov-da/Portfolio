{
 "cells": [
  {
   "cell_type": "code",
   "execution_count": 253,
   "id": "14434b82",
   "metadata": {},
   "outputs": [],
   "source": [
    "import pandas as pd\n",
    "import gspread\n",
    "from df2gspread import df2gspread as d2g\n",
    "from oauth2client.service_account import ServiceAccountCredentials\n",
    "import json\n",
    "import re"
   ]
  },
  {
   "cell_type": "code",
   "execution_count": 375,
   "id": "25b6bf40",
   "metadata": {},
   "outputs": [],
   "source": [
    "\n",
    "\n",
    "def get_data(work_sheet, num: int):    \n",
    "    # выгрузка данных из Spreadsheet\n",
    "    year = re.search(r'(20)+(\\d{2})', work_sheet.get_worksheet(num).title).group(0)\n",
    "    data = work_sheet.get_worksheet(num).get_all_values()\n",
    "    headers = data.pop(0)\n",
    "\n",
    "    costs_start_counter = 0\n",
    "    costs_end_counter = 0\n",
    "    incomes_counter = 0\n",
    "\n",
    "    # вычисление индексов строк с расходами\n",
    "    for j in range(len(data)):\n",
    "        if data[j][0] == 'ВСЕГО':\n",
    "            costs_start_counter = j + 1\n",
    "        elif 'Сумма' in data[j][0]:\n",
    "            costs_end_counter = j\n",
    "            break\n",
    "    \n",
    "    # вычисление индекса строки с доходами\n",
    "    for j in range(len(data)):\n",
    "        if 'доходы/расходы рабочие' in data[j][0]:\n",
    "            incomes_counter = j\n",
    "            break\n",
    "            \n",
    "    # загрузка данных в df        \n",
    "    costs_df = pd.DataFrame(data[costs_start_counter:costs_end_counter], columns=headers)\n",
    "    incomes_df = pd.DataFrame(data[incomes_counter:incomes_counter + 1], columns=headers)\n",
    "\n",
    "    # переименование колонок\n",
    "    costs_df = costs_df.rename(columns={'Среднее за год': f'{year}_AVG',\n",
    "                                        'ГОД': f'{year}_year',\n",
    "                                        'Наименование': 'name'})\n",
    "    incomes_df = incomes_df.rename(columns={'Среднее за год': f'{year}_AVG',\n",
    "                                        'ГОД': f'{year}_year',\n",
    "                                        'Наименование': 'name'})\n",
    "\n",
    "    monthes = {'Январь': '01', 'Февраль': '02', 'Март': '03', 'Апрель': '04', 'Май': '05', \n",
    "               'Июнь': '06', 'Июль': '07', 'Август': '08', 'Сентябрь': '09', 'Октябрь': '10', \n",
    "               'Ноябрь': '11', 'Декабрь': '12'}\n",
    "    costs_df.columns = map(lambda x: f'{year}-{str(monthes[x])}-01' if x in monthes else x,\n",
    "                           costs_df.columns)\n",
    "    incomes_df.columns = map(lambda x: f'{year}-{str(monthes[x])}-01' if x in monthes else x,\n",
    "                             incomes_df.columns)\n",
    "    \n",
    "    # формирование возвращаемых df: по категориям и аггрегированные колонки\n",
    "    # расходы\n",
    "    costs_sum_avg_df = costs_df.loc[:, ['name', f'{year}_year', f'{year}_AVG']]\\\n",
    "                               .replace('', '0')\n",
    "    costs_df = costs_df.drop([f'{year}_year', f'{year}_AVG'], axis=1).replace('', '0')\n",
    "    \n",
    "    # доходы\n",
    "    incomes_sum_avg_df = incomes_df.loc[:, ['name', f'{year}_year', f'{year}_AVG']]\\\n",
    "                                   .replace('', '0')\n",
    "    incomes_df = incomes_df.drop([f'{year}_year', f'{year}_AVG'], axis=1).replace('', '0')\n",
    "    \n",
    "\n",
    "    return costs_df, costs_sum_avg_df, incomes_df, incomes_sum_avg_df\n",
    "\n",
    "        "
   ]
  },
  {
   "cell_type": "code",
   "execution_count": 376,
   "id": "80fd2791",
   "metadata": {},
   "outputs": [],
   "source": [
    "'1. Подготовка'\n",
    "json_key = 'APIs/gspread-0d53a14d8aa7.json'\n",
    "with open(json_key, 'r') as j:\n",
    "    contents = json.loads(j.read())\n",
    "scope = ['https://spreadsheets.google.com/feeds',\n",
    "         'https://www.googleapis.com/auth/drive']\n",
    "my_mail = 'dima.greensfan@gmail.com'"
   ]
  },
  {
   "cell_type": "code",
   "execution_count": 256,
   "id": "7bc53d47",
   "metadata": {},
   "outputs": [],
   "source": [
    "'2. Авторизация'\n",
    "credentials = ServiceAccountCredentials.from_json_keyfile_name(json_key, scope)\n",
    "gs = gspread.authorize(credentials)"
   ]
  },
  {
   "cell_type": "code",
   "execution_count": 327,
   "id": "f4d4b5b4",
   "metadata": {},
   "outputs": [
    {
     "data": {
      "text/plain": [
       "<Worksheet 'Расходы 2019_сводник' id:102313575>"
      ]
     },
     "execution_count": 327,
     "metadata": {},
     "output_type": "execute_result"
    }
   ],
   "source": [
    "'3. Загрузка таблицы из Spreadsheet'\n",
    "table_name = 'Сводная таблица расходов и доходов'\n",
    "work_sheet = gs.open(table_name)\n",
    "worksheets_list = work_sheet.worksheets()\n",
    "worksheets_list.pop()"
   ]
  },
  {
   "cell_type": "code",
   "execution_count": 404,
   "id": "d7d76dc6",
   "metadata": {},
   "outputs": [],
   "source": [
    "'4. Формируем итоговые датафреймы'\n",
    "costs_df = pd.DataFrame()\n",
    "incomes_df = pd.DataFrame()\n",
    "\n",
    "for i in range(len(worksheets_list))[::-1]:\n",
    "    if i == len(worksheets_list) - 1:    \n",
    "        costs_df, sum_avg_costs_df, incomes_df, sum_avg_incomes_df = get_data(work_sheet, i)\n",
    "    else:\n",
    "        df_list = get_data(work_sheet, i)\n",
    "        \n",
    "        costs_df = costs_df.merge(df_list[0], on='name', how='outer').fillna('0')\n",
    "        sum_avg_costs_df = sum_avg_costs_df.merge(df_list[1], on='name', how='outer')\\\n",
    "                                           .fillna('0')\n",
    "        incomes_df = incomes_df.merge(df_list[2], on='name', how='outer').fillna('0')\n",
    "        sum_avg_incomes_df = sum_avg_incomes_df.merge(df_list[3], on='name', how='outer')\\\n",
    "                                               .fillna('0')\n",
    "        \n",
    "for col in costs_df.columns.drop('name'):\n",
    "    costs_df[col] = costs_df[col].apply(lambda x: int(re.sub('[\\sр.]', '', x)))\n",
    "\n",
    "for col in sum_avg_costs_df.columns.drop('name'):\n",
    "    sum_avg_costs_df[col] = sum_avg_costs_df[col].apply(lambda x: int(re.sub('[\\sр.]', '', \n",
    "                                                                             x)))\n",
    "for col in incomes_df.columns.drop('name'):\n",
    "    incomes_df[col] = incomes_df[col].apply(lambda x: int(re.sub('[\\sр.]', '', x)))\n",
    "\n",
    "for col in sum_avg_incomes_df.columns.drop('name'):\n",
    "    sum_avg_incomes_df[col] = sum_avg_incomes_df[col].apply(lambda x: int(re.sub('[\\sр.]',\\\n",
    "                                                                                 '', x)))"
   ]
  },
  {
   "cell_type": "code",
   "execution_count": 405,
   "id": "aff29c0a",
   "metadata": {},
   "outputs": [],
   "source": [
    "'5. Транспонируем датафреймы'\n",
    "costs_df = costs_df.set_index('name').T\n",
    "sum_avg_costs_df = sum_avg_costs_df.set_index('name').T\n",
    "incomes_df = incomes_df.set_index('name').T\n",
    "sum_avg_incomes_df = sum_avg_incomes_df.set_index('name').T"
   ]
  },
  {
   "cell_type": "code",
   "execution_count": null,
   "id": "80bcd450",
   "metadata": {},
   "outputs": [],
   "source": []
  },
  {
   "cell_type": "code",
   "execution_count": null,
   "id": "5a97288e",
   "metadata": {},
   "outputs": [],
   "source": []
  },
  {
   "cell_type": "code",
   "execution_count": null,
   "id": "4c6efa38",
   "metadata": {},
   "outputs": [],
   "source": []
  },
  {
   "cell_type": "markdown",
   "id": "0ccaeaee",
   "metadata": {},
   "source": [
    "### Перенос df в Google Spreadsheets"
   ]
  },
  {
   "cell_type": "markdown",
   "id": "68be14e0",
   "metadata": {},
   "source": [
    "**I. Если таблица еще не создана**"
   ]
  },
  {
   "cell_type": "code",
   "execution_count": 380,
   "id": "77d9a81c",
   "metadata": {},
   "outputs": [],
   "source": [
    "'6. Создаем новую таблицу в Google Spreadsheets'\n",
    "new_table_name = 'incomes_costs_data'\n",
    "sheet = gs.create(new_table_name)"
   ]
  },
  {
   "cell_type": "code",
   "execution_count": 381,
   "id": "e7e44d97",
   "metadata": {},
   "outputs": [
    {
     "data": {
      "text/plain": [
       "<Response [200]>"
      ]
     },
     "execution_count": 381,
     "metadata": {},
     "output_type": "execute_result"
    }
   ],
   "source": [
    "'7. Делаем таблицу видимой'\n",
    "sheet.share(my_mail, perm_type='user', role='writer')"
   ]
  },
  {
   "cell_type": "code",
   "execution_count": 382,
   "id": "bd30fd44",
   "metadata": {},
   "outputs": [
    {
     "data": {
      "text/plain": [
       "<Worksheet 'sum_avg_incomes' id:65774203>"
      ]
     },
     "execution_count": 382,
     "metadata": {},
     "output_type": "execute_result"
    }
   ],
   "source": [
    "sheet_name = 'costs'\n",
    "d2g.upload(costs_df, new_table_name, sheet_name, credentials=credentials, row_names=True)\n",
    "\n",
    "sheet_name = 'sum_avg_costs'\n",
    "d2g.upload(sum_avg_costs_df, new_table_name, sheet_name, credentials=credentials, \n",
    "           row_names=True)\n",
    "\n",
    "sheet_name = 'incomes'\n",
    "d2g.upload(incomes_df, new_table_name, sheet_name, credentials=credentials, \n",
    "           row_names=True)\n",
    "\n",
    "sheet_name = 'sum_avg_incomes'\n",
    "d2g.upload(sum_avg_incomes_df, new_table_name, sheet_name, credentials=credentials, \n",
    "           row_names=True)"
   ]
  },
  {
   "cell_type": "markdown",
   "id": "3e049657",
   "metadata": {},
   "source": [
    "**II. Если таблица уже создана**"
   ]
  },
  {
   "cell_type": "code",
   "execution_count": 406,
   "id": "9942060a",
   "metadata": {},
   "outputs": [],
   "source": [
    "'6. Открываем таблицу в Google Spreadsheets'\n",
    "table_name = 'incomes_costs_data'\n",
    "sheet = gs.open(table_name)"
   ]
  },
  {
   "cell_type": "code",
   "execution_count": 391,
   "id": "1b319639",
   "metadata": {},
   "outputs": [
    {
     "data": {
      "text/plain": [
       "<Worksheet 'sum_avg_costs' id:1689862491>"
      ]
     },
     "execution_count": 391,
     "metadata": {},
     "output_type": "execute_result"
    }
   ],
   "source": [
    "sheet_name = 'costs'\n",
    "d2g.upload(costs_df, table_name, sheet_name, credentials=credentials, row_names=True)\n",
    "\n",
    "sheet_name = 'sum_avg_costs'\n",
    "d2g.upload(sum_avg_costs_df, table_name, sheet_name, credentials=credentials, \n",
    "           row_names=True)"
   ]
  },
  {
   "cell_type": "code",
   "execution_count": 407,
   "id": "bf9d25e6",
   "metadata": {},
   "outputs": [
    {
     "data": {
      "text/plain": [
       "<Worksheet 'sum_avg_incomes' id:65774203>"
      ]
     },
     "execution_count": 407,
     "metadata": {},
     "output_type": "execute_result"
    }
   ],
   "source": [
    "sheet_name = 'incomes'\n",
    "d2g.upload(incomes_df, table_name, sheet_name, credentials=credentials, \n",
    "           row_names=True)\n",
    "\n",
    "sheet_name = 'sum_avg_incomes'\n",
    "d2g.upload(sum_avg_incomes_df, table_name, sheet_name, credentials=credentials, \n",
    "           row_names=True)"
   ]
  },
  {
   "cell_type": "code",
   "execution_count": null,
   "id": "e44ba0b6",
   "metadata": {},
   "outputs": [],
   "source": []
  },
  {
   "cell_type": "code",
   "execution_count": null,
   "id": "0a5ca5d3",
   "metadata": {},
   "outputs": [],
   "source": []
  },
  {
   "cell_type": "code",
   "execution_count": null,
   "id": "d8fd44cf",
   "metadata": {},
   "outputs": [],
   "source": []
  },
  {
   "cell_type": "code",
   "execution_count": null,
   "id": "425f3e69",
   "metadata": {},
   "outputs": [],
   "source": []
  }
 ],
 "metadata": {
  "kernelspec": {
   "display_name": "Python 3 (ipykernel)",
   "language": "python",
   "name": "python3"
  },
  "language_info": {
   "codemirror_mode": {
    "name": "ipython",
    "version": 3
   },
   "file_extension": ".py",
   "mimetype": "text/x-python",
   "name": "python",
   "nbconvert_exporter": "python",
   "pygments_lexer": "ipython3",
   "version": "3.9.12"
  }
 },
 "nbformat": 4,
 "nbformat_minor": 5
}
